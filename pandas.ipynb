{
 "cells": [
  {
   "cell_type": "markdown",
   "metadata": {},
   "source": [
    "---\n",
    "layout: page\n",
    "mathjax: true\n",
    "title: \"Primers • Pandas Tutorial\"\n",
    "---\n",
    "* Table of Contents:\n",
    "{:toc}\n",
    "\n",
    "<br>\n",
    "<a href=\"https://colab.research.google.com/github/amanchadha/aman-ai/blob/master/pandas.ipynb\" target=\"new\">\n",
    "<img class=\"colab-badge\" src=\"../assets/colab-open.svg\" alt=\"Colab Notebook\" align=\"center\" style=\"width: 117px;\" />\n",
    "</a>    \n",
    "\n",
    "## Overview\n",
    "\n",
    "- The pandas library provides high-performance, easy-to-use data structures and data analysis tools. The main data structure is the `DataFrame`, which you can think of as an in-memory 2D table (like a spreadsheet, with column names and row labels). \n",
    "- Many features available in Excel are available programmatically, such as creating pivot tables, computing columns based on other columns, plotting graphs, etc. You can also group rows by column value, or join tables much like in SQL. Pandas is also great at handling time series data.\n",
    "\n",
    "## Background\n",
    "\n",
    "- It's possible that Python wouldn't have become [the lingua franca of data science if it wasn't for pandas](https://stackoverflow.blog/2017/09/14/python-growing-quickly/). The package's exponential growth on Stack Overflow means two things:"
   ]
  },
  {
   "cell_type": "code",
   "execution_count": null,
   "metadata": {},
   "outputs": [],
   "source": [
    "1. It's getting increasingly popular.\n",
    "2. It can be frustrating to use sometimes (hence the high number of questions)."
   ]
  },
  {
   "cell_type": "markdown",
   "metadata": {},
   "source": [
    "- This tutorial contains a few peculiar things about pandas that hopefully make your life easier and code faster.\n",
    "\n",
    "## Prerequisites\n",
    "\n",
    "- If you are not familiar with NumPy, we recommend that you go through the [NumPy tutorial](../numpy) now.\n",
    "\n",
    "## Setup\n",
    "\n",
    "- First, let's import pandas. People usually import it as `pd`:"
   ]
  },
  {
   "cell_type": "code",
   "execution_count": null,
   "metadata": {},
   "outputs": [],
   "source": [
    "```python\n",
    "import pandas as pd\n",
    "```"
   ]
  },
  {
   "cell_type": "markdown",
   "metadata": {},
   "source": [
    "## Overview: Pandas data-structures \n",
    "\n",
    "- The pandas library contains these useful data structures:\n",
    "    - `Series` objects: A `Series` object is 1D array, similar to a column in a spreadsheet (with a column name and row labels).\n",
    "    - `DataFrame` objects: A `DataFrame` is a concept inspired by R's Data Frame, which is, in turn, similar to tables in relational databases. This is a 2D table with rows and columns, similar to a spreadsheet (with names for columns and labels for rows).\n",
    "    - `Panel` objects: You can see a `Panel` as a dictionary of `DataFrame`s. These are less used, so we will not discuss them here.\n",
    "\n",
    "## pandas is column-major\n",
    "\n",
    "> An important thing to know about pandas is that it is column-major, which explains many of its quirks.\n",
    "\n",
    "- Column-major means consecutive elements in a column are stored next to each other in memory. Row-major means the same but for elements in a row. Because modern computers process sequential data more efficiently than non-sequential data, if a table is row-major, accessing its rows will be much faster than accessing its columns.\n",
    "- In NumPy, major order can be specified. When a `ndarray` is created, it's row-major by default if you don't specify the order.\n",
    "- Like R's Data Frame, pandas' `DataFrame` is column-major. People coming to pandas from NumPy tend to treat `DataFrame` the way they would `ndarray`, e.g. trying to access data by rows, and find `DataFrame` slow.\n",
    "- **Note**: A column in a `DataFrame` is a `Series`. You can think of a `DataFrame` as a bunch of `Series` being stored next to each other in memory.\n",
    "- **For our dataset, accessing a row takes about 50x longer than accessing a column in our `DataFrame`.**\n",
    "- Run the following code snippet in a Colab/Jupyter notebook:"
   ]
  },
  {
   "cell_type": "code",
   "execution_count": null,
   "metadata": {},
   "outputs": [],
   "source": [
    "```python\n",
    "# Get the column `date`, 1000 loops\n",
    "%timeit -n1000 df[\"Date\"]\n",
    "\n",
    "# Get the first row, 1000 loops\n",
    "%timeit -n1000 df.iloc[0]\n",
    "```\n",
    "\n",
    "- which outputs:\n",
    "\n",
    "```\n",
    "1.78 µs ± 167 ns per loop (mean ± std. dev. of 7 runs, 1000 loops each)\n",
    "145 µs ± 9.41 µs per loop (mean ± std. dev. of 7 runs, 1000 loops each)\n",
    "```"
   ]
  },
  {
   "cell_type": "markdown",
   "metadata": {},
   "source": [
    "### Converting DataFrame to row-major order\n",
    "\n",
    "- If you need to do a lot of row operations, you might want to convert your `DataFrame` to a NumPy's row-major `ndarray`, then iterating through the rows. Run the following code snippet in a Colab/Jupyter notebook:"
   ]
  },
  {
   "cell_type": "code",
   "execution_count": null,
   "metadata": {},
   "outputs": [],
   "source": [
    "```python\n",
    "# Now, iterating through our DataFrame is 100x faster.\n",
    "%timeit -n1 df_np = df.to_numpy(); rows = [row for row in df_np]\n",
    "```\n",
    "\n",
    "- which outputs:\n",
    "\n",
    "```\n",
    "4.55 ms ± 280 µs per loop (mean ± std. dev. of 7 runs, 1 loop each)\n",
    "```"
   ]
  },
  {
   "cell_type": "markdown",
   "metadata": {},
   "source": [
    "- Accessing a row or a column of our `ndarray` takes nanoseconds instead of microseconds. Run the following code snippet in a Colab/Jupyter notebook:"
   ]
  },
  {
   "cell_type": "code",
   "execution_count": null,
   "metadata": {},
   "outputs": [],
   "source": [
    "```python\n",
    "df_np = df.to_numpy()\n",
    "%timeit -n1000 df_np[0]\n",
    "%timeit -n1000 df_np[:,0]\n",
    "```\n",
    "\n",
    "- which outputs:\n",
    "\n",
    "```\n",
    "147 ns ± 1.54 ns per loop (mean ± std. dev. of 7 runs, 1000 loops each)\n",
    "204 ns ± 0.678 ns per loop (mean ± std. dev. of 7 runs, 1000 loops each)\n",
    "```"
   ]
  },
  {
   "cell_type": "markdown",
   "metadata": {},
   "source": [
    "## `Series` objects\n",
    "\n",
    "### Creating a `Series`\n",
    "\n",
    "- Let's start by creating our first `Series` object!"
   ]
  },
  {
   "cell_type": "code",
   "execution_count": null,
   "metadata": {},
   "outputs": [],
   "source": [
    "```python\n",
    "import pandas as pd\n",
    "\n",
    "pd.Series([1, 2, 3])\n",
    "```\n",
    "\n",
    "- which outputs:\n",
    "\n",
    "```\n",
    "0    1\n",
    "1    2\n",
    "2    3\n",
    "dtype: int64\n",
    "```"
   ]
  },
  {
   "cell_type": "markdown",
   "metadata": {},
   "source": [
    "### Similar to a 1D `ndarray`\n",
    "\n",
    "- `Series` objects behave much like one-dimensional NumPy `ndarray`s, and you can often pass them as parameters to NumPy functions:"
   ]
  },
  {
   "cell_type": "code",
   "execution_count": null,
   "metadata": {},
   "outputs": [],
   "source": [
    "```python\n",
    "import pandas as pd\n",
    "\n",
    "s = pd.Series([1, 2, 3])\n",
    "np.exp(s)\n",
    "```\n",
    "\n",
    "- which outputs:\n",
    "\n",
    "```\n",
    "0     2.718282\n",
    "1     7.389056\n",
    "2    20.085537\n",
    "dtype: float64\n",
    "```"
   ]
  },
  {
   "cell_type": "markdown",
   "metadata": {},
   "source": [
    "- Arithmetic operations on `Series` are also possible, and they apply **elementwise**, just like for `ndarray`s:"
   ]
  },
  {
   "cell_type": "code",
   "execution_count": null,
   "metadata": {},
   "outputs": [],
   "source": [
    "```python\n",
    "s = pd.Series([1, 2, 3])\n",
    "np.exp(s)\n",
    "s + [1000, 2000, 3000]\n",
    "```\n",
    "\n",
    "- which outputs:\n",
    "\n",
    "```\n",
    "0    1001\n",
    "1    2002\n",
    "2    3003\n",
    "dtype: int64\n",
    "```"
   ]
  },
  {
   "cell_type": "markdown",
   "metadata": {},
   "source": [
    "- Similar to NumPy, if you add a single number to a `Series`, that number is added to all items in the `Series`. This is called **broadcasting**:"
   ]
  },
  {
   "cell_type": "code",
   "execution_count": null,
   "metadata": {},
   "outputs": [],
   "source": [
    "```python\n",
    "s = pd.Series([1, 2, 3])\n",
    "np.exp(s)\n",
    "s + 1000\n",
    "```\n",
    "\n",
    "- which outputs:\n",
    "\n",
    "```\n",
    "0    1001\n",
    "1    1002\n",
    "2    1003\n",
    "dtype: int64\n",
    "```"
   ]
  },
  {
   "cell_type": "markdown",
   "metadata": {},
   "source": [
    "- The same is true for all binary operations such as `*` or `/`, and even conditional operations:"
   ]
  },
  {
   "cell_type": "code",
   "execution_count": null,
   "metadata": {},
   "outputs": [],
   "source": [
    "```python\n",
    "s = pd.Series([1, 2, 3])\n",
    "np.exp(s)\n",
    "s < 0\n",
    "```\n",
    "\n",
    "- which outputs:\n",
    "\n",
    "```\n",
    "0    False\n",
    "1    False\n",
    "2    False\n",
    "dtype: bool\n",
    "```"
   ]
  },
  {
   "cell_type": "markdown",
   "metadata": {},
   "source": [
    "### Index labels\n",
    "\n",
    "- Each item in a `Series` object has a unique identifier called the **index label**. By default, it is simply the rank of the item in the `Series` (starting at `0`) but you can also set the index labels manually:"
   ]
  },
  {
   "cell_type": "code",
   "execution_count": null,
   "metadata": {},
   "outputs": [],
   "source": [
    "```python\n",
    "import pandas as pd\n",
    "\n",
    "s = pd.Series([68, 83, 112, 68], index=[\"alice\", \"bob\", \"charles\", \"darwin\"])\n",
    "s\n",
    "```\n",
    "\n",
    "- which outputs:\n",
    "\n",
    "```\n",
    "alice       68\n",
    "bob         83\n",
    "charles    112\n",
    "darwin      68\n",
    "dtype: int64\n",
    "```"
   ]
  },
  {
   "cell_type": "markdown",
   "metadata": {},
   "source": [
    "- You can then use the `Series` just like a `dict`:"
   ]
  },
  {
   "cell_type": "code",
   "execution_count": null,
   "metadata": {},
   "outputs": [],
   "source": [
    "```python\n",
    "s[\"bob\"]\n",
    "```\n",
    "\n",
    "- which outputs:\n",
    "\n",
    "```\n",
    "83\n",
    "```"
   ]
  },
  {
   "cell_type": "markdown",
   "metadata": {},
   "source": [
    "- You can still access the items by integer location, like in a regular array:"
   ]
  },
  {
   "cell_type": "code",
   "execution_count": null,
   "metadata": {},
   "outputs": [],
   "source": [
    "```python\n",
    "s[1]\n",
    "```\n",
    "\n",
    "- which outputs:\n",
    "\n",
    "```\n",
    "83\n",
    "```"
   ]
  },
  {
   "cell_type": "markdown",
   "metadata": {},
   "source": [
    "- To make it clear when you are accessing by label, it is recommended to always use the `loc` attribute when accessing by label:"
   ]
  },
  {
   "cell_type": "code",
   "execution_count": null,
   "metadata": {},
   "outputs": [],
   "source": [
    "```python\n",
    "s.loc[\"bob\"]\n",
    "```\n",
    "\n",
    "- which outputs:\n",
    "\n",
    "```\n",
    "83\n",
    "```"
   ]
  },
  {
   "cell_type": "markdown",
   "metadata": {},
   "source": [
    "- Similarly, to make it clear when you are accessing by integer location, it is recommended to always use the `iloc` attribute when accessing by integer location:"
   ]
  },
  {
   "cell_type": "code",
   "execution_count": null,
   "metadata": {},
   "outputs": [],
   "source": [
    "```python\n",
    "s2.iloc[1]\n",
    "```\n",
    "\n",
    "- which outputs:\n",
    "\n",
    "```\n",
    "83\n",
    "```"
   ]
  },
  {
   "cell_type": "markdown",
   "metadata": {},
   "source": [
    "- Slicing a `Series` also slices the index labels:"
   ]
  },
  {
   "cell_type": "code",
   "execution_count": null,
   "metadata": {},
   "outputs": [],
   "source": [
    "```python\n",
    "s.iloc[1:3]\n",
    "```\n",
    "\n",
    "- which outputs:\n",
    "\n",
    "```\n",
    "bob         83\n",
    "charles    112\n",
    "dtype: int64\n",
    "```"
   ]
  },
  {
   "cell_type": "markdown",
   "metadata": {},
   "source": [
    "- Pitfall: This can lead to unexpected results when using the default numeric labels, so be careful:"
   ]
  },
  {
   "cell_type": "code",
   "execution_count": null,
   "metadata": {},
   "outputs": [],
   "source": [
    "```python\n",
    "surprise = pd.Series([1000, 1001, 1002, 1003])\n",
    "surprise\n",
    "```\n",
    "\n",
    "- which outputs:\n",
    "\n",
    "```\n",
    "0    1000\n",
    "1    1001\n",
    "2    1002\n",
    "3    1003\n",
    "dtype: int64\n",
    "```\n",
    "\n",
    "```python\n",
    "surprise_slice = surprise[2:]\n",
    "surprise_slice\n",
    "```\n",
    "\n",
    "- which outputs:\n",
    "\n",
    "```\n",
    "2    1002\n",
    "3    1003\n",
    "dtype: int64\n",
    "```"
   ]
  },
  {
   "cell_type": "markdown",
   "metadata": {},
   "source": [
    "- Oh look! The first element has index label `2`. The element with index label `0` is absent from the slice:"
   ]
  },
  {
   "cell_type": "code",
   "execution_count": null,
   "metadata": {},
   "outputs": [],
   "source": [
    "```python\n",
    "try:\n",
    "    surprise_slice[0]\n",
    "except KeyError as e:\n",
    "    print(\"Key error:\", e)\n",
    "```\n",
    "\n",
    "- which outputs:\n",
    "\n",
    "```\n",
    "Key error: 0\n",
    "```"
   ]
  },
  {
   "cell_type": "markdown",
   "metadata": {},
   "source": [
    "- But remember that you can access elements by integer location using the `iloc` attribute. This illustrates another reason why it's always better to use `loc` and `iloc` to access `Series` objects:"
   ]
  },
  {
   "cell_type": "code",
   "execution_count": null,
   "metadata": {},
   "outputs": [],
   "source": [
    "```python\n",
    "surprise_slice.iloc[0]\n",
    "```\n",
    "\n",
    "- which outputs:\n",
    "\n",
    "```\n",
    "1002\n",
    "```"
   ]
  },
  {
   "cell_type": "markdown",
   "metadata": {},
   "source": [
    "### Init from `dict`\n",
    "\n",
    "- You can create a `Series` object from a `dict`. The keys will be used as index labels:"
   ]
  },
  {
   "cell_type": "code",
   "execution_count": null,
   "metadata": {},
   "outputs": [],
   "source": [
    "```python\n",
    "import pandas as pd\n",
    "\n",
    "weights = {\"alice\": 68, \"bob\": 83, \"colin\": 86, \"darwin\": 68}\n",
    "pd.Series(weights)\n",
    "```\n",
    "\n",
    "- which outputs:\n",
    "\n",
    "```\n",
    "alice     68\n",
    "bob       83\n",
    "colin     86\n",
    "darwin    68\n",
    "dtype: int64\n",
    "```"
   ]
  },
  {
   "cell_type": "markdown",
   "metadata": {},
   "source": [
    "- You can control which elements you want to include in the `Series` and in what order by explicitly specifying the desired `index`:"
   ]
  },
  {
   "cell_type": "code",
   "execution_count": null,
   "metadata": {},
   "outputs": [],
   "source": [
    "```python\n",
    "pd.Series(weights, index = [\"colin\", \"alice\"])\n",
    "```\n",
    "\n",
    "- which outputs:\n",
    "\n",
    "```\n",
    "colin    86\n",
    "alice    68\n",
    "dtype: int64\n",
    "```"
   ]
  },
  {
   "cell_type": "markdown",
   "metadata": {},
   "source": [
    "### Automatic alignment\n",
    "\n",
    "- When an operation involves multiple `Series` objects, pandas automatically aligns items by matching index labels."
   ]
  },
  {
   "cell_type": "code",
   "execution_count": null,
   "metadata": {},
   "outputs": [],
   "source": [
    "```python\n",
    "import pandas as pd\n",
    "\n",
    "s1 = pd.Series([68, 83, 112, 68], index=[\"alice\", \"bob\", \"charles\", \"darwin\"])\n",
    "\n",
    "weights = {\"alice\": 68, \"bob\": 83, \"colin\": 86, \"darwin\": 68}\n",
    "s2 = pd.Series(weights)\n",
    "\n",
    "print(s2.keys())\n",
    "print(s3.keys())\n",
    "\n",
    "s2 + s3\n",
    "```\n",
    "\n",
    "- which outputs:\n",
    "\n",
    "```\n",
    "alice     136\n",
    "bob       166\n",
    "colin     172\n",
    "darwin    136\n",
    "dtype: int64\n",
    "```"
   ]
  },
  {
   "cell_type": "markdown",
   "metadata": {},
   "source": [
    "- The resulting `Series` contains the union of index labels from `s2` and `s3`. Since `\"colin\"` is missing from `s2` and `\"charles\"` is missing from `s3`, these items have a `NaN` result value. (i.e., Not-a-Number means **missing**).\n",
    "- Automatic alignment is very handy when working with data that may come from various sources with varying structure and missing items. But if you forget to set the right index labels, you can have surprising results:"
   ]
  },
  {
   "cell_type": "code",
   "execution_count": null,
   "metadata": {},
   "outputs": [],
   "source": [
    "```python\n",
    "s1 = pd.Series([68, 83, 112, 68], index=[\"alice\", \"bob\", \"charles\", \"darwin\"])\n",
    "s2 = pd.Series([1000, 1000, 1000, 1000])\n",
    "\n",
    "print(\"s1 = \", s1.values)\n",
    "print(\"s2 = \", s2.values)\n",
    "\n",
    "s1 + s2\n",
    "```\n",
    "\n",
    "- which outputs:\n",
    "\n",
    "```\n",
    "alice     NaN\n",
    "bob       NaN\n",
    "charles   NaN\n",
    "darwin    NaN\n",
    "0         NaN\n",
    "1         NaN\n",
    "2         NaN\n",
    "3         NaN\n",
    "dtype: float64\n",
    "```"
   ]
  },
  {
   "cell_type": "markdown",
   "metadata": {},
   "source": [
    "- Pandas could not align the `Series`, since their labels do not match at all, hence the full `NaN` result.\n",
    "\n",
    "#### Init with a scalar\n",
    "\n",
    "- You can also initialize a `Series` object using a scalar and a list of index labels: all items will be set to the scalar."
   ]
  },
  {
   "cell_type": "code",
   "execution_count": null,
   "metadata": {},
   "outputs": [],
   "source": [
    "```python\n",
    "pd.Series(42, [\"life\", \"universe\", \"everything\"])\n",
    "```\n",
    "\n",
    "- which outputs:\n",
    "\n",
    "```\n",
    "life          42\n",
    "universe      42\n",
    "everything    42\n",
    "dtype: int64\n",
    "```"
   ]
  },
  {
   "cell_type": "markdown",
   "metadata": {},
   "source": [
    "#### `Series` name\n",
    "\n",
    "- A `Series` can have a `name`:"
   ]
  },
  {
   "cell_type": "code",
   "execution_count": null,
   "metadata": {},
   "outputs": [],
   "source": [
    "```python\n",
    "pd.Series([83, 68], index=[\"bob\", \"alice\"], name=\"weights\")\n",
    "```\n",
    "\n",
    "- which outputs:\n",
    "\n",
    "```\n",
    "bob      83\n",
    "alice    68\n",
    "Name: weights, dtype: int64\n",
    "```"
   ]
  },
  {
   "cell_type": "markdown",
   "metadata": {},
   "source": [
    "#### Plotting a `Series`\n",
    "\n",
    "- Pandas makes it easy to plot `Series` data using matplotlib (for more details on matplotlib, check out the [matplotlib tutorial](tools_matplotlib.ipynb)). \n",
    "- Just import matplotlib and call the `plot()` method:"
   ]
  },
  {
   "cell_type": "code",
   "execution_count": null,
   "metadata": {},
   "outputs": [],
   "source": [
    "```python\n",
    "%matplotlib inline\n",
    "import matplotlib.pyplot as plt\n",
    "\n",
    "temperatures = [4.4, 5.1, 6.1, 6.2, 6.1, 6.1, 5.7, 5.2, 4.7, 4.1, 3.9, 3.5]\n",
    "s = pd.Series(temperatures, name=\"Temperature\")\n",
    "s.plot()\n",
    "plt.show()\n",
    "```\n",
    "\n",
    "- which outputs:\n",
    "\n",
    "<img src=\"../assets/pandas/1.jpg\" align=\"center\" style=\"background-color: #fff; margin: 10px auto\" />"
   ]
  },
  {
   "cell_type": "markdown",
   "metadata": {},
   "source": [
    "- There are **many** options for plotting your data. It is not necessary to list them all here: if you need a particular type of plot (histograms, pie charts, etc.), just look for it in the excellent [visualization](http://pandas.pydata.org/pandas-docs/stable/visualization.html) section of pandas' documentation, and look at the example code.\n",
    "\n",
    "## Handling time\n",
    "\n",
    "- Many datasets have timestamps, and pandas is awesome at manipulating such data:"
   ]
  },
  {
   "cell_type": "code",
   "execution_count": null,
   "metadata": {},
   "outputs": [],
   "source": [
    "* It can represent periods (such as 2016Q3) and frequencies (such as \"monthly\"),\n",
    "* It can convert periods to actual timestamps, and **vice versa**,\n",
    "* It can resample data and aggregate values any way you like,\n",
    "* It can handle timezones."
   ]
  },
  {
   "cell_type": "markdown",
   "metadata": {},
   "source": [
    "#### Time range\n",
    "\n",
    "- Let's start by creating a time series using `pd.date_range()`. This returns a `DatetimeIndex` containing one datetime per hour for 12 hours starting on October 29th 2016 at 5:30PM."
   ]
  },
  {
   "cell_type": "code",
   "execution_count": null,
   "metadata": {},
   "outputs": [],
   "source": [
    "```python\n",
    "import pandas as pd\n",
    "\n",
    "dates = pd.date_range('2016/10/29 5:30pm', periods=12, freq='H')\n",
    "dates\n",
    "```\n",
    "\n",
    "- which outputs:\n",
    "\n",
    "```\n",
    "DatetimeIndex(['2016-10-29 17:30:00', '2016-10-29 18:30:00',\n",
    "               '2016-10-29 19:30:00', '2016-10-29 20:30:00',\n",
    "               '2016-10-29 21:30:00', '2016-10-29 22:30:00',\n",
    "               '2016-10-29 23:30:00', '2016-10-30 00:30:00',\n",
    "               '2016-10-30 01:30:00', '2016-10-30 02:30:00',\n",
    "               '2016-10-30 03:30:00', '2016-10-30 04:30:00'],\n",
    "               dtype='datetime64[ns]', freq='H')\n",
    "```"
   ]
  },
  {
   "cell_type": "markdown",
   "metadata": {},
   "source": [
    "- This `DatetimeIndex` may be used as an index in a `Series`:"
   ]
  },
  {
   "cell_type": "code",
   "execution_count": null,
   "metadata": {},
   "outputs": [],
   "source": [
    "```python\n",
    "temperatures = [4.4, 5.1, 6.1, 6.2, 6.1, 6.1, 5.7, 5.2, 4.7, 4.1, 3.9, 3.5]\n",
    "temp_series = pd.Series(temperatures, dates)\n",
    "temp_series\n",
    "```\n",
    "\n",
    "- which outputs:\n",
    "\n",
    "```\n",
    "2016-10-29 17:30:00    4.4\n",
    "2016-10-29 18:30:00    5.1\n",
    "2016-10-29 19:30:00    6.1\n",
    "2016-10-29 20:30:00    6.2\n",
    "2016-10-29 21:30:00    6.1\n",
    "2016-10-29 22:30:00    6.1\n",
    "2016-10-29 23:30:00    5.7\n",
    "2016-10-30 00:30:00    5.2\n",
    "2016-10-30 01:30:00    4.7\n",
    "2016-10-30 02:30:00    4.1\n",
    "2016-10-30 03:30:00    3.9\n",
    "2016-10-30 04:30:00    3.5\n",
    "Freq: H, dtype: float64\n",
    "```"
   ]
  },
  {
   "cell_type": "markdown",
   "metadata": {},
   "source": [
    "- Let's plot this series:"
   ]
  },
  {
   "cell_type": "code",
   "execution_count": null,
   "metadata": {},
   "outputs": [],
   "source": [
    "```python\n",
    "import matplotlib.pyplot as plt\n",
    "\n",
    "temp_series.plot(kind=\"bar\")\n",
    "\n",
    "plt.grid(True)\n",
    "plt.show()\n",
    "```\n",
    "\n",
    "- which outputs:\n",
    "\n",
    "<img src=\"../assets/pandas/2.png\" align=\"center\" style=\"background-color: #fff; margin: 10px auto\" />"
   ]
  },
  {
   "cell_type": "markdown",
   "metadata": {},
   "source": [
    "### Resampling\n",
    "\n",
    "- Pandas lets us resample a time series very simply. Just call the `resample()` method and specify a new frequency:"
   ]
  },
  {
   "cell_type": "code",
   "execution_count": null,
   "metadata": {},
   "outputs": [],
   "source": [
    "```python\n",
    "import pandas as pd\n",
    "\n",
    "temp_series = pd.Series({pd.Timestamp('2016-10-29 17:30:00', freq='H'): 4.4, pd.Timestamp('2016-10-29 18:30:00', freq='H'): 5.1, pd.Timestamp('2016-10-29 19:30:00', freq='H'): 6.1, pd.Timestamp('2016-10-29 20:30:00', freq='H'): 6.2, pd.Timestamp('2016-10-29 21:30:00', freq='H'): 6.1, pd.Timestamp('2016-10-29 22:30:00', freq='H'): 6.1, pd.Timestamp('2016-10-29 23:30:00', freq='H'): 5.7, pd.Timestamp('2016-10-30 00:30:00', freq='H'): 5.2, pd.Timestamp('2016-10-30 01:30:00', freq='H'): 4.7, pd.Timestamp('2016-10-30 02:30:00', freq='H'): 4.1, pd.Timestamp('2016-10-30 03:30:00', freq='H'): 3.9, pd.Timestamp('2016-10-30 04:30:00', freq='H'): 3.5})\n",
    "\n",
    "temp_series_freq_2H = temp_series.resample(\"2H\")\n",
    "temp_series_freq_2H\n",
    "```\n",
    "\n",
    "- which outputs:\n",
    "\n",
    "```\n",
    "<pandas.core.resample.DatetimeIndexResampler object at [address]>\n",
    "```"
   ]
  },
  {
   "cell_type": "markdown",
   "metadata": {},
   "source": [
    "- The resampling operation is actually a deferred operation, which is why we did not get a `Series` object, but a `DatetimeIndexResampler` object instead. To actually perform the resampling operation, we can simply call the `mean()` method: Pandas will compute the mean of every pair of consecutive hours:"
   ]
  },
  {
   "cell_type": "code",
   "execution_count": null,
   "metadata": {},
   "outputs": [],
   "source": [
    "```python\n",
    "temp_series_freq_2H = temp_series_freq_2H.mean()\n",
    "temp_series_freq_2H\n",
    "```\n",
    "\n",
    "- which outputs:\n",
    "\n",
    "```\n",
    "2016-10-29 16:00:00    4.40\n",
    "2016-10-29 18:00:00    5.60\n",
    "2016-10-29 20:00:00    6.15\n",
    "2016-10-29 22:00:00    5.90\n",
    "2016-10-30 00:00:00    4.95\n",
    "2016-10-30 02:00:00    4.00\n",
    "2016-10-30 04:00:00    3.50\n",
    "Freq: 2H, dtype: float64\n",
    "```"
   ]
  },
  {
   "cell_type": "markdown",
   "metadata": {},
   "source": [
    "- Let's plot the result:"
   ]
  },
  {
   "cell_type": "code",
   "execution_count": null,
   "metadata": {},
   "outputs": [],
   "source": [
    "```python\n",
    "temp_series_freq_2H.plot(kind=\"bar\")\n",
    "plt.show()\n",
    "```\n",
    "\n",
    "- which outputs:\n",
    "\n",
    "<img src=\"../assets/pandas/3.png\" align=\"center\" style=\"background-color: #fff; margin: 10px auto\" />"
   ]
  },
  {
   "cell_type": "markdown",
   "metadata": {},
   "source": [
    "- Note how the values have automatically been aggregated into 2-hour periods. If we look at the 6-8PM period, for example, we had a value of `5.1` at 6:30PM, and `6.1` at 7:30PM. After resampling, we just have one value of `5.6`, which is the mean of `5.1` and `6.1`. Rather than computing the mean, we could have used any other aggregation function, for example we can decide to keep the minimum value of each period:"
   ]
  },
  {
   "cell_type": "code",
   "execution_count": null,
   "metadata": {},
   "outputs": [],
   "source": [
    "```python\n",
    "temp_series_freq_2H = temp_series.resample(\"2H\").min()\n",
    "temp_series_freq_2H\n",
    "```\n",
    "\n",
    "- which outputs:\n",
    "\n",
    "```\n",
    "2016-10-29 16:00:00    4.4\n",
    "2016-10-29 18:00:00    5.1\n",
    "2016-10-29 20:00:00    6.1\n",
    "2016-10-29 22:00:00    5.7\n",
    "2016-10-30 00:00:00    4.7\n",
    "2016-10-30 02:00:00    3.9\n",
    "2016-10-30 04:00:00    3.5\n",
    "Freq: 2H, dtype: float64\n",
    "```"
   ]
  },
  {
   "cell_type": "markdown",
   "metadata": {},
   "source": [
    "- Or, equivalently, we could use the `apply()` method instead:"
   ]
  },
  {
   "cell_type": "code",
   "execution_count": null,
   "metadata": {},
   "outputs": [],
   "source": [
    "```python\n",
    "import numpy as np\n",
    "\n",
    "temp_series_freq_2H = temp_series.resample(\"2H\").apply(np.min)\n",
    "temp_series_freq_2H\n",
    "```\n",
    "\n",
    "- which outputs:\n",
    "\n",
    "```\n",
    "2016-10-29 16:00:00    4.4\n",
    "2016-10-29 18:00:00    5.1\n",
    "2016-10-29 20:00:00    6.1\n",
    "2016-10-29 22:00:00    5.7\n",
    "2016-10-30 00:00:00    4.7\n",
    "2016-10-30 02:00:00    3.9\n",
    "2016-10-30 04:00:00    3.5\n",
    "Freq: 2H, dtype: float64\n",
    "```"
   ]
  },
  {
   "cell_type": "markdown",
   "metadata": {},
   "source": [
    "### Upsampling and interpolation\n",
    "\n",
    "- The [above](#resampling) was an example of downsampling. We can also upsample (i.e., increase the frequency), but this creates holes in our data:"
   ]
  },
  {
   "cell_type": "code",
   "execution_count": null,
   "metadata": {},
   "outputs": [],
   "source": [
    "```python\n",
    "import pandas as pd\n",
    "\n",
    "temp_series = pd.Series({pd.Timestamp('2016-10-29 17:30:00', freq='H'): 4.4, pd.Timestamp('2016-10-29 18:30:00', freq='H'): 5.1, pd.Timestamp('2016-10-29 19:30:00', freq='H'): 6.1, pd.Timestamp('2016-10-29 20:30:00', freq='H'): 6.2, pd.Timestamp('2016-10-29 21:30:00', freq='H'): 6.1, pd.Timestamp('2016-10-29 22:30:00', freq='H'): 6.1, pd.Timestamp('2016-10-29 23:30:00', freq='H'): 5.7, pd.Timestamp('2016-10-30 00:30:00', freq='H'): 5.2, pd.Timestamp('2016-10-30 01:30:00', freq='H'): 4.7, pd.Timestamp('2016-10-30 02:30:00', freq='H'): 4.1, pd.Timestamp('2016-10-30 03:30:00', freq='H'): 3.9, pd.Timestamp('2016-10-30 04:30:00', freq='H'): 3.5})\n",
    "\n",
    "temp_series_freq_15min = temp_series.resample(\"15Min\").mean()\n",
    "temp_series_freq_15min.head(n=10) # `head` displays the top n values\n",
    "```\n",
    "\n",
    "- which outputs:\n",
    "\n",
    "```\n",
    "2016-10-29 17:30:00    4.4\n",
    "2016-10-29 17:45:00    NaN\n",
    "2016-10-29 18:00:00    NaN\n",
    "2016-10-29 18:15:00    NaN\n",
    "2016-10-29 18:30:00    5.1\n",
    "2016-10-29 18:45:00    NaN\n",
    "2016-10-29 19:00:00    NaN\n",
    "2016-10-29 19:15:00    NaN\n",
    "2016-10-29 19:30:00    6.1\n",
    "2016-10-29 19:45:00    NaN\n",
    "Freq: 15T, dtype: float64\n",
    "```"
   ]
  },
  {
   "cell_type": "markdown",
   "metadata": {},
   "source": [
    "- One solution is to fill the gaps by interpolating. We just call the `interpolate()` method. The default is to use linear interpolation, but we can also select another method, such as cubic interpolation:"
   ]
  },
  {
   "cell_type": "code",
   "execution_count": null,
   "metadata": {},
   "outputs": [],
   "source": [
    "```python\n",
    "temp_series_freq_15min = temp_series.resample(\"15Min\").interpolate(method=\"cubic\")\n",
    "temp_series_freq_15min.head(n=10)\n",
    "```\n",
    "\n",
    "- which outputs:\n",
    "\n",
    "```\n",
    "2016-10-29 17:30:00    4.400000\n",
    "2016-10-29 17:45:00    4.452911\n",
    "2016-10-29 18:00:00    4.605113\n",
    "2016-10-29 18:15:00    4.829758\n",
    "2016-10-29 18:30:00    5.100000\n",
    "2016-10-29 18:45:00    5.388992\n",
    "2016-10-29 19:00:00    5.669887\n",
    "2016-10-29 19:15:00    5.915839\n",
    "2016-10-29 19:30:00    6.100000\n",
    "2016-10-29 19:45:00    6.203621\n",
    "Freq: 15T, dtype: float64\n",
    "```"
   ]
  },
  {
   "cell_type": "markdown",
   "metadata": {},
   "source": [
    "- Plotting the data:"
   ]
  },
  {
   "cell_type": "code",
   "execution_count": null,
   "metadata": {},
   "outputs": [],
   "source": [
    "```python\n",
    "temp_series.plot(label=\"Period: 1 hour\")\n",
    "temp_series_freq_15min.plot(label=\"Period: 15 minutes\")\n",
    "plt.legend()\n",
    "plt.show()\n",
    "```\n",
    "\n",
    "- which outputs:\n",
    "\n",
    "<img src=\"../assets/pandas/4.jpg\" align=\"center\" style=\"background-color: #fff; margin: 10px auto\" />"
   ]
  },
  {
   "cell_type": "markdown",
   "metadata": {},
   "source": [
    "### Timezones\n",
    "\n",
    "- By default datetimes are **naive**: they are not aware of timezones, so 2016-10-30 02:30 might mean October 30th 2016 at 2:30am in Paris or in New York. We can make datetimes timezone **aware** by calling the `tz_localize()` method:"
   ]
  },
  {
   "cell_type": "code",
   "execution_count": null,
   "metadata": {},
   "outputs": [],
   "source": [
    "```python\n",
    "import pandas as pd\n",
    "\n",
    "temp_series_ny = pd.Series({pd.Timestamp('2016-10-29 17:30:00', freq='H'): 4.4, pd.Timestamp('2016-10-29 18:30:00', freq='H'): 5.1, pd.Timestamp('2016-10-29 19:30:00', freq='H'): 6.1, pd.Timestamp('2016-10-29 20:30:00', freq='H'): 6.2, pd.Timestamp('2016-10-29 21:30:00', freq='H'): 6.1, pd.Timestamp('2016-10-29 22:30:00', freq='H'): 6.1, pd.Timestamp('2016-10-29 23:30:00', freq='H'): 5.7, pd.Timestamp('2016-10-30 00:30:00', freq='H'): 5.2, pd.Timestamp('2016-10-30 01:30:00', freq='H'): 4.7, pd.Timestamp('2016-10-30 02:30:00', freq='H'): 4.1, pd.Timestamp('2016-10-30 03:30:00', freq='H'): 3.9, pd.Timestamp('2016-10-30 04:30:00', freq='H'): 3.5})\n",
    "\n",
    "temp_series_ny = temp_series.tz_localize(\"America/New_York\")\n",
    "temp_series_ny\n",
    "```\n",
    "\n",
    "- which outputs:\n",
    "\n",
    "```\n",
    "2016-10-29 17:30:00-04:00    4.4\n",
    "2016-10-29 18:30:00-04:00    5.1\n",
    "2016-10-29 19:30:00-04:00    6.1\n",
    "2016-10-29 20:30:00-04:00    6.2\n",
    "2016-10-29 21:30:00-04:00    6.1\n",
    "2016-10-29 22:30:00-04:00    6.1\n",
    "2016-10-29 23:30:00-04:00    5.7\n",
    "2016-10-30 00:30:00-04:00    5.2\n",
    "2016-10-30 01:30:00-04:00    4.7\n",
    "2016-10-30 02:30:00-04:00    4.1\n",
    "2016-10-30 03:30:00-04:00    3.9\n",
    "2016-10-30 04:30:00-04:00    3.5\n",
    "Freq: H, dtype: float64\n",
    "```"
   ]
  },
  {
   "cell_type": "markdown",
   "metadata": {},
   "source": [
    "- Note that `-04:00` is now appended to all the datetimes. This means that these datetimes refer to [UTC](https://en.wikipedia.org/wiki/Coordinated_Universal_Time) - 4 hours.\n",
    "- We can convert these datetimes to Paris time like this:"
   ]
  },
  {
   "cell_type": "code",
   "execution_count": null,
   "metadata": {},
   "outputs": [],
   "source": [
    "```python\n",
    "temp_series_paris = temp_series_ny.tz_convert(\"Europe/Paris\")\n",
    "temp_series_paris\n",
    "```\n",
    "\n",
    "- which outputs:\n",
    "\n",
    "```\n",
    "2016-10-29 23:30:00+02:00    4.4\n",
    "2016-10-30 00:30:00+02:00    5.1\n",
    "2016-10-30 01:30:00+02:00    6.1\n",
    "2016-10-30 02:30:00+02:00    6.2\n",
    "2016-10-30 02:30:00+01:00    6.1\n",
    "2016-10-30 03:30:00+01:00    6.1\n",
    "2016-10-30 04:30:00+01:00    5.7\n",
    "2016-10-30 05:30:00+01:00    5.2\n",
    "2016-10-30 06:30:00+01:00    4.7\n",
    "2016-10-30 07:30:00+01:00    4.1\n",
    "2016-10-30 08:30:00+01:00    3.9\n",
    "2016-10-30 09:30:00+01:00    3.5\n",
    "Freq: H, dtype: float64\n",
    "```"
   ]
  },
  {
   "cell_type": "markdown",
   "metadata": {},
   "source": [
    "- You may have noticed that the UTC offset changes from `+02:00` to `+01:00`: this is because France switches to winter time at 3am that particular night (time goes back to 2am). Notice that 2:30am occurs twice! Let's go back to a naive representation (if you log some data hourly using local time, without storing the timezone, you might get something like this):"
   ]
  },
  {
   "cell_type": "code",
   "execution_count": null,
   "metadata": {},
   "outputs": [],
   "source": [
    "```python\n",
    "temp_series_paris_naive = temp_series_paris.tz_localize(None)\n",
    "temp_series_paris_naive\n",
    "```\n",
    "\n",
    "- which outputs:\n",
    "\n",
    "```\n",
    "2016-10-29 23:30:00    4.4\n",
    "2016-10-30 00:30:00    5.1\n",
    "2016-10-30 01:30:00    6.1\n",
    "2016-10-30 02:30:00    6.2\n",
    "2016-10-30 02:30:00    6.1\n",
    "2016-10-30 03:30:00    6.1\n",
    "2016-10-30 04:30:00    5.7\n",
    "2016-10-30 05:30:00    5.2\n",
    "2016-10-30 06:30:00    4.7\n",
    "2016-10-30 07:30:00    4.1\n",
    "2016-10-30 08:30:00    3.9\n",
    "2016-10-30 09:30:00    3.5\n",
    "Freq: H, dtype: float64\n",
    "```"
   ]
  },
  {
   "cell_type": "markdown",
   "metadata": {},
   "source": [
    "- Now `02:30` is really ambiguous. If we try to localize these naive datetimes to the Paris timezone, we get an error:"
   ]
  },
  {
   "cell_type": "code",
   "execution_count": null,
   "metadata": {},
   "outputs": [],
   "source": [
    "```python\n",
    "try:\n",
    "    temp_series_paris_naive.tz_localize(\"Europe/Paris\")\n",
    "except Exception as e:\n",
    "    print(type(e))\n",
    "    print(e)\n",
    "```\n",
    "\n",
    "- which outputs:\n",
    "\n",
    "```\n",
    "<class 'pytz.exceptions.AmbiguousTimeError'>\n",
    "Cannot infer dst time from %r, try using the 'ambiguous' argument\n",
    "```"
   ]
  },
  {
   "cell_type": "markdown",
   "metadata": {},
   "source": [
    "- Fortunately using the `ambiguous` argument we can tell pandas to infer the right DST (Daylight Saving Time) based on the order of the ambiguous timestamps:"
   ]
  },
  {
   "cell_type": "code",
   "execution_count": null,
   "metadata": {},
   "outputs": [],
   "source": [
    "```python\n",
    "temp_series_paris_naive.tz_localize(\"Europe/Paris\", ambiguous=\"infer\")\n",
    "```\n",
    "\n",
    "- which outputs:\n",
    "\n",
    "```\n",
    "2016-10-29 23:30:00+02:00    4.4\n",
    "2016-10-30 00:30:00+02:00    5.1\n",
    "2016-10-30 01:30:00+02:00    6.1\n",
    "2016-10-30 02:30:00+02:00    6.2\n",
    "2016-10-30 02:30:00+01:00    6.1\n",
    "2016-10-30 03:30:00+01:00    6.1\n",
    "2016-10-30 04:30:00+01:00    5.7\n",
    "2016-10-30 05:30:00+01:00    5.2\n",
    "2016-10-30 06:30:00+01:00    4.7\n",
    "2016-10-30 07:30:00+01:00    4.1\n",
    "2016-10-30 08:30:00+01:00    3.9\n",
    "2016-10-30 09:30:00+01:00    3.5\n",
    "Freq: H, dtype: float64\n",
    "```"
   ]
  },
  {
   "cell_type": "markdown",
   "metadata": {},
   "source": [
    "### Periods\n",
    "\n",
    "- The `pd.period_range()` function returns a `PeriodIndex` instead of a `DatetimeIndex`. For example, let's get all quarters in 2016 and 2017:"
   ]
  },
  {
   "cell_type": "code",
   "execution_count": null,
   "metadata": {},
   "outputs": [],
   "source": [
    "```python\n",
    "import pandas as pd\n",
    "\n",
    "quarters = pd.period_range('2016Q1', periods=8, freq='Q')\n",
    "quarters\n",
    "```\n",
    "\n",
    "- which outputs:\n",
    "\n",
    "```\n",
    "PeriodIndex(['2016Q1', '2016Q2', '2016Q3', '2016Q4', '2017Q1', '2017Q2',\n",
    "             '2017Q3', '2017Q4'],\n",
    "             dtype='period[Q-DEC]', freq='Q-DEC')\n",
    "```"
   ]
  },
  {
   "cell_type": "markdown",
   "metadata": {},
   "source": [
    "- Adding a number `N` to a `PeriodIndex` shifts the periods by `N` times the `PeriodIndex`'s frequency:"
   ]
  },
  {
   "cell_type": "code",
   "execution_count": null,
   "metadata": {},
   "outputs": [],
   "source": [
    "```python\n",
    "quarters + 3\n",
    "```\n",
    "\n",
    "- which outputs:\n",
    "\n",
    "```\n",
    "PeriodIndex(['2016Q4', '2017Q1', '2017Q2', '2017Q3', '2017Q4', '2018Q1',\n",
    "             '2018Q2', '2018Q3'],\n",
    "             dtype='period[Q-DEC]', freq='Q-DEC')\n",
    "```"
   ]
  },
  {
   "cell_type": "markdown",
   "metadata": {},
   "source": [
    "- The `asfreq()` method lets us change the frequency of the `PeriodIndex`. All periods are lengthened or shortened accordingly. For example, let's convert all the quarterly periods to monthly periods (zooming in):"
   ]
  },
  {
   "cell_type": "code",
   "execution_count": null,
   "metadata": {},
   "outputs": [],
   "source": [
    "```python\n",
    "quarters.asfreq(\"M\")\n",
    "```\n",
    "\n",
    "- which outputs:\n",
    "\n",
    "```\n",
    "PeriodIndex(['2016-03', '2016-06', '2016-09', '2016-12', '2017-03', '2017-06',\n",
    "             '2017-09', '2017-12'],\n",
    "             dtype='period[M]', freq='M')\n",
    "```"
   ]
  },
  {
   "cell_type": "markdown",
   "metadata": {},
   "source": [
    "- By default, the `asfreq` zooms on the end of each period. We can tell it to zoom on the start of each period instead:"
   ]
  },
  {
   "cell_type": "code",
   "execution_count": null,
   "metadata": {},
   "outputs": [],
   "source": [
    "```python\n",
    "quarters.asfreq(\"M\", how=\"start\")\n",
    "```\n",
    "\n",
    "- which outputs:\n",
    "\n",
    "```\n",
    "PeriodIndex(['2016-01', '2016-04', '2016-07', '2016-10', '2017-01', '2017-04',\n",
    "             '2017-07', '2017-10'],\n",
    "             dtype='period[M]', freq='M')\n",
    "```"
   ]
  },
  {
   "cell_type": "markdown",
   "metadata": {},
   "source": [
    "- And we can zoom out:"
   ]
  },
  {
   "cell_type": "code",
   "execution_count": null,
   "metadata": {},
   "outputs": [],
   "source": [
    "```python\n",
    "quarters.asfreq(\"A\")\n",
    "```\n",
    "\n",
    "- which outputs:\n",
    "\n",
    "```\n",
    "PeriodIndex(['2016', '2016', '2016', '2016', '2017', '2017', '2017', '2017'], dtype='period[A-DEC]', freq='A-DEC')\n",
    "```"
   ]
  },
  {
   "cell_type": "markdown",
   "metadata": {},
   "source": [
    "- We can create a `Series` with a `PeriodIndex`:"
   ]
  },
  {
   "cell_type": "code",
   "execution_count": null,
   "metadata": {},
   "outputs": [],
   "source": [
    "```python\n",
    "quarterly_revenue = pd.Series([300, 320, 290, 390, 320, 360, 310, 410], index = quarters)\n",
    "quarterly_revenue\n",
    "```\n",
    "\n",
    "- which outputs:\n",
    "\n",
    "```\n",
    "2016Q1    300\n",
    "2016Q2    320\n",
    "2016Q3    290\n",
    "2016Q4    390\n",
    "2017Q1    320\n",
    "2017Q2    360\n",
    "2017Q3    310\n",
    "2017Q4    410\n",
    "```"
   ]
  },
  {
   "cell_type": "markdown",
   "metadata": {},
   "source": [
    "- Plotting this data:"
   ]
  },
  {
   "cell_type": "code",
   "execution_count": null,
   "metadata": {},
   "outputs": [],
   "source": [
    "```python\n",
    "quarterly_revenue.plot(kind=\"line\")\n",
    "plt.show()\n",
    "```\n",
    "\n",
    "- which outputs:\n",
    "\n",
    "<img src=\"../assets/pandas/5.jpg\" align=\"center\" style=\"background-color: #fff; margin: 10px auto\" />"
   ]
  },
  {
   "cell_type": "markdown",
   "metadata": {},
   "source": [
    "- We can convert periods to timestamps by calling `to_timestamp`. By default this will give us the first day of each period, but by setting `how` and `freq`, we can get the last hour of each period:"
   ]
  },
  {
   "cell_type": "code",
   "execution_count": null,
   "metadata": {},
   "outputs": [],
   "source": [
    "```python\n",
    "last_hours = quarterly_revenue.to_pd.Timestamp(how=\"end\", freq=\"H\")\n",
    "last_hours\n",
    "```\n",
    "\n",
    "- which outputs:\n",
    "\n",
    "```\n",
    "2016-03-31 23:59:59.999999999    300\n",
    "2016-06-30 23:59:59.999999999    320\n",
    "2016-09-30 23:59:59.999999999    290\n",
    "2016-12-31 23:59:59.999999999    390\n",
    "2017-03-31 23:59:59.999999999    320\n",
    "2017-06-30 23:59:59.999999999    360\n",
    "2017-09-30 23:59:59.999999999    310\n",
    "2017-12-31 23:59:59.999999999    410\n",
    "Freq: Q-DEC, dtype: int64\n",
    "```"
   ]
  },
  {
   "cell_type": "markdown",
   "metadata": {},
   "source": [
    "- And back to periods by calling `to_period`:"
   ]
  },
  {
   "cell_type": "code",
   "execution_count": null,
   "metadata": {},
   "outputs": [],
   "source": [
    "```python\n",
    "last_hours.to_period()\n",
    "```\n",
    "\n",
    "- which outputs:\n",
    "\n",
    "```\n",
    "2016Q1    300\n",
    "2016Q2    320\n",
    "2016Q3    290\n",
    "2016Q4    390\n",
    "2017Q1    320\n",
    "2017Q2    360\n",
    "2017Q3    310\n",
    "2017Q4    410\n",
    "Freq: Q-DEC, dtype: int64\n",
    "```"
   ]
  },
  {
   "cell_type": "markdown",
   "metadata": {},
   "source": [
    "- Pandas also provides many other time-related functions that we recommend you check out in the [documentation](http://pandas.pydata.org/pandas-docs/stable/timeseries.html). To whet your appetite, here is one way to get the last business day of each month in 2016, at 9am:"
   ]
  },
  {
   "cell_type": "code",
   "execution_count": null,
   "metadata": {},
   "outputs": [],
   "source": [
    "```python\n",
    "months_2016 = pd.period_range(\"2016\", periods=12, freq=\"M\")\n",
    "one_day_after_last_days = months_2016.asfreq(\"D\") + 1\n",
    "last_bdays = one_day_after_last_days.to_pd.Timestamp() - pd.tseries.offsets.BDay()\n",
    "last_bdays.to_period(\"H\") + 9\n",
    "```\n",
    "\n",
    "- which outputs:\n",
    "\n",
    "```\n",
    "PeriodIndex(['2016-01-29 09:00', '2016-02-29 09:00', '2016-03-31 09:00',\n",
    "             '2016-04-29 09:00', '2016-05-31 09:00', '2016-06-30 09:00',\n",
    "             '2016-07-29 09:00', '2016-08-31 09:00', '2016-09-30 09:00',\n",
    "             '2016-10-31 09:00', '2016-11-30 09:00', '2016-12-30 09:00'],\n",
    "            dtype='period[H]', freq='H')\n",
    "```"
   ]
  },
  {
   "cell_type": "markdown",
   "metadata": {},
   "source": [
    "## `DataFrame` objects\n",
    "\n",
    "- A DataFrame object represents a spreadsheet, with cell values, column names and row index labels. You can define expressions to compute columns based on other columns, create pivot-tables, group rows, draw graphs, etc. You can see `DataFrame`s as dictionaries of `Series`.\n",
    "\n",
    "### Creating a `DataFrame`\n",
    "\n",
    "- You can create a DataFrame by passing a dictionary of `Series` objects:"
   ]
  },
  {
   "cell_type": "code",
   "execution_count": null,
   "metadata": {},
   "outputs": [],
   "source": [
    "```python\n",
    "import pandas as pd\n",
    "\n",
    "people_dict = {\n",
    "    \"weight\": pd.Series([68, 83, 112], index=[\"alice\", \"bob\", \"charles\"]),\n",
    "    \"birthyear\": pd.Series([1984, 1985, 1992], index=[\"bob\", \"alice\", \"charles\"], name=\"year\"),\n",
    "    \"children\": pd.Series([0, 3], index=[\"charles\", \"bob\"]),\n",
    "    \"hobby\": pd.Series([\"Biking\", \"Dancing\"], index=[\"alice\", \"bob\"]),\n",
    "}\n",
    "\n",
    "people = pd.DataFrame(people_dict)\n",
    "people\n",
    "```\n",
    "\n",
    "- which outputs:\n",
    "\n",
    "```\n",
    "         weight  birthyear  children    hobby\n",
    "alice        68       1985       NaN   Biking\n",
    "bob          83       1984       3.0  Dancing\n",
    "charles     112       1992       0.0      NaN\n",
    "```"
   ]
  },
  {
   "cell_type": "markdown",
   "metadata": {},
   "source": [
    "- A few things to note:"
   ]
  },
  {
   "cell_type": "code",
   "execution_count": null,
   "metadata": {},
   "outputs": [],
   "source": [
    "* The `Series` were automatically aligned based on their index,\n",
    "* Missing values are represented as `NaN`,\n",
    "* `Series` names are ignored (the name `\"year\"` was dropped),\n",
    "* `DataFrame`s are displayed nicely in Jupyter notebooks, woohoo!"
   ]
  },
  {
   "cell_type": "markdown",
   "metadata": {},
   "source": [
    "- You can access columns pretty much as you would expect. They are returned as `Series` objects:"
   ]
  },
  {
   "cell_type": "code",
   "execution_count": null,
   "metadata": {},
   "outputs": [],
   "source": [
    "```python\n",
    "people[\"birthyear\"]\n",
    "```\n",
    "\n",
    "- which outputs:\n",
    "\n",
    "```\n",
    "alice      1985\n",
    "bob        1984\n",
    "charles    1992\n",
    "Name: birthyear, dtype: int64\n",
    "```"
   ]
  },
  {
   "cell_type": "markdown",
   "metadata": {},
   "source": [
    "- You can also get multiple columns at once:"
   ]
  },
  {
   "cell_type": "code",
   "execution_count": null,
   "metadata": {},
   "outputs": [],
   "source": [
    "```python\n",
    "people[[\"birthyear\", \"hobby\"]]\n",
    "```\n",
    "\n",
    "- which outputs:\n",
    "\n",
    "```\n",
    "         birthyear    hobby\n",
    "alice         1985   Biking\n",
    "bob           1984  Dancing\n",
    "charles       1992      NaN\n",
    "```"
   ]
  },
  {
   "cell_type": "markdown",
   "metadata": {},
   "source": [
    "- If you pass a list of columns and/or index row labels to the `DataFrame` constructor, it will guarantee that these columns and/or rows will exist, in that order, and no other column/row will exist. For example:"
   ]
  },
  {
   "cell_type": "code",
   "execution_count": null,
   "metadata": {},
   "outputs": [],
   "source": [
    "```python\n",
    "d2 = pd.DataFrame(\n",
    "        people_dict,\n",
    "        columns=[\"birthyear\", \"weight\", \"height\"],\n",
    "        index=[\"bob\", \"alice\", \"eugene\"]\n",
    "     )\n",
    "d2\n",
    "```\n",
    "\n",
    "- which outputs:\n",
    "\n",
    "```\n",
    "        birthyear  weight height\n",
    "bob        1984.0    83.0    NaN\n",
    "alice      1985.0    68.0    NaN\n",
    "eugene        NaN     NaN    NaN\n",
    "```"
   ]
  },
  {
   "cell_type": "markdown",
   "metadata": {},
   "source": [
    "- Another convenient way to create a `DataFrame` is to pass all the values to the constructor as an `ndarray`, or a list of lists, and specify the column names and row index labels separately:"
   ]
  },
  {
   "cell_type": "code",
   "execution_count": null,
   "metadata": {},
   "outputs": [],
   "source": [
    "```python\n",
    "import numpy as np\n",
    "\n",
    "values = [\n",
    "            [1985, np.nan, \"Biking\",   68],\n",
    "            [1984, 3,      \"Dancing\",  83],\n",
    "            [1992, 0,      np.nan,    112]\n",
    "         ]\n",
    "d3 = pd.DataFrame(\n",
    "        values,\n",
    "        columns=[\"birthyear\", \"children\", \"hobby\", \"weight\"],\n",
    "        index=[\"alice\", \"bob\", \"charles\"]\n",
    "     )\n",
    "d3\n",
    "```\n",
    "\n",
    "- which outputs:\n",
    "\n",
    "```\n",
    "         birthyear  children    hobby  weight\n",
    "alice         1985       NaN   Biking      68\n",
    "bob           1984       3.0  Dancing      83\n",
    "charles       1992       0.0      NaN     112\n",
    "```"
   ]
  },
  {
   "cell_type": "markdown",
   "metadata": {},
   "source": [
    "- To specify missing values, you can either use `np.nan` or NumPy's masked arrays:"
   ]
  },
  {
   "cell_type": "code",
   "execution_count": null,
   "metadata": {},
   "outputs": [],
   "source": [
    "```python\n",
    "masked_array = np.ma.asarray(values, dtype=np.object)\n",
    "masked_array[(0, 2), (1, 2)] = np.ma.masked\n",
    "d3 = pd.DataFrame(\n",
    "        masked_array,\n",
    "        columns=[\"birthyear\", \"children\", \"hobby\", \"weight\"],\n",
    "        index=[\"alice\", \"bob\", \"charles\"]\n",
    "     )\n",
    "d3\n",
    "```\n",
    "\n",
    "- which outputs:\n",
    "\n",
    "```\n",
    "        birthyear children    hobby weight\n",
    "alice        1985      NaN   Biking     68\n",
    "bob          1984        3  Dancing     83\n",
    "charles      1992        0      NaN    112\n",
    "```"
   ]
  },
  {
   "cell_type": "markdown",
   "metadata": {},
   "source": [
    "- Instead of an `ndarray`, you can also pass a `DataFrame` object:"
   ]
  },
  {
   "cell_type": "code",
   "execution_count": null,
   "metadata": {},
   "outputs": [],
   "source": [
    "```python\n",
    "d4 = pd.DataFrame(\n",
    "         d3,\n",
    "         columns=[\"hobby\", \"children\"],\n",
    "         index=[\"alice\", \"bob\"]\n",
    "     )\n",
    "d4\n",
    "```\n",
    "\n",
    "- which outputs:\n",
    "\n",
    "```\n",
    "         hobby children\n",
    "alice   Biking      NaN\n",
    "bob    Dancing        3\n",
    "```"
   ]
  },
  {
   "cell_type": "markdown",
   "metadata": {},
   "source": [
    "- It is also possible to create a `DataFrame` with a dictionary (or list) of dictionaries (or list):"
   ]
  },
  {
   "cell_type": "code",
   "execution_count": null,
   "metadata": {},
   "outputs": [],
   "source": [
    "```python\n",
    "people = pd.DataFrame({\n",
    "    \"birthyear\": {\"alice\":1985, \"bob\": 1984, \"charles\": 1992},\n",
    "    \"hobby\": {\"alice\":\"Biking\", \"bob\": \"Dancing\"},\n",
    "    \"weight\": {\"alice\":68, \"bob\": 83, \"charles\": 112},\n",
    "    \"children\": {\"bob\": 3, \"charles\": 0}\n",
    "})\n",
    "people\n",
    "```\n",
    "\n",
    "- which outputs:\n",
    "\n",
    "```\n",
    "         birthyear    hobby  weight  children\n",
    "alice         1985   Biking      68       NaN\n",
    "bob           1984  Dancing      83       3.0\n",
    "charles       1992      NaN     112       0.0\n",
    "```"
   ]
  },
  {
   "cell_type": "markdown",
   "metadata": {},
   "source": [
    "### Multi-indexing\n",
    "\n",
    "- If all columns are tuples of the same size, then they are understood as a multi-index. The same goes for row index labels. For example:"
   ]
  },
  {
   "cell_type": "code",
   "execution_count": null,
   "metadata": {},
   "outputs": [],
   "source": [
    "```python\n",
    "import pandas as pd\n",
    "import numpy as np\n",
    "\n",
    "d5 = pd.DataFrame(\n",
    "  {\n",
    "    (\"public\", \"birthyear\"):\n",
    "        {(\"Paris\",\"alice\"):1985, (\"Paris\",\"bob\"): 1984, (\"London\",\"charles\"): 1992},\n",
    "    (\"public\", \"hobby\"):\n",
    "        {(\"Paris\",\"alice\"):\"Biking\", (\"Paris\",\"bob\"): \"Dancing\"},\n",
    "    (\"private\", \"weight\"):\n",
    "        {(\"Paris\",\"alice\"):68, (\"Paris\",\"bob\"): 83, (\"London\",\"charles\"): 112},\n",
    "    (\"private\", \"children\"):\n",
    "        {(\"Paris\", \"alice\"):np.nan, (\"Paris\",\"bob\"): 3, (\"London\",\"charles\"): 0}\n",
    "  }\n",
    ")\n",
    "d5\n",
    "```\n",
    "\n",
    "- which outputs:\n",
    "\n",
    "```\n",
    "                  public          private\n",
    "               birthyear    hobby  weight children\n",
    "Paris  alice        1985   Biking      68      NaN\n",
    "       bob          1984  Dancing      83      3.0\n",
    "London charles      1992      NaN     112      0.0\n",
    "```"
   ]
  },
  {
   "cell_type": "markdown",
   "metadata": {},
   "source": [
    "- You can now get a `DataFrame` containing all the `\"public\"` columns by simply doing:"
   ]
  },
  {
   "cell_type": "code",
   "execution_count": null,
   "metadata": {},
   "outputs": [],
   "source": [
    "```python\n",
    "d5[\"public\"]\n",
    "```\n",
    "\n",
    "- which outputs:\n",
    "\n",
    "```\n",
    "                birthyear    hobby\n",
    "Paris  alice         1985   Biking\n",
    "       bob           1984  Dancing\n",
    "London charles       1992      NaN\n",
    "```"
   ]
  },
  {
   "cell_type": "markdown",
   "metadata": {},
   "source": [
    "- You can also now get a `DataFrame` containing all the `\"hobby\"` columns within the `\"public\"` columns by simply doing:"
   ]
  },
  {
   "cell_type": "code",
   "execution_count": null,
   "metadata": {},
   "outputs": [],
   "source": [
    "```python\n",
    "d5[\"public\", \"hobby\"] # Same result as d5[\"public\"][\"hobby\"]\n",
    "```\n",
    "\n",
    "- which outputs:\n",
    "\n",
    "```\n",
    "Paris   alice       Biking\n",
    "        bob        Dancing\n",
    "London  charles        NaN\n",
    "Name: (public, hobby), dtype: object\n",
    "```"
   ]
  },
  {
   "cell_type": "markdown",
   "metadata": {},
   "source": [
    "### Dropping a level\n",
    "\n",
    "- Let's look at `d5` again:"
   ]
  },
  {
   "cell_type": "code",
   "execution_count": null,
   "metadata": {},
   "outputs": [],
   "source": [
    "```python\n",
    "import pandas as pd\n",
    "import numpy as np\n",
    "\n",
    "d5 = pd.DataFrame({('public', 'birthyear'): {('Paris', 'alice'): 1985, ('Paris', 'bob'): 1984, ('London', 'charles'): 1992}, ('public', 'hobby'): {('Paris', 'alice'): 'Biking', ('Paris', 'bob'): 'Dancing', ('London', 'charles'): np.nan}, ('private', 'weight'): {('Paris', 'alice'): 68, ('Paris', 'bob'): 83, ('London', 'charles'): 112}, ('private', 'children'): {('Paris', 'alice'): np.nan, ('Paris', 'bob'): 3.0, ('London', 'charles'): 0.0}})\n",
    "```\n",
    "\n",
    "- which outputs:\n",
    "\n",
    "```\n",
    "                  public          private\n",
    "               birthyear    hobby  weight children\n",
    "Paris  alice        1985   Biking      68      NaN\n",
    "       bob          1984  Dancing      83      3.0\n",
    "London charles      1992      NaN     112      0.0\n",
    "```"
   ]
  },
  {
   "cell_type": "markdown",
   "metadata": {},
   "source": [
    "- There are two levels of columns, and two levels of indices. We can drop a column level by calling `droplevel()` (the same goes for indices):"
   ]
  },
  {
   "cell_type": "code",
   "execution_count": null,
   "metadata": {},
   "outputs": [],
   "source": [
    "```python\n",
    "d5.columns = d5.columns.droplevel(level = 0)\n",
    "d5\n",
    "```\n",
    "\n",
    "- which outputs:\n",
    "\n",
    "```\n",
    "                birthyear    hobby  weight  children\n",
    "Paris  alice         1985   Biking      68       NaN\n",
    "       bob           1984  Dancing      83       3.0\n",
    "London charles       1992      NaN     112       0.0\n",
    "```"
   ]
  },
  {
   "cell_type": "markdown",
   "metadata": {},
   "source": [
    "### Transposing\n",
    "\n",
    "- You can swap columns and indices using the `T` attribute:"
   ]
  },
  {
   "cell_type": "code",
   "execution_count": null,
   "metadata": {},
   "outputs": [],
   "source": [
    "```python\n",
    "import pandas as pd\n",
    "\n",
    "d5 = pd.DataFrame({'birthyear': {('Paris', 'alice'): 1985, ('Paris', 'bob'): 1984, ('London', 'charles'): 1992}, 'hobby': {('Paris', 'alice'): 'Biking', ('Paris', 'bob'): 'Dancing', ('London', 'charles'): nan}, 'weight': {('Paris', 'alice'): 68, ('Paris', 'bob'): 83, ('London', 'charles'): 112}, 'children': {('Paris', 'alice'): nan, ('Paris', 'bob'): 3.0, ('London', 'charles'): 0.0}})\n",
    "\n",
    "d6 = d5.T\n",
    "d6\n",
    "```\n",
    "\n",
    "- which outputs:\n",
    "\n",
    "```\n",
    "            Paris           London\n",
    "            alice      bob charles\n",
    "birthyear    1985     1984    1992\n",
    "hobby      Biking  Dancing     NaN\n",
    "weight         68       83     112\n",
    "children      NaN        3       0\n",
    "```"
   ]
  },
  {
   "cell_type": "markdown",
   "metadata": {},
   "source": [
    "### Stacking and unstacking levels\n",
    "\n",
    "- Calling the `stack()` method will push the lowest column level after the lowest index:"
   ]
  },
  {
   "cell_type": "code",
   "execution_count": null,
   "metadata": {},
   "outputs": [],
   "source": [
    "```python\n",
    "import pandas as pd\n",
    "\n",
    "d6 = pd.DataFrame({('Paris', 'alice'): {'birthyear': 1985, 'hobby': 'Biking', 'weight': 68, 'children': nan}, ('Paris', 'bob'): {'birthyear': 1984, 'hobby': 'Dancing', 'weight': 83, 'children': 3.0}, ('London', 'charles'): {'birthyear': 1992, 'hobby': nan, 'weight': 112, 'children': 0.0}})\n",
    "\n",
    "d7 = d6.stack()\n",
    "d7\n",
    "```\n",
    "\n",
    "- which outputs:\n",
    "\n",
    "```\n",
    "                  London    Paris\n",
    "birthyear alice      NaN     1985\n",
    "          bob        NaN     1984\n",
    "          charles   1992      NaN\n",
    "hobby     alice      NaN   Biking\n",
    "          bob        NaN  Dancing\n",
    "weight    alice      NaN       68\n",
    "          bob        NaN       83\n",
    "          charles    112      NaN\n",
    "children  bob        NaN        3\n",
    "          charles      0      NaN\n",
    "```"
   ]
  },
  {
   "cell_type": "markdown",
   "metadata": {},
   "source": [
    "- Note that many `NaN` values appeared. This makes sense because many new combinations did not exist before (eg. there was no `bob` in `London`).\n",
    "- Calling `unstack()` will do the reverse, once again creating many `NaN` values."
   ]
  },
  {
   "cell_type": "code",
   "execution_count": null,
   "metadata": {},
   "outputs": [],
   "source": [
    "```python\n",
    "d8 = d7.unstack()\n",
    "d8\n",
    "```\n",
    "\n",
    "- which outputs:\n",
    "\n",
    "```\n",
    "          London                Paris\n",
    "           alice  bob charles   alice      bob charles\n",
    "birthyear    NaN  NaN    1992    1985     1984     NaN\n",
    "hobby        NaN  NaN     NaN  Biking  Dancing     NaN\n",
    "weight       NaN  NaN     112      68       83     NaN\n",
    "children     NaN  NaN       0     NaN        3     NaN\n",
    "```"
   ]
  },
  {
   "cell_type": "markdown",
   "metadata": {},
   "source": [
    "- If we call `unstack` again, we end up with a `Series` object:"
   ]
  },
  {
   "cell_type": "code",
   "execution_count": null,
   "metadata": {},
   "outputs": [],
   "source": [
    "```python\n",
    "d9 = d8.unstack()\n",
    "d9\n",
    "```\n",
    "\n",
    "- which outputs:\n",
    "\n",
    "```\n",
    "London  alice    birthyear        NaN\n",
    "                 hobby            NaN\n",
    "                 weight           NaN\n",
    "                 children         NaN\n",
    "        bob      birthyear        NaN\n",
    "                 hobby            NaN\n",
    "                 weight           NaN\n",
    "                 children         NaN\n",
    "        charles  birthyear       1992\n",
    "                 hobby            NaN\n",
    "                 weight           112\n",
    "                 children           0\n",
    "Paris   alice    birthyear       1985\n",
    "                 hobby         Biking\n",
    "                 weight            68\n",
    "                 children         NaN\n",
    "        bob      birthyear       1984\n",
    "                 hobby        Dancing\n",
    "                 weight            83\n",
    "                 children           3\n",
    "        charles  birthyear        NaN\n",
    "                 hobby            NaN\n",
    "                 weight           NaN\n",
    "                 children         NaN\n",
    "dtype: object\n",
    "```"
   ]
  },
  {
   "cell_type": "markdown",
   "metadata": {},
   "source": [
    "- The `stack()` and `unstack()` methods let you select the `level` to stack/unstack. You can even stack/unstack multiple levels at once:"
   ]
  },
  {
   "cell_type": "code",
   "execution_count": null,
   "metadata": {},
   "outputs": [],
   "source": [
    "```python\n",
    "d10 = d9.unstack(level = (0,1))\n",
    "d10\n",
    "```\n",
    "\n",
    "- which outputs:\n",
    "\n",
    "```\n",
    "          London                Paris\n",
    "           alice  bob charles   alice      bob charles\n",
    "birthyear    NaN  NaN    1992    1985     1984     NaN\n",
    "hobby        NaN  NaN     NaN  Biking  Dancing     NaN\n",
    "weight       NaN  NaN     112      68       83     NaN\n",
    "children     NaN  NaN       0     NaN        3     NaN\n",
    "```"
   ]
  },
  {
   "cell_type": "markdown",
   "metadata": {},
   "source": [
    "### Most methods return modified copies\n",
    "\n",
    "- As you may have noticed, the `stack()` and `unstack()` methods do not modify the object they apply to. Instead, they work on a copy and return that copy. This is true of most methods in pandas.\n",
    "\n",
    "### Accessing rows\n",
    "\n",
    "- Let's go back to the `people` `DataFrame`:"
   ]
  },
  {
   "cell_type": "code",
   "execution_count": null,
   "metadata": {},
   "outputs": [],
   "source": [
    "```python\n",
    "import pandas as pd\n",
    "\n",
    "people_dict = {\n",
    "    \"birthyear\": pd.Series([1984, 1985, 1992], index=[\"bob\", \"alice\", \"charles\"], name=\"year\"),\n",
    "    \"hobby\": pd.Series([\"Biking\", \"Dancing\"], index=[\"alice\", \"bob\"]),\n",
    "    \"weight\": pd.Series([68, 83, 112], index=[\"alice\", \"bob\", \"charles\"]),\n",
    "    \"children\": pd.Series([0, 3], index=[\"charles\", \"bob\"]),\n",
    "}\n",
    "\n",
    "people = pd.DataFrame(people_dict)\n",
    "people\n",
    "```\n",
    "\n",
    "- which outputs:\n",
    "\n",
    "```\n",
    "         birthyear    hobby  weight  children\n",
    "alice         1985   Biking      68       NaN\n",
    "bob           1984  Dancing      83       3.0\n",
    "charles       1992      NaN     112       0.0\n",
    "```"
   ]
  },
  {
   "cell_type": "markdown",
   "metadata": {},
   "source": [
    "- The `loc` attribute lets you access rows instead of columns. The result is a `Series` object in which the `DataFrame`'s column names are mapped to row index labels:"
   ]
  },
  {
   "cell_type": "code",
   "execution_count": null,
   "metadata": {},
   "outputs": [],
   "source": [
    "```python\n",
    "people.loc[\"charles\"]\n",
    "```\n",
    "\n",
    "- which outputs:\n",
    "\n",
    "```\n",
    "birthyear    1992\n",
    "hobby         NaN\n",
    "weight        112\n",
    "children        0\n",
    "Name: charles, dtype: object\n",
    "```"
   ]
  },
  {
   "cell_type": "markdown",
   "metadata": {},
   "source": [
    "- You can also access rows by integer location using the `iloc` attribute:"
   ]
  },
  {
   "cell_type": "code",
   "execution_count": null,
   "metadata": {},
   "outputs": [],
   "source": [
    "```python\n",
    "people.iloc[2]\n",
    "```\n",
    "\n",
    "- which outputs:\n",
    "\n",
    "```\n",
    "birthyear    1992\n",
    "hobby         NaN\n",
    "weight        112\n",
    "children        0\n",
    "Name: charles, dtype: object\n",
    "```"
   ]
  },
  {
   "cell_type": "markdown",
   "metadata": {},
   "source": [
    "- You can also get a slice of rows, and this returns a `DataFrame` object:"
   ]
  },
  {
   "cell_type": "code",
   "execution_count": null,
   "metadata": {},
   "outputs": [],
   "source": [
    "```python\n",
    "people.iloc[1:3]\n",
    "```\n",
    "\n",
    "- which outputs:\n",
    "\n",
    "```\n",
    "         birthyear    hobby  weight  children\n",
    "bob           1984  Dancing      83       3.0\n",
    "charles       1992      NaN     112       0.0\n",
    "```"
   ]
  },
  {
   "cell_type": "markdown",
   "metadata": {},
   "source": [
    "- Finally, you can pass a boolean array to get the matching rows:"
   ]
  },
  {
   "cell_type": "code",
   "execution_count": null,
   "metadata": {},
   "outputs": [],
   "source": [
    "```python\n",
    "people[np.array([True, False, True])]\n",
    "```\n",
    "\n",
    "- which outputs:\n",
    "\n",
    "```\n",
    "         birthyear   hobby  weight  children\n",
    "alice         1985  Biking      68       NaN\n",
    "charles       1992     NaN     112       0.0\n",
    "```"
   ]
  },
  {
   "cell_type": "markdown",
   "metadata": {},
   "source": [
    "- This is most useful when combined with boolean expressions:"
   ]
  },
  {
   "cell_type": "code",
   "execution_count": null,
   "metadata": {},
   "outputs": [],
   "source": [
    "```python\n",
    "people[people[\"birthyear\"] < 1990]\n",
    "```\n",
    "\n",
    "- which outputs:\n",
    "\n",
    "```\n",
    "       birthyear    hobby  weight  children\n",
    "alice       1985   Biking      68       NaN\n",
    "bob         1984  Dancing      83       3.0\n",
    "```"
   ]
  },
  {
   "cell_type": "markdown",
   "metadata": {},
   "source": [
    "### Adding and removing columns\n",
    "\n",
    "- Again, let's go back to the `people` `DataFrame`:"
   ]
  },
  {
   "cell_type": "code",
   "execution_count": null,
   "metadata": {},
   "outputs": [],
   "source": [
    "```python\n",
    "import pandas as pd\n",
    "\n",
    "people_dict = {\n",
    "    \"birthyear\": pd.Series([1984, 1985, 1992], index=[\"bob\", \"alice\", \"charles\"], name=\"year\"),\n",
    "    \"hobby\": pd.Series([\"Biking\", \"Dancing\"], index=[\"alice\", \"bob\"]),\n",
    "    \"weight\": pd.Series([68, 83, 112], index=[\"alice\", \"bob\", \"charles\"]),\n",
    "    \"children\": pd.Series([0, 3], index=[\"charles\", \"bob\"]),\n",
    "}\n",
    "\n",
    "people = pd.DataFrame(people_dict)\n",
    "people\n",
    "```\n",
    "\n",
    "- which outputs:\n",
    "\n",
    "```\n",
    "         birthyear    hobby  weight  children\n",
    "alice         1985   Biking      68       NaN\n",
    "bob           1984  Dancing      83       3.0\n",
    "charles       1992      NaN     112       0.0\n",
    "```"
   ]
  },
  {
   "cell_type": "markdown",
   "metadata": {},
   "source": [
    "- You can generally treat `DataFrame` objects like dictionaries of `Series`, so adding new columns can be accomplished using:"
   ]
  },
  {
   "cell_type": "code",
   "execution_count": null,
   "metadata": {},
   "outputs": [],
   "source": [
    "```python\n",
    "people[\"age\"] = 2018 - people[\"birthyear\"] # adds a new column \"age\"\n",
    "people[\"over 30\"] = people[\"age\"] > 30     # adds another column \"over 30\"\n",
    "birthyears = people.pop(\"birthyear\")\n",
    "del people[\"children\"]\n",
    "people\n",
    "```\n",
    "\n",
    "- which outputs:\n",
    "\n",
    "```\n",
    "           hobby  weight  age  over 30\n",
    "alice     Biking      68   33     True\n",
    "bob      Dancing      83   34     True\n",
    "charles      NaN     112   26    False\n",
    "```"
   ]
  },
  {
   "cell_type": "markdown",
   "metadata": {},
   "source": [
    "- We can print `birthyears` using:"
   ]
  },
  {
   "cell_type": "code",
   "execution_count": null,
   "metadata": {},
   "outputs": [],
   "source": [
    "```python\n",
    "birthyears\n",
    "```\n",
    "\n",
    "- which outputs:\n",
    "\n",
    "```\n",
    "alice      1985\n",
    "bob        1984\n",
    "charles    1992\n",
    "Name: birthyear, dtype: int64\n",
    "```"
   ]
  },
  {
   "cell_type": "markdown",
   "metadata": {},
   "source": [
    "- When you add a new column, it must have the same number of rows. Missing rows are filled with NaN, and extra rows are ignored:"
   ]
  },
  {
   "cell_type": "code",
   "execution_count": null,
   "metadata": {},
   "outputs": [],
   "source": [
    "```python\n",
    "people[\"pets\"] = pd.Series({\"bob\": 0, \"charles\": 5, \"eugene\": 1}) # alice is missing, eugene is ignored\n",
    "people\n",
    "```\n",
    "\n",
    "- which outputs:\n",
    "\n",
    "```\n",
    "           hobby  weight  age  over 30  pets\n",
    "alice     Biking      68   33     True   NaN\n",
    "bob      Dancing      83   34     True   0.0\n",
    "charles      NaN     112   26    False   5.0\n",
    "```"
   ]
  },
  {
   "cell_type": "markdown",
   "metadata": {},
   "source": [
    "- When adding a new column, it is added at the end (on the right) by default. You can also insert a column anywhere else using the `insert()` method:"
   ]
  },
  {
   "cell_type": "code",
   "execution_count": null,
   "metadata": {},
   "outputs": [],
   "source": [
    "```python\n",
    "people.insert(1, \"height\", [172, 181, 185])\n",
    "people\n",
    "```\n",
    "\n",
    "- which outputs:\n",
    "\n",
    "```\n",
    "           hobby  height  weight  age  over 30  pets\n",
    "alice     Biking     172      68   33     True   NaN\n",
    "bob      Dancing     181      83   34     True   0.0\n",
    "charles      NaN     185     112   26    False   5.0\n",
    "```"
   ]
  },
  {
   "cell_type": "markdown",
   "metadata": {},
   "source": [
    "#### Assigning new columns\n",
    "\n",
    "- Again, let's go back to the `people` `DataFrame`:"
   ]
  },
  {
   "cell_type": "code",
   "execution_count": null,
   "metadata": {},
   "outputs": [],
   "source": [
    "```python\n",
    "import pandas as pd\n",
    "\n",
    "people_dict = {\n",
    "    \"hobby\": pd.Series([\"Biking\", \"Dancing\"], index=[\"alice\", \"bob\"]),\n",
    "    \"height\": pd.Series([172, 181, 185], index=[\"alice\", \"bob\", \"charles\"]),\n",
    "    \"weight\": pd.Series([68, 83, 112], index=[\"alice\", \"bob\", \"charles\"]),\n",
    "    \"age\": pd.Series([33, 34, 26], index=[\"alice\", \"bob\", \"charles\"]),\n",
    "    \"over 30\": pd.Series([True, True, False], index=[\"alice\", \"bob\", \"charles\"]),\n",
    "    \"pets\": pd.Series({\"bob\": 0.0, \"charles\": 5.0}),\n",
    "}\n",
    "\n",
    "people = pd.DataFrame(people_dict)\n",
    "people\n",
    "```\n",
    "\n",
    "- which outputs:\n",
    "\n",
    "```\n",
    "           hobby  height  weight  age  over 30  pets\n",
    "alice     Biking     172      68   33     True   NaN\n",
    "bob      Dancing     181      83   34     True   0.0\n",
    "charles      NaN     185     112   26    False   5.0\n",
    "```"
   ]
  },
  {
   "cell_type": "markdown",
   "metadata": {},
   "source": [
    "- You can also create new columns by calling the `assign()` method. Note that this returns a new `DataFrame` object, the original is not modified:"
   ]
  },
  {
   "cell_type": "code",
   "execution_count": null,
   "metadata": {},
   "outputs": [],
   "source": [
    "```python\n",
    "people.assign(\n",
    "    body_mass_index = people[\"weight\"] / (people[\"height\"] / 100) ** 2,\n",
    "    has_pets = people[\"pets\"] > 0\n",
    ")\n",
    "```\n",
    "\n",
    "- which outputs:\n",
    "\n",
    "```\n",
    "         weight  height    hobby  age  over 30  pets  body_mass_index  has_pets\n",
    "alice        68     172   Biking   33     True   NaN        22.985398     False\n",
    "bob          83     181  Dancing   34     True   0.0        25.335002     False\n",
    "charles     112     185      NaN   26    False   5.0        32.724617      True\n",
    "```"
   ]
  },
  {
   "cell_type": "markdown",
   "metadata": {},
   "source": [
    "- Note that you cannot access columns created within the same assignment:"
   ]
  },
  {
   "cell_type": "code",
   "execution_count": null,
   "metadata": {},
   "outputs": [],
   "source": [
    "```python\n",
    "try:\n",
    "    people.assign(\n",
    "        body_mass_index = people[\"weight\"] / (people[\"height\"] / 100) ** 2,\n",
    "        overweight = people[\"body_mass_index\"] > 25\n",
    "    )\n",
    "except KeyError as e:\n",
    "    print(\"Key error:\", e)\n",
    "```\n",
    "\n",
    "- which outputs:\n",
    "\n",
    "```\n",
    "Key error: 'body_mass_index'\n",
    "```"
   ]
  },
  {
   "cell_type": "markdown",
   "metadata": {},
   "source": [
    "- The solution is to split this assignment in two consecutive assignments:"
   ]
  },
  {
   "cell_type": "code",
   "execution_count": null,
   "metadata": {},
   "outputs": [],
   "source": [
    "```python\n",
    "d6 = people.assign(body_mass_index = people[\"weight\"] / (people[\"height\"] / 100) ** 2)\n",
    "d6.assign(overweight = d6[\"body_mass_index\"] > 25)\n",
    "```\n",
    "\n",
    "- which outputs:\n",
    "\n",
    "```\n",
    "           hobby  height  weight  age  over 30  pets  body_mass_index  overweight\n",
    "alice     Biking     172      68   33     True   NaN        22.985398       False\n",
    "bob      Dancing     181      83   34     True   0.0        25.335002        True\n",
    "charles      NaN     185     112   26    False   5.0        32.724617        True\n",
    "```"
   ]
  },
  {
   "cell_type": "markdown",
   "metadata": {},
   "source": [
    "- Having to create a temporary variable `d6` is not very convenient. You may want to just chain the assigment calls, but it does not work because the `people` object is not actually modified by the first assignment:"
   ]
  },
  {
   "cell_type": "code",
   "execution_count": null,
   "metadata": {},
   "outputs": [],
   "source": [
    "```python\n",
    "try:\n",
    "    (people\n",
    "         .assign(body_mass_index = people[\"weight\"] / (people[\"height\"] / 100) ** 2)\n",
    "         .assign(overweight = people[\"body_mass_index\"] > 25)\n",
    "    )\n",
    "except KeyError as e:\n",
    "    print(\"Key error:\", e)\n",
    "```"
   ]
  },
  {
   "cell_type": "markdown",
   "metadata": {},
   "source": [
    "- which outputs:"
   ]
  },
  {
   "cell_type": "code",
   "execution_count": null,
   "metadata": {},
   "outputs": [],
   "source": [
    "```\n",
    "Key error: 'body_mass_index'\n",
    "```"
   ]
  },
  {
   "cell_type": "markdown",
   "metadata": {},
   "source": [
    "- But fear not, there is a simple solution. You can pass a function to the `assign()` method (typically a `lambda` function), and this function will be called with the `DataFrame` as a parameter:"
   ]
  },
  {
   "cell_type": "code",
   "execution_count": null,
   "metadata": {},
   "outputs": [],
   "source": [
    "```python\n",
    "(people\n",
    "     .assign(body_mass_index = lambda df: df[\"weight\"] / (df[\"height\"] / 100) ** 2)\n",
    "     .assign(overweight = lambda df: df[\"body_mass_index\"] > 25)\n",
    ")\n",
    "```"
   ]
  },
  {
   "cell_type": "markdown",
   "metadata": {},
   "source": [
    "- which outputs:"
   ]
  },
  {
   "cell_type": "code",
   "execution_count": null,
   "metadata": {},
   "outputs": [],
   "source": [
    "```\n",
    "           hobby  height  weight  age  over 30  pets  body_mass_index  overweight\n",
    "alice     Biking     172      68   33     True   NaN        22.985398       False\n",
    "bob      Dancing     181      83   34     True   0.0        25.335002        True\n",
    "charles      NaN     185     112   26    False   5.0        32.724617        True\n",
    "```"
   ]
  },
  {
   "cell_type": "markdown",
   "metadata": {},
   "source": [
    "- Problem solved!\n",
    "\n",
    "#### Evaluating an expression\n",
    "\n",
    "- A great feature supported by pandas is expression evaluation. This relies on the `numexpr` library which must be installed."
   ]
  },
  {
   "cell_type": "code",
   "execution_count": null,
   "metadata": {},
   "outputs": [],
   "source": [
    "```python\n",
    "import pandas as pd\n",
    "\n",
    "people.eval(\"weight / (height/100) ** 2 > 25\")\n",
    "```\n",
    "\n",
    "- which outputs:\n",
    "\n",
    "```\n",
    "alice      False\n",
    "bob         True\n",
    "charles     True\n",
    "dtype: bool\n",
    "```"
   ]
  },
  {
   "cell_type": "markdown",
   "metadata": {},
   "source": [
    "- Assignment expressions are also supported. Let's set `inplace=True` to directly modify the `DataFrame` rather than getting a modified copy:"
   ]
  },
  {
   "cell_type": "code",
   "execution_count": null,
   "metadata": {},
   "outputs": [],
   "source": [
    "```python\n",
    "people.eval(\"body_mass_index = weight / (height/100) ** 2\", inplace=True)\n",
    "people\n",
    "```\n",
    "\n",
    "- which outputs:\n",
    "\n",
    "```\n",
    "           hobby  height  weight  age  over 30  pets  body_mass_index\n",
    "alice     Biking     172      68   33     True   NaN        22.985398\n",
    "bob      Dancing     181      83   34     True   0.0        25.335002\n",
    "charles      NaN     185     112   26    False   5.0        32.724617\n",
    "```"
   ]
  },
  {
   "cell_type": "markdown",
   "metadata": {},
   "source": [
    "- You can use a local or global variable in an expression by prefixing it with `'@'`:"
   ]
  },
  {
   "cell_type": "code",
   "execution_count": null,
   "metadata": {},
   "outputs": [],
   "source": [
    "```python\n",
    "overweight_threshold = 30\n",
    "people.eval(\"overweight = body_mass_index > @overweight_threshold\", inplace=True)\n",
    "people\n",
    "```\n",
    "\n",
    "- which outputs:\n",
    "\n",
    "```\n",
    "           hobby  height  weight  age  over 30  pets  body_mass_index  overweight\n",
    "alice     Biking     172      68   33     True   NaN        22.985398       False\n",
    "bob      Dancing     181      83   34     True   0.0        25.335002       False\n",
    "charles      NaN     185     112   26    False   5.0        32.724617        True\n",
    "```"
   ]
  },
  {
   "cell_type": "markdown",
   "metadata": {},
   "source": [
    "#### Querying a `DataFrame`\n",
    "\n",
    "- The `query()` method lets you filter a `DataFrame` based on a query expression:"
   ]
  },
  {
   "cell_type": "code",
   "execution_count": null,
   "metadata": {},
   "outputs": [],
   "source": [
    "```python\n",
    "people.query(\"age > 30 and pets == 0\")\n",
    "```\n",
    "\n",
    "- which outputs:\n",
    "\n",
    "```\n",
    "       hobby  height  weight  age  over 30  pets  body_mass_index  overweight\n",
    "bob  Dancing     181      83   34     True   0.0        25.335002       False\n",
    "```"
   ]
  },
  {
   "cell_type": "markdown",
   "metadata": {},
   "source": [
    "#### Sorting a `DataFrame`\n",
    "\n",
    "- You can sort a `DataFrame` by calling its `sort_index` method. By default, it sorts the rows by their index label in ascending order, but let's reverse the order:"
   ]
  },
  {
   "cell_type": "code",
   "execution_count": null,
   "metadata": {},
   "outputs": [],
   "source": [
    "```python\n",
    "people.sort_index(ascending=False)\n",
    "```\n",
    "\n",
    "- which outputs:\n",
    "\n",
    "```\n",
    "           hobby  height  weight  age  over 30  pets  body_mass_index  overweight\n",
    "charles      NaN     185     112   26    False   5.0        32.724617        True\n",
    "bob      Dancing     181      83   34     True   0.0        25.335002       False\n",
    "alice     Biking     172      68   33     True   NaN        22.985398       False\n",
    "```"
   ]
  },
  {
   "cell_type": "markdown",
   "metadata": {},
   "source": [
    "- Note that `sort_index` returned a sorted **copy** of the `DataFrame`. To modify `people` directly, we can set the `inplace` argument to `True`. Also, we can sort the columns instead of the rows by setting `axis=1`:"
   ]
  },
  {
   "cell_type": "code",
   "execution_count": null,
   "metadata": {},
   "outputs": [],
   "source": [
    "```python\n",
    "people.sort_index(axis=1, inplace=True)\n",
    "people\n",
    "```\n",
    "\n",
    "- which outputs:\n",
    "\n",
    "```\n",
    "         age  body_mass_index  height    hobby  over 30  overweight  pets  weight\n",
    "alice     33        22.985398     172   Biking     True       False   NaN      68\n",
    "bob       34        25.335002     181  Dancing     True       False   0.0      83\n",
    "charles   26        32.724617     185      NaN    False        True   5.0     112\n",
    "```"
   ]
  },
  {
   "cell_type": "markdown",
   "metadata": {},
   "source": [
    "- To sort the `DataFrame` by the values instead of the labels, we can use `sort_values` and specify the column to sort by:"
   ]
  },
  {
   "cell_type": "code",
   "execution_count": null,
   "metadata": {},
   "outputs": [],
   "source": [
    "```python\n",
    "people.sort_values(by=\"age\", inplace=True)\n",
    "people\n",
    "```\n",
    "\n",
    "- which outputs:\n",
    "\n",
    "```\n",
    "         age  body_mass_index  height    hobby  over 30  overweight  pets  weight\n",
    "charles   26        32.724617     185      NaN    False        True   5.0     112\n",
    "alice     33        22.985398     172   Biking     True       False   NaN      68\n",
    "bob       34        25.335002     181  Dancing     True       False   0.0      83\n",
    "```"
   ]
  },
  {
   "cell_type": "markdown",
   "metadata": {},
   "source": [
    "#### Plotting a `DataFrame`\n",
    "\n",
    "- Just like for `Series`, pandas makes it easy to draw nice graphs based on a `DataFrame`.\n",
    "- For example, it is trivial to create a line plot from a `DataFrame`'s data by calling its `plot` method:"
   ]
  },
  {
   "cell_type": "code",
   "execution_count": null,
   "metadata": {},
   "outputs": [],
   "source": [
    "```python\n",
    "import pandas as pd\n",
    "\n",
    "people.plot(kind = \"line\", x = \"body_mass_index\", y = [\"height\", \"weight\"])\n",
    "plt.show()\n",
    "```\n",
    "\n",
    "- which outputs:\n",
    "\n",
    "<img src=\"../assets/pandas/6.png\" align=\"center\" style=\"background-color: #fff; margin: 10px auto\" />"
   ]
  },
  {
   "cell_type": "markdown",
   "metadata": {},
   "source": [
    "- You can pass extra arguments supported by matplotlib's functions. For example, we can create scatterplot and pass it a list of sizes using the `s` argument of matplotlib's `scatter()` function:"
   ]
  },
  {
   "cell_type": "code",
   "execution_count": null,
   "metadata": {},
   "outputs": [],
   "source": [
    "```python\n",
    "people.plot(kind = \"scatter\", x = \"height\", y = \"weight\", s=[40, 120, 200])\n",
    "plt.show()\n",
    "```\n",
    "\n",
    "- which outputs:\n",
    "\n",
    "<img src=\"../assets/pandas/7.jpg\" align=\"center\" style=\"background-color: #fff; margin: 10px auto\" />    "
   ]
  },
  {
   "cell_type": "markdown",
   "metadata": {},
   "source": [
    "- Again, there are way too many options to list here: the best option is to scroll through the [Visualization](http://pandas.pydata.org/pandas-docs/stable/visualization.html) page in pandas' documentation, find the plot you are interested in and look at the example code.\n",
    "\n",
    "#### Operations on `DataFrame`s\n",
    "\n",
    "- Although `DataFrame`s do not try to mimick NumPy arrays, there are a few similarities. Let's create a `DataFrame` to demonstrate this:"
   ]
  },
  {
   "cell_type": "code",
   "execution_count": null,
   "metadata": {},
   "outputs": [],
   "source": [
    "```python\n",
    "import pandas as pd\n",
    "\n",
    "grades_array = np.array([[8, 8, 9], [10, 9, 9], [4, 8, 2], [9, 10, 10]])\n",
    "grades = pd.DataFrame(grades_array, columns=[\"sep\", \"oct\", \"nov\"], index=[\"alice\",\"bob\",\"charles\",\"darwin\"])\n",
    "grades\n",
    "```\n",
    "\n",
    "- which outputs:\n",
    "\n",
    "```\n",
    "         sep  oct  nov\n",
    "alice      8    8    9\n",
    "bob       10    9    9\n",
    "charles    4    8    2\n",
    "darwin     9   10   10\n",
    "```"
   ]
  },
  {
   "cell_type": "markdown",
   "metadata": {},
   "source": [
    "- You can apply NumPy mathematical functions on a `DataFrame`: the function is applied to all values:"
   ]
  },
  {
   "cell_type": "code",
   "execution_count": null,
   "metadata": {},
   "outputs": [],
   "source": [
    "```python\n",
    "np.sqrt(grades)\n",
    "```\n",
    "\n",
    "- which outputs:\n",
    "\n",
    "```\n",
    "              sep       oct       nov\n",
    "alice    2.828427  2.828427  3.000000\n",
    "bob      3.162278  3.000000  3.000000\n",
    "charles  2.000000  2.828427  1.414214\n",
    "darwin   3.000000  3.162278  3.162278\n",
    "```"
   ]
  },
  {
   "cell_type": "markdown",
   "metadata": {},
   "source": [
    "- Similarly, adding a single value to a `DataFrame` will add that value to all elements in the `DataFrame`. This is called **broadcasting**:"
   ]
  },
  {
   "cell_type": "code",
   "execution_count": null,
   "metadata": {},
   "outputs": [],
   "source": [
    "```python\n",
    "grades + 1\n",
    "```\n",
    "\n",
    "- which outputs:\n",
    "\n",
    "```\n",
    "         sep  oct  nov\n",
    "alice      9    9   10\n",
    "bob       11   10   10\n",
    "charles    5    9    3\n",
    "darwin    10   11   11\n",
    "```"
   ]
  },
  {
   "cell_type": "markdown",
   "metadata": {},
   "source": [
    "- Of course, the same is true for all other binary operations, including arithmetic (`*`,`/`,`**`...) and conditional (`>`, `==`...) operations:"
   ]
  },
  {
   "cell_type": "code",
   "execution_count": null,
   "metadata": {},
   "outputs": [],
   "source": [
    "```python\n",
    "grades >= 5\n",
    "```\n",
    "\n",
    "- which outputs:\n",
    "\n",
    "```\n",
    "           sep   oct    nov\n",
    "alice     True  True   True\n",
    "bob       True  True   True\n",
    "charles  False  True  False\n",
    "darwin    True  True   True\n",
    "```"
   ]
  },
  {
   "cell_type": "markdown",
   "metadata": {},
   "source": [
    "- Aggregation operations, such as computing the `max`, the `sum` or the `mean` of a `DataFrame`, apply to each column, and you get back a `Series` object:"
   ]
  },
  {
   "cell_type": "code",
   "execution_count": null,
   "metadata": {},
   "outputs": [],
   "source": [
    "```python\n",
    "grades.mean()\n",
    "```\n",
    "\n",
    "- which outputs:\n",
    "\n",
    "```\n",
    "sep    7.75\n",
    "oct    8.75\n",
    "nov    7.50\n",
    "dtype: float64\n",
    "```"
   ]
  },
  {
   "cell_type": "markdown",
   "metadata": {},
   "source": [
    "- The `all` method is also an aggregation operation: it checks whether all values are `True` or not. Let's see during which months all students got a grade greater than `5`:"
   ]
  },
  {
   "cell_type": "code",
   "execution_count": null,
   "metadata": {},
   "outputs": [],
   "source": [
    "```python\n",
    "(grades > 5).all()\n",
    "```\n",
    "\n",
    "- which outputs:\n",
    "\n",
    "```\n",
    "sep    False\n",
    "oct     True\n",
    "nov    False\n",
    "dtype: bool\n",
    "```"
   ]
  },
  {
   "cell_type": "markdown",
   "metadata": {},
   "source": [
    "- Most of these functions take an optional `axis` parameter which lets you specify along which axis of the `DataFrame` you want the operation executed. The default is `axis=0`, meaning that the operation is executed vertically (on each column). You can set `axis=1` to execute the operation horizontally (on each row). For example, let's find out which students had all grades greater than `5`:"
   ]
  },
  {
   "cell_type": "code",
   "execution_count": null,
   "metadata": {},
   "outputs": [],
   "source": [
    "```python\n",
    "(grades > 5).all(axis = 1)\n",
    "```\n",
    "\n",
    "- which outputs:\n",
    "\n",
    "```\n",
    "alice       True\n",
    "bob         True\n",
    "charles    False\n",
    "darwin      True\n",
    "dtype: bool\n",
    "```"
   ]
  },
  {
   "cell_type": "markdown",
   "metadata": {},
   "source": [
    "- The `any` method returns `True` if any value is True. Let's see who got at least one grade 10:"
   ]
  },
  {
   "cell_type": "code",
   "execution_count": null,
   "metadata": {},
   "outputs": [],
   "source": [
    "```python\n",
    "(grades == 10).any(axis = 1)\n",
    "```\n",
    "\n",
    "- which outputs:\n",
    "\n",
    "```\n",
    "alice      False\n",
    "bob         True\n",
    "charles    False\n",
    "darwin      True\n",
    "dtype: bool\n",
    "```"
   ]
  },
  {
   "cell_type": "markdown",
   "metadata": {},
   "source": [
    "- If you add a `Series` object to a `DataFrame` (or execute any other binary operation), pandas attempts to broadcast the operation to all **rows** in the `DataFrame`. This only works if the `Series` has the same size as the `DataFrame`s rows. For example, let's subtract the `mean` of the `DataFrame` (a `Series` object) from the `DataFrame`:"
   ]
  },
  {
   "cell_type": "code",
   "execution_count": null,
   "metadata": {},
   "outputs": [],
   "source": [
    "```python\n",
    "grades - grades.mean() # equivalent to: grades - [7.75, 8.75, 7.50]\n",
    "```\n",
    "\n",
    "- which outputs:\n",
    "\n",
    "```\n",
    "          sep   oct  nov\n",
    "alice    0.25 -0.75  1.5\n",
    "bob      2.25  0.25  1.5\n",
    "charles -3.75 -0.75 -5.5\n",
    "darwin   1.25  1.25  2.5\n",
    "```"
   ]
  },
  {
   "cell_type": "markdown",
   "metadata": {},
   "source": [
    "- We subtracted `7.75` from all September grades, `8.75` from October grades and `7.50` from November grades. It is equivalent to substracting this `DataFrame`:"
   ]
  },
  {
   "cell_type": "code",
   "execution_count": null,
   "metadata": {},
   "outputs": [],
   "source": [
    "```python\n",
    "pd.DataFrame([[7.75, 8.75, 7.50]]*4, index=grades.index, columns=grades.columns)\n",
    "```\n",
    "\n",
    "- which outputs:\n",
    "\n",
    "```\n",
    "          sep   oct  nov\n",
    "alice    7.75  8.75  7.5\n",
    "bob      7.75  8.75  7.5\n",
    "charles  7.75  8.75  7.5\n",
    "darwin   7.75  8.75  7.5\n",
    "```"
   ]
  },
  {
   "cell_type": "markdown",
   "metadata": {},
   "source": [
    "- If you want to subtract the global mean from every grade, here is one way to do it:"
   ]
  },
  {
   "cell_type": "code",
   "execution_count": null,
   "metadata": {},
   "outputs": [],
   "source": [
    "```python\n",
    "grades - grades.values.mean() # subtracts the global mean (8.00) from all grades\n",
    "```\n",
    "\n",
    "- which outputs:\n",
    "\n",
    "```\n",
    "         sep  oct  nov\n",
    "alice    0.0  0.0  1.0\n",
    "bob      2.0  1.0  1.0\n",
    "charles -4.0  0.0 -6.0\n",
    "darwin   1.0  2.0  2.0\n",
    "```"
   ]
  },
  {
   "cell_type": "markdown",
   "metadata": {},
   "source": [
    "#### Automatic alignment\n",
    "\n",
    "- Similar to `Series`, when operating on multiple `DataFrame`s, pandas automatically aligns them by row index label, but also by column names. Let's start with our previous grades `DataFrame` to demonstrate this:"
   ]
  },
  {
   "cell_type": "code",
   "execution_count": null,
   "metadata": {},
   "outputs": [],
   "source": [
    "```python\n",
    "import pandas as pd\n",
    "\n",
    "grades_array = np.array([[8, 8, 9], [10, 9, 9], [4, 8, 2], [9, 10, 10]])\n",
    "grades = pd.DataFrame(grades_array, columns=[\"sep\", \"oct\", \"nov\"], index=[\"alice\", \"bob\", \"charles\", \"darwin\"])\n",
    "grades\n",
    "```\n",
    "\n",
    "- which outputs:\n",
    "\n",
    "```\n",
    "         sep  oct  nov\n",
    "alice      8    8    9\n",
    "bob       10    9    9\n",
    "charles    4    8    2\n",
    "darwin     9   10   10\n",
    "```"
   ]
  },
  {
   "cell_type": "markdown",
   "metadata": {},
   "source": [
    "- Now, let's create a new `DataFrame` that holds the bonus points for each person from October to December:"
   ]
  },
  {
   "cell_type": "code",
   "execution_count": null,
   "metadata": {},
   "outputs": [],
   "source": [
    "```python\n",
    "import numpy as np\n",
    "\n",
    "bonus_array = np.array([[0, np.nan, 2],[np.nan, 1, 0],[0, 1, 0], [3, 3, 0]])\n",
    "bonus_points = pd.DataFrame(bonus_array, columns=[\"oct\", \"nov\", \"dec\"], index=[\"bob\", \"colin\", \"darwin\", \"charles\"])\n",
    "bonus_points\n",
    "```\n",
    "\n",
    "- which outputs:\n",
    "\n",
    "```\n",
    "         oct  nov  dec\n",
    "bob      0.0  NaN  2.0\n",
    "colin    NaN  1.0  0.0\n",
    "darwin   0.0  1.0  0.0\n",
    "charles  3.0  3.0  0.0\n",
    "```"
   ]
  },
  {
   "cell_type": "markdown",
   "metadata": {},
   "source": [
    "- Now, let's combine both `DataFrame`s:"
   ]
  },
  {
   "cell_type": "code",
   "execution_count": null,
   "metadata": {},
   "outputs": [],
   "source": [
    "```python\n",
    "grades + bonus_points\n",
    "```\n",
    "\n",
    "- which outputs:\n",
    "\n",
    "```\n",
    "         dec   nov   oct  sep\n",
    "alice    NaN   NaN   NaN  NaN\n",
    "bob      NaN   NaN   9.0  NaN\n",
    "charles  NaN   5.0  11.0  NaN\n",
    "colin    NaN   NaN   NaN  NaN\n",
    "darwin   NaN  11.0  10.0  NaN\n",
    "```"
   ]
  },
  {
   "cell_type": "markdown",
   "metadata": {},
   "source": [
    "- Looks like the addition worked in some cases but way too many elements are now empty. That's because when aligning the `DataFrame`s, some columns and rows were only present on one side, and thus they were considered missing on the other side (`NaN`). Then adding `NaN` to a number results in `NaN`, hence the result.\n",
    "\n",
    "#### Handling missing data\n",
    "\n",
    "- Dealing with missing data is a frequent task when working with real life data. Pandas offers a few tools to handle missing data.\n",
    "- Let's try to fix the problem seen in the above section on [automatic alignment](#automatic-alignment). Let's start with our previous grades `DataFrame` to demonstrate this:"
   ]
  },
  {
   "cell_type": "code",
   "execution_count": null,
   "metadata": {},
   "outputs": [],
   "source": [
    "```python\n",
    "import pandas as pd\n",
    "\n",
    "grades = pd.DataFrame({'sep': {'alice': 8, 'bob': 10, 'charles': 4, 'darwin': 9}, 'oct': {'alice': 8, 'bob': 9, 'charles': 8, 'darwin': 10}, 'nov': {'alice': 9, 'bob': 9, 'charles': 2, 'darwin': 10}})\n",
    "grades\n",
    "```\n",
    "\n",
    "- which outputs:\n",
    "\n",
    "```\n",
    "         sep  oct  nov\n",
    "alice      8    8    9\n",
    "bob       10    9    9\n",
    "charles    4    8    2\n",
    "darwin     9   10   10\n",
    "```"
   ]
  },
  {
   "cell_type": "markdown",
   "metadata": {},
   "source": [
    "- Now, let's create a new `DataFrame` that holds the bonus points for each person from October to December:"
   ]
  },
  {
   "cell_type": "code",
   "execution_count": null,
   "metadata": {},
   "outputs": [],
   "source": [
    "```python\n",
    "import numpy as np\n",
    "\n",
    "bonus_points = pd.DataFrame({'oct': {'bob': 0.0, 'colin': np.nan, 'darwin': 0.0, 'charles': 3.0}, 'nov': {'bob': np.nan, 'colin': 1.0, 'darwin': 1.0, 'charles': 3.0}, 'dec': {'bob': 2.0, 'colin': 0.0, 'darwin': 0.0, 'charles': 0.0}})\n",
    "bonus_points\n",
    "```\n",
    "\n",
    "- which outputs:\n",
    "\n",
    "```\n",
    "         oct  nov  dec\n",
    "bob      0.0  NaN  2.0\n",
    "colin    NaN  1.0  0.0\n",
    "darwin   0.0  1.0  0.0\n",
    "charles  3.0  3.0  0.0\n",
    "```"
   ]
  },
  {
   "cell_type": "markdown",
   "metadata": {},
   "source": [
    "- For example, we can decide that missing data should result in a zero, instead of `NaN`. We can replace all `NaN` values by a any value using the `fillna()` method:"
   ]
  },
  {
   "cell_type": "code",
   "execution_count": null,
   "metadata": {},
   "outputs": [],
   "source": [
    "```python\n",
    "(grades + bonus_points).fillna(0)\n",
    "```\n",
    "\n",
    "- which outputs:\n",
    "\n",
    "```\n",
    "         dec   nov   oct  sep\n",
    "alice    0.0   0.0   0.0  0.0\n",
    "bob      0.0   0.0   9.0  0.0\n",
    "charles  0.0   5.0  11.0  0.0\n",
    "colin    0.0   0.0   0.0  0.0\n",
    "darwin   0.0  11.0  10.0  0.0\n",
    "```"
   ]
  },
  {
   "cell_type": "markdown",
   "metadata": {},
   "source": [
    "- It's a bit unfair that we're setting grades to zero in September, though. Perhaps we should decide that missing grades are missing grades, but missing bonus points should be replaced by zeros:"
   ]
  },
  {
   "cell_type": "code",
   "execution_count": null,
   "metadata": {},
   "outputs": [],
   "source": [
    "```python\n",
    "fixed_bonus_points = bonus_points.fillna(0)\n",
    "fixed_bonus_points.insert(0, \"sep\", 0)\n",
    "fixed_bonus_points.loc[\"alice\"] = 0\n",
    "grades + fixed_bonus_points\n",
    "```\n",
    "\n",
    "- which outputs:\n",
    "\n",
    "```\n",
    "         dec   nov   oct   sep\n",
    "alice    NaN   9.0   8.0   8.0\n",
    "bob      NaN   9.0   9.0  10.0\n",
    "charles  NaN   5.0  11.0   4.0\n",
    "colin    NaN   NaN   NaN   NaN\n",
    "darwin   NaN  11.0  10.0   9.0\n",
    "```"
   ]
  },
  {
   "cell_type": "markdown",
   "metadata": {},
   "source": [
    "- That's much better: although we made up some data, we have not been too unfair.\n",
    "- Another way to handle missing data is to interpolate. Let's look at the `bonus_points` `DataFrame` again:"
   ]
  },
  {
   "cell_type": "code",
   "execution_count": null,
   "metadata": {},
   "outputs": [],
   "source": [
    "```python\n",
    "bonus_points\n",
    "```\n",
    "\n",
    "- which outputs:\n",
    "\n",
    "```\n",
    "         oct  nov  dec\n",
    "bob      0.0  NaN  2.0\n",
    "colin    NaN  1.0  0.0\n",
    "darwin   0.0  1.0  0.0\n",
    "charles  3.0  3.0  0.0\n",
    "```"
   ]
  },
  {
   "cell_type": "markdown",
   "metadata": {},
   "source": [
    "- Now let's call the `interpolate` method. By default, it interpolates vertically (`axis=0`), so let's tell it to interpolate horizontally (`axis=1`)."
   ]
  },
  {
   "cell_type": "code",
   "execution_count": null,
   "metadata": {},
   "outputs": [],
   "source": [
    "```python\n",
    "bonus_points.interpolate(axis=1)\n",
    "```\n",
    "\n",
    "- which outputs:\n",
    "\n",
    "```\n",
    "         oct  nov  dec\n",
    "bob      0.0  1.0  2.0\n",
    "colin    NaN  1.0  0.0\n",
    "darwin   0.0  1.0  0.0\n",
    "charles  3.0  3.0  0.0\n",
    "```"
   ]
  },
  {
   "cell_type": "markdown",
   "metadata": {},
   "source": [
    "- Bob had 0 bonus points in October, and 2 in December. When we interpolate for November, we get the mean: 1 bonus point. Colin had 1 bonus point in November, but we do not know how many bonus points he had in September, so we cannot interpolate, this is why there is still a missing value in October after interpolation. To fix this, we can set the September bonus points to 0 before interpolation."
   ]
  },
  {
   "cell_type": "code",
   "execution_count": null,
   "metadata": {},
   "outputs": [],
   "source": [
    "```python\n",
    "better_bonus_points = bonus_points.copy()\n",
    "better_bonus_points.insert(0, \"sep\", 0)\n",
    "better_bonus_points.loc[\"alice\"] = 0\n",
    "better_bonus_points = better_bonus_points.interpolate(axis=1)\n",
    "better_bonus_points\n",
    "```\n",
    "\n",
    "- which outputs:\n",
    "\n",
    "```\n",
    "         sep  oct  nov  dec\n",
    "bob      0.0  0.0  1.0  2.0\n",
    "colin    0.0  0.5  1.0  0.0\n",
    "darwin   0.0  0.0  1.0  0.0\n",
    "charles  0.0  3.0  3.0  0.0\n",
    "alice    0.0  0.0  0.0  0.0\n",
    "```"
   ]
  },
  {
   "cell_type": "markdown",
   "metadata": {},
   "source": [
    "- Great, now we have reasonable bonus points everywhere. Let's find out the final grades:"
   ]
  },
  {
   "cell_type": "code",
   "execution_count": null,
   "metadata": {},
   "outputs": [],
   "source": [
    "```python\n",
    "grades + better_bonus_points\n",
    "```\n",
    "\n",
    "- which outputs:\n",
    "\n",
    "```\n",
    "         dec   nov   oct   sep\n",
    "alice    NaN   9.0   8.0   8.0\n",
    "bob      NaN  10.0   9.0  10.0\n",
    "charles  NaN   5.0  11.0   4.0\n",
    "colin    NaN   NaN   NaN   NaN\n",
    "darwin   NaN  11.0  10.0   9.0\n",
    "```"
   ]
  },
  {
   "cell_type": "markdown",
   "metadata": {},
   "source": [
    "- It is slightly annoying that the September column ends up on the right. This is because the `DataFrame`s we are adding do not have the exact same columns (the `grades` `DataFrame` is missing the `\"dec\"` column), so to make things predictable, pandas orders the final columns alphabetically. To fix this, we can simply add the missing column before adding:"
   ]
  },
  {
   "cell_type": "code",
   "execution_count": null,
   "metadata": {},
   "outputs": [],
   "source": [
    "```python\n",
    "import numpy as np\n",
    "\n",
    "grades[\"dec\"] = np.nan\n",
    "final_grades = grades + better_bonus_points\n",
    "final_grades\n",
    "```\n",
    "\n",
    "- which outputs:\n",
    "\n",
    "```\n",
    "          sep   oct   nov  dec\n",
    "alice     8.0   8.0   9.0  NaN\n",
    "bob      10.0   9.0  10.0  NaN\n",
    "charles   4.0  11.0   5.0  NaN\n",
    "colin     NaN   NaN   NaN  NaN\n",
    "darwin    9.0  10.0  11.0  NaN\n",
    "```"
   ]
  },
  {
   "cell_type": "markdown",
   "metadata": {},
   "source": [
    "- There's not much we can do about December and Colin: it's bad enough that we are making up bonus points, but we can't reasonably make up grades (well I guess some teachers probably do). So let's call the `dropna()` method to get rid of rows that are full of `NaN`s:"
   ]
  },
  {
   "cell_type": "code",
   "execution_count": null,
   "metadata": {},
   "outputs": [],
   "source": [
    "```python\n",
    "final_grades_clean = final_grades.dropna(how=\"all\")\n",
    "final_grades_clean\n",
    "```\n",
    "\n",
    "- which outputs:\n",
    "\n",
    "```\n",
    "          sep   oct   nov  dec\n",
    "alice     8.0   8.0   9.0  NaN\n",
    "bob      10.0   9.0  10.0  NaN\n",
    "charles   4.0  11.0   5.0  NaN\n",
    "darwin    9.0  10.0  11.0  NaN\n",
    "```"
   ]
  },
  {
   "cell_type": "markdown",
   "metadata": {},
   "source": [
    "- Now let's remove columns that are full of `NaN`s by setting the `axis` argument to `1`:"
   ]
  },
  {
   "cell_type": "code",
   "execution_count": null,
   "metadata": {},
   "outputs": [],
   "source": [
    "```python\n",
    "final_grades_clean = final_grades_clean.dropna(axis=1, how=\"all\")\n",
    "final_grades_clean\n",
    "```\n",
    "\n",
    "- which outputs:\n",
    "\n",
    "```\n",
    "          sep   oct   nov\n",
    "alice     8.0   8.0   9.0\n",
    "bob      10.0   9.0  10.0\n",
    "charles   4.0  11.0   5.0\n",
    "darwin    9.0  10.0  11.0\n",
    "```"
   ]
  },
  {
   "cell_type": "markdown",
   "metadata": {},
   "source": [
    "#### Aggregating with `groupby`\n",
    "\n",
    "- Similar to the SQL language, pandas allows grouping your data into groups to run calculations over each group.\n",
    "\n",
    "- First, let's add some extra data about each person so we can group them, and let's go back to the `final_grades` `DataFrame` so we can see how `NaN` values are handled:"
   ]
  },
  {
   "cell_type": "code",
   "execution_count": null,
   "metadata": {},
   "outputs": [],
   "source": [
    "```python\n",
    "import numpy as np\n",
    "\n",
    "final_grades = pd.DataFrame({'sep': {'alice': 8.0, 'bob': 10.0, 'charles': 4.0, 'colin': np.nan, 'darwin': 9.0}, 'oct': {'alice': 8.0, 'bob': 9.0, 'charles': 11.0, 'colin': np.nan, 'darwin': 10.0}, 'nov': {'alice': 9.0, 'bob': 10.0, 'charles': 5.0, 'colin': np.nan, 'darwin': 11.0}, 'dec': {'alice': np.nan, 'bob': np.nan, 'charles': np.nan, 'colin': np.nan, 'darwin': np.nan}})\n",
    "final_grades\n",
    "```"
   ]
  },
  {
   "cell_type": "markdown",
   "metadata": {},
   "source": [
    "- Adding a new column \"hobby\" to `final_grades`:"
   ]
  },
  {
   "cell_type": "code",
   "execution_count": null,
   "metadata": {},
   "outputs": [],
   "source": [
    "```python\n",
    "final_grades[\"hobby\"] = [\"Biking\", \"Dancing\", np.nan, \"Dancing\", \"Biking\"]\n",
    "final_grades\n",
    "```\n",
    "\n",
    "- which outputs:\n",
    "\n",
    "```\n",
    "          sep   oct   nov  dec    hobby\n",
    "alice     8.0   8.0   9.0  NaN   Biking\n",
    "bob      10.0   9.0  10.0  NaN  Dancing\n",
    "charles   4.0  11.0   5.0  NaN      NaN\n",
    "colin     NaN   NaN   NaN  NaN  Dancing\n",
    "darwin    9.0  10.0  11.0  NaN   Biking\n",
    "```"
   ]
  },
  {
   "cell_type": "markdown",
   "metadata": {},
   "source": [
    "- Now let's group data in this `DataFrame` by hobby:"
   ]
  },
  {
   "cell_type": "code",
   "execution_count": null,
   "metadata": {},
   "outputs": [],
   "source": [
    "```python\n",
    "grouped_grades = final_grades.groupby(\"hobby\")\n",
    "grouped_grades\n",
    "```\n",
    "\n",
    "- which outputs:\n",
    "\n",
    "```\n",
    "<pandas.core.groupby.generic.DataFrameGroupBy object at [address]>\n",
    "```"
   ]
  },
  {
   "cell_type": "markdown",
   "metadata": {},
   "source": [
    "- We are ready to compute the average grade per hobby:"
   ]
  },
  {
   "cell_type": "code",
   "execution_count": null,
   "metadata": {},
   "outputs": [],
   "source": [
    "```python\n",
    "grouped_grades.mean()\n",
    "```\n",
    "\n",
    "- which outputs:\n",
    "\n",
    "```\n",
    "          sep  oct   nov  dec\n",
    "hobby\n",
    "Biking    8.5  9.0  10.0  NaN\n",
    "Dancing  10.0  9.0  10.0  NaN\n",
    "```"
   ]
  },
  {
   "cell_type": "markdown",
   "metadata": {},
   "source": [
    "- That was easy! Note that the `NaN` values have simply been skipped when computing the means.\n",
    "\n",
    "#### Pivot tables\n",
    "\n",
    "- Pandas supports spreadsheet-like [pivot tables](https://en.wikipedia.org/wiki/Pivot_table) that allow quick data summarization. To illustrate this, let's start with our  `DataFrame`:"
   ]
  },
  {
   "cell_type": "code",
   "execution_count": null,
   "metadata": {},
   "outputs": [],
   "source": [
    "```python\n",
    "final_grades_clean = {'sep': {'alice': 8.0, 'bob': 10.0, 'charles': 4.0, 'darwin': 9.0}, 'oct': {'alice': 8.0, 'bob': 9.0, 'charles': 11.0, 'darwin': 10.0}, 'nov': {'alice': 9.0, 'bob': 10.0, 'charles': 5.0, 'darwin': 11.0}}\n",
    "final_grades_clean\n",
    "```\n",
    "\n",
    "- which outputs:\n",
    "\n",
    "```\n",
    "         oct  nov  dec\n",
    "bob      0.0  NaN  2.0\n",
    "colin    NaN  1.0  0.0\n",
    "darwin   0.0  1.0  0.0\n",
    "charles  3.0  3.0  0.0\n",
    "```"
   ]
  },
  {
   "cell_type": "markdown",
   "metadata": {},
   "source": [
    "- Now let's restructure the data:"
   ]
  },
  {
   "cell_type": "code",
   "execution_count": null,
   "metadata": {},
   "outputs": [],
   "source": [
    "```python\n",
    "more_grades = final_grades_clean.stack().reset_index()\n",
    "more_grades.columns = [\"name\", \"month\", \"grade\"]\n",
    "more_grades[\"bonus\"] = [np.nan, np.nan, np.nan, 0, np.nan, 2, 3, 3, 0, 0, 1, 0]\n",
    "more_grades\n",
    "```\n",
    "\n",
    "- which outputs:\n",
    "\n",
    "```python\n",
    "       name month  grade  bonus\n",
    "0     alice   sep    8.0    NaN\n",
    "1     alice   oct    8.0    NaN\n",
    "2     alice   nov    9.0    NaN\n",
    "3       bob   sep   10.0    0.0\n",
    "4       bob   oct    9.0    NaN\n",
    "5       bob   nov   10.0    2.0\n",
    "6   charles   sep    4.0    3.0\n",
    "7   charles   oct   11.0    3.0\n",
    "8   charles   nov    5.0    0.0\n",
    "9    darwin   sep    9.0    0.0\n",
    "10   darwin   oct   10.0    1.0\n",
    "11   darwin   nov   11.0    0.0\n",
    "```"
   ]
  },
  {
   "cell_type": "markdown",
   "metadata": {},
   "source": [
    "- Now we can call the `pd.pivot_table()` function for this `DataFrame`, asking to group by the `name` column. By default, `pivot_table()` computes the mean of each numeric column:"
   ]
  },
  {
   "cell_type": "code",
   "execution_count": null,
   "metadata": {},
   "outputs": [],
   "source": [
    "```python\n",
    "pd.pivot_table(more_grades, index=\"name\")\n",
    "```\n",
    "\n",
    "- which outputs:\n",
    "\n",
    "```\n",
    "            bonus      grade\n",
    "name\n",
    "alice         NaN   8.333333\n",
    "bob      1.000000   9.666667\n",
    "charles  2.000000   6.666667\n",
    "darwin   0.333333  10.000000\n",
    "```"
   ]
  },
  {
   "cell_type": "markdown",
   "metadata": {},
   "source": [
    "- We can change the aggregation function by setting the `aggfunc` argument, and we can also specify the list of columns whose values will be aggregated:"
   ]
  },
  {
   "cell_type": "code",
   "execution_count": null,
   "metadata": {},
   "outputs": [],
   "source": [
    "```python\n",
    "pd.pivot_table(more_grades, index=\"name\", values=[\"grade\",\"bonus\"], aggfunc=np.max)\n",
    "```\n",
    "\n",
    "- which outputs:\n",
    "\n",
    "```\n",
    "         bonus  grade\n",
    "name\n",
    "alice      NaN    9.0\n",
    "bob        2.0   10.0\n",
    "charles    3.0   11.0\n",
    "darwin     1.0   11.0\n",
    "```"
   ]
  },
  {
   "cell_type": "markdown",
   "metadata": {},
   "source": [
    "- We can also specify the `columns` to aggregate over horizontally, and request the grand totals for each row and column by setting `margins=True`:"
   ]
  },
  {
   "cell_type": "code",
   "execution_count": null,
   "metadata": {},
   "outputs": [],
   "source": [
    "```python\n",
    "pd.pivot_table(more_grades, index=\"name\", values=\"grade\", columns=\"month\", margins=True)\n",
    "```\n",
    "\n",
    "- which outputs:\n",
    "\n",
    "```\n",
    "month      nov   oct    sep        All\n",
    "name\n",
    "alice     9.00   8.0   8.00   8.333333\n",
    "bob      10.00   9.0  10.00   9.666667\n",
    "charles   5.00  11.0   4.00   6.666667\n",
    "darwin   11.00  10.0   9.00  10.000000\n",
    "All       8.75   9.5   7.75   8.666667\n",
    "```"
   ]
  },
  {
   "cell_type": "markdown",
   "metadata": {},
   "source": [
    "- Finally, we can specify multiple index or column names, and pandas will create multi-level indices:"
   ]
  },
  {
   "cell_type": "code",
   "execution_count": null,
   "metadata": {},
   "outputs": [],
   "source": [
    "```python\n",
    "pd.pivot_table(more_grades, index=(\"name\", \"month\"), margins=True)\n",
    "```\n",
    "\n",
    "- which outputs:\n",
    "\n",
    "```\n",
    "               bonus  grade\n",
    "name    month\n",
    "alice   nov      NaN   9.00\n",
    "        oct      NaN   8.00\n",
    "        sep      NaN   8.00\n",
    "bob     nov    2.000  10.00\n",
    "        oct      NaN   9.00\n",
    "        sep    0.000  10.00\n",
    "charles nov    0.000   5.00\n",
    "        oct    3.000  11.00\n",
    "        sep    3.000   4.00\n",
    "darwin  nov    0.000  11.00\n",
    "        oct    1.000  10.00\n",
    "        sep    0.000   9.00\n",
    "All            1.125   8.75\n",
    "```"
   ]
  },
  {
   "cell_type": "markdown",
   "metadata": {},
   "source": [
    "#### Overview functions\n",
    "\n",
    "- When dealing with large `DataFrames`, it is useful to get a quick overview of its content. Pandas offers a few functions for this. First, let's create a large `DataFrame` with a mix of numeric values, missing values and text values. Notice how Jupyter displays only the corners of the `DataFrame`:"
   ]
  },
  {
   "cell_type": "code",
   "execution_count": null,
   "metadata": {},
   "outputs": [],
   "source": [
    "```python\n",
    "much_data = np.fromfunction(lambda x,y: (x+y*y)%17*11, (10000, 26))\n",
    "large_df = pd.DataFrame(much_data, columns=list(\"ABCDEFGHIJKLMNOPQRSTUVWXYZ\"))\n",
    "large_df[large_df % 16 == 0] = np.nan\n",
    "large_df.insert(3,\"some_text\", \"Blabla\")\n",
    "large_df\n",
    "```\n",
    "\n",
    "- which outputs:\n",
    "\n",
    "```\n",
    "         A     B     C some_text      D  ...      V      W     X      Y      Z\n",
    "0      NaN  11.0  44.0    Blabla   99.0  ...    NaN   88.0  22.0  165.0  143.0\n",
    "1     11.0  22.0  55.0    Blabla  110.0  ...    NaN   99.0  33.0    NaN  154.0\n",
    "2     22.0  33.0  66.0    Blabla  121.0  ...   11.0  110.0  44.0    NaN  165.0\n",
    "3     33.0  44.0  77.0    Blabla  132.0  ...   22.0  121.0  55.0   11.0    NaN\n",
    "4     44.0  55.0  88.0    Blabla  143.0  ...   33.0  132.0  66.0   22.0    NaN\n",
    "...    ...   ...   ...       ...    ...  ...    ...    ...   ...    ...    ...\n",
    "9995   NaN   NaN  33.0    Blabla   88.0  ...  165.0   77.0  11.0  154.0  132.0\n",
    "9996   NaN  11.0  44.0    Blabla   99.0  ...    NaN   88.0  22.0  165.0  143.0\n",
    "9997  11.0  22.0  55.0    Blabla  110.0  ...    NaN   99.0  33.0    NaN  154.0\n",
    "9998  22.0  33.0  66.0    Blabla  121.0  ...   11.0  110.0  44.0    NaN  165.0\n",
    "9999  33.0  44.0  77.0    Blabla  132.0  ...   22.0  121.0  55.0   11.0    NaN\n",
    "\n",
    "[10000 rows x 27 columns]\n",
    "```"
   ]
  },
  {
   "cell_type": "markdown",
   "metadata": {},
   "source": [
    "- The `head()` method returns the top 5 rows:"
   ]
  },
  {
   "cell_type": "code",
   "execution_count": null,
   "metadata": {},
   "outputs": [],
   "source": [
    "```python\n",
    "large_df.head()\n",
    "```\n",
    "\n",
    "- which outputs:\n",
    "\n",
    "```\n",
    "      A     B     C some_text      D  ...     V      W     X      Y      Z\n",
    "0   NaN  11.0  44.0    Blabla   99.0  ...   NaN   88.0  22.0  165.0  143.0\n",
    "1  11.0  22.0  55.0    Blabla  110.0  ...   NaN   99.0  33.0    NaN  154.0\n",
    "2  22.0  33.0  66.0    Blabla  121.0  ...  11.0  110.0  44.0    NaN  165.0\n",
    "3  33.0  44.0  77.0    Blabla  132.0  ...  22.0  121.0  55.0   11.0    NaN\n",
    "4  44.0  55.0  88.0    Blabla  143.0  ...  33.0  132.0  66.0   22.0    NaN\n",
    "\n",
    "[5 rows x 27 columns]\n",
    "```"
   ]
  },
  {
   "cell_type": "markdown",
   "metadata": {},
   "source": [
    "- Similarly, there's also a `tail()` function to view the bottom 5 rows. You can pass the number of rows you want:"
   ]
  },
  {
   "cell_type": "code",
   "execution_count": null,
   "metadata": {},
   "outputs": [],
   "source": [
    "```python\n",
    "large_df.tail(n=2)\n",
    "```\n",
    "\n",
    "- which outputs:\n",
    "\n",
    "```\n",
    "         A     B     C some_text      D  ...     V      W     X     Y      Z\n",
    "9998  22.0  33.0  66.0    Blabla  121.0  ...  11.0  110.0  44.0   NaN  165.0\n",
    "9999  33.0  44.0  77.0    Blabla  132.0  ...  22.0  121.0  55.0  11.0    NaN\n",
    "\n",
    "[2 rows x 27 columns]\n",
    "```"
   ]
  },
  {
   "cell_type": "markdown",
   "metadata": {},
   "source": [
    "- The `info()` method prints out a summary of each columns contents:"
   ]
  },
  {
   "cell_type": "code",
   "execution_count": null,
   "metadata": {},
   "outputs": [],
   "source": [
    "```python\n",
    "large_df.info()\n",
    "```\n",
    "\n",
    "- which outputs:\n",
    "\n",
    "```\n",
    "<class 'pandas.core.frame.DataFrame'>\n",
    "RangeIndex: 10000 entries, 0 to 9999\n",
    "Data columns (total 27 columns):\n",
    "A            8823 non-null float64\n",
    "B            8824 non-null float64\n",
    "C            8824 non-null float64\n",
    "some_text    10000 non-null object\n",
    "D            8824 non-null float64\n",
    "E            8822 non-null float64\n",
    "F            8824 non-null float64\n",
    "G            8824 non-null float64\n",
    "H            8822 non-null float64\n",
    "I            8823 non-null float64\n",
    "J            8823 non-null float64\n",
    "K            8822 non-null float64\n",
    "L            8824 non-null float64\n",
    "M            8824 non-null float64\n",
    "N            8822 non-null float64\n",
    "O            8824 non-null float64\n",
    "P            8824 non-null float64\n",
    "Q            8824 non-null float64\n",
    "R            8823 non-null float64\n",
    "S            8824 non-null float64\n",
    "T            8824 non-null float64\n",
    "U            8824 non-null float64\n",
    "V            8822 non-null float64\n",
    "W            8824 non-null float64\n",
    "X            8824 non-null float64\n",
    "Y            8822 non-null float64\n",
    "Z            8823 non-null float64\n",
    "dtypes: float64(26), object(1)\n",
    "memory usage: 2.1+ MB\n",
    "```"
   ]
  },
  {
   "cell_type": "markdown",
   "metadata": {},
   "source": [
    "- Finally, the `describe()` method gives a nice overview of the main aggregated values over each column:"
   ]
  },
  {
   "cell_type": "code",
   "execution_count": null,
   "metadata": {},
   "outputs": [],
   "source": [
    "* `count`: number of non-null (not NaN) values\n",
    "* `mean`: mean of non-null values\n",
    "* `std`: [standard deviation](https://en.wikipedia.org/wiki/Standard_deviation)\n",
    "of non-null values\n",
    "* `min`: minimum of non-null values\n",
    "* `25%`, `50%`, `75%`: 25th, 50th and 75th\n",
    "[percentile](https://en.wikipedia.org/wiki/Percentile) of non-null values\n",
    "* `max`: maximum of non-null values\n",
    "\n",
    "```python\n",
    "large_df.describe()\n",
    "```\n",
    "\n",
    "- which outputs:\n",
    "\n",
    "```\n",
    "                 A            B  ...            Y            Z\n",
    "count  8823.000000  8824.000000  ...  8822.000000  8823.000000\n",
    "mean     87.977559    87.972575  ...    88.000000    88.022441\n",
    "std      47.535911    47.535523  ...    47.536879    47.535911\n",
    "min      11.000000    11.000000  ...    11.000000    11.000000\n",
    "25%      44.000000    44.000000  ...    44.000000    44.000000\n",
    "50%      88.000000    88.000000  ...    88.000000    88.000000\n",
    "75%     132.000000   132.000000  ...   132.000000   132.000000\n",
    "max     165.000000   165.000000  ...   165.000000   165.000000\n",
    "\n",
    "[8 rows x 26 columns]\n",
    "```"
   ]
  },
  {
   "cell_type": "markdown",
   "metadata": {},
   "source": [
    "## Saving & loading\n",
    "\n",
    "- Pandas can save `DataFrame`s to various backends, including file formats such as CSV, Excel, JSON, HTML and HDF5, or to a SQL database. Let's create a `DataFrame` to demonstrate this:"
   ]
  },
  {
   "cell_type": "code",
   "execution_count": null,
   "metadata": {},
   "outputs": [],
   "source": [
    "```python\n",
    "my_df = pd.DataFrame(\n",
    "    [[\"Biking\", 68.5, 1985, np.nan], [\"Dancing\", 83.1, 1984, 3]], \n",
    "    columns=[\"hobby\",\"weight\",\"birthyear\",\"children\"],\n",
    "    index=[\"alice\", \"bob\"]\n",
    ")\n",
    "my_df\n",
    "```\n",
    "\n",
    "- which outputs:\n",
    "\n",
    "```\n",
    "         hobby  weight  birthyear  children\n",
    "alice   Biking    68.5       1985       NaN\n",
    "bob    Dancing    83.1       1984       3.0\n",
    "```"
   ]
  },
  {
   "cell_type": "markdown",
   "metadata": {},
   "source": [
    "#### Saving\n",
    "\n",
    "- Let's save it to CSV, HTML and JSON:"
   ]
  },
  {
   "cell_type": "code",
   "execution_count": null,
   "metadata": {},
   "outputs": [],
   "source": [
    "```python\n",
    "my_df.to_csv(\"my_df.csv\")\n",
    "my_df.to_html(\"my_df.html\")\n",
    "my_df.to_json(\"my_df.json\")\n",
    "```"
   ]
  },
  {
   "cell_type": "markdown",
   "metadata": {},
   "source": [
    "- Done! Let's take a peek at what was saved:"
   ]
  },
  {
   "cell_type": "code",
   "execution_count": null,
   "metadata": {},
   "outputs": [],
   "source": [
    "```python\n",
    "for filename in (\"my_df.csv\", \"my_df.html\", \"my_df.json\"):\n",
    "    print(\"##\", filename)\n",
    "    with open(filename, \"rt\") as f:\n",
    "        print(f.read())\n",
    "        print()\n",
    "```\n",
    "\n",
    "- which outputs:\n",
    "\n",
    "```\n",
    "## my_df.csv\n",
    ",hobby,weight,birthyear,children\n",
    "alice,Biking,68.5,1985,\n",
    "bob,Dancing,83.1,1984,3.0\n",
    "\n",
    "\n",
    "## my_df.html\n",
    "<table border=\"1\" class=\"dataframe\">\n",
    "  <thead>\n",
    "    <tr style=\"text-align: right;\">\n",
    "      <th></th>\n",
    "      <th>hobby</th>\n",
    "      <th>weight</th>\n",
    "      <th>birthyear</th>\n",
    "      <th>children</th>\n",
    "    </tr>\n",
    "  </thead>\n",
    "  <tbody>\n",
    "    <tr>\n",
    "      <th>alice</th>\n",
    "      <td>Biking</td>\n",
    "      <td>68.5</td>\n",
    "      <td>1985</td>\n",
    "      <td>NaN</td>\n",
    "    </tr>\n",
    "    <tr>\n",
    "      <th>bob</th>\n",
    "      <td>Dancing</td>\n",
    "      <td>83.1</td>\n",
    "      <td>1984</td>\n",
    "      <td>3.0</td>\n",
    "    </tr>\n",
    "  </tbody>\n",
    "</table>\n",
    "\n",
    "## my_df.json\n",
    "{\"hobby\":{\"alice\":\"Biking\",\"bob\":\"Dancing\"},\"weight\":{\"alice\":68.5,\"bob\":83.1},\"birthyear\":{\"alice\":1985,\"bob\":1984},\"children\":{\"alice\":null,\"bob\":3.0}}\n",
    "```"
   ]
  },
  {
   "cell_type": "markdown",
   "metadata": {},
   "source": [
    "- Note that the index is saved as the first column (with no name) in a CSV file, as `<th>` tags in HTML and as keys in JSON.\n",
    "\n",
    "- Saving to other formats works very similarly, but some formats require extra libraries to be installed. For example, saving to Excel requires the `openpyxl` library:"
   ]
  },
  {
   "cell_type": "code",
   "execution_count": null,
   "metadata": {},
   "outputs": [],
   "source": [
    "```python\n",
    "try:\n",
    "    my_df.to_excel(\"my_df.xlsx\", sheet_name='People')\n",
    "except ImportError as e:\n",
    "    print(e)\n",
    "```\n",
    "\n",
    "- which outputs:\n",
    "\n",
    "```\n",
    "No module named 'openpyxl'\n",
    "```"
   ]
  },
  {
   "cell_type": "markdown",
   "metadata": {},
   "source": [
    "#### Loading\n",
    "\n",
    "- Now let's load our CSV file back into a `DataFrame`:"
   ]
  },
  {
   "cell_type": "code",
   "execution_count": null,
   "metadata": {},
   "outputs": [],
   "source": [
    "```python\n",
    "my_df_loaded = pd.read_csv(\"my_df.csv\", index_col=0)\n",
    "my_df_loaded\n",
    "```\n",
    "\n",
    "- which outputs:\n",
    "\n",
    "```\n",
    "         hobby  weight  birthyear  children\n",
    "alice   Biking    68.5       1985       NaN\n",
    "bob    Dancing    83.1       1984       3.0\n",
    "```"
   ]
  },
  {
   "cell_type": "markdown",
   "metadata": {},
   "source": [
    "- As you might guess, there are similar `read_json`, `read_html`, `read_excel` functions as well.  We can also read data straight from the Internet. For example, let's load all U.S. cities from [simplemaps.com](http://simplemaps.com/):"
   ]
  },
  {
   "cell_type": "code",
   "execution_count": null,
   "metadata": {},
   "outputs": [],
   "source": [
    "```python\n",
    "us_cities = None\n",
    "try:\n",
    "    csv_url = \"https://raw.githubusercontent.com/datasets/world-cities/master/data/world-cities.csv\"\n",
    "    us_cities = pd.read_csv(csv_url, index_col=0)\n",
    "    us_cities = us_cities.head()\n",
    "except IOError as e:\n",
    "    print(e)\n",
    "    \n",
    "us_cities\n",
    "```\n",
    "\n",
    "- which outputs:\n",
    "\n",
    "```\n",
    "                               country          subcountry  geonameid\n",
    "name\n",
    "les Escaldes                   Andorra  Escaldes-Engordany    3040051\n",
    "Andorra la Vella               Andorra    Andorra la Vella    3041563\n",
    "Umm al Qaywayn    United Arab Emirates      Umm al Qaywayn     290594\n",
    "Ras al-Khaimah    United Arab Emirates     Raʼs al Khaymah     291074\n",
    "Khawr Fakkān      United Arab Emirates        Ash Shāriqah     291696\n",
    "```"
   ]
  },
  {
   "cell_type": "markdown",
   "metadata": {},
   "source": [
    "- There are more options available, in particular regarding datetime format. Check out the [documentation](http://pandas.pydata.org/pandas-docs/stable/io.html) for more details.\n",
    "\n",
    "## Combining `DataFrame`s\n",
    "\n",
    "#### SQL-like joins\n",
    "\n",
    "- One powerful feature of pandas is it's ability to perform SQL-like joins on `DataFrame`s. Various types of joins are supported: inner joins, left/right outer joins and full joins. To illustrate this, let's start by creating a couple of simple `DataFrame`s. \n",
    "- Here's the city_loc `DataFrame`:"
   ]
  },
  {
   "cell_type": "code",
   "execution_count": null,
   "metadata": {},
   "outputs": [],
   "source": [
    "```python\n",
    "city_loc = pd.DataFrame(\n",
    "    [\n",
    "        [\"CA\", \"San Francisco\", 37.781334, -122.416728],\n",
    "        [\"NY\", \"New York\", 40.705649, -74.008344],\n",
    "        [\"FL\", \"Miami\", 25.791100, -80.320733],\n",
    "        [\"OH\", \"Cleveland\", 41.473508, -81.739791],\n",
    "        [\"UT\", \"Salt Lake City\", 40.755851, -111.896657]\n",
    "    ], columns=[\"state\", \"city\", \"lat\", \"lng\"])\n",
    "\n",
    "city_loc\n",
    "```\n",
    "\n",
    "- which outputs:\n",
    "\n",
    "```\n",
    "  state            city        lat         lng\n",
    "0    CA   San Francisco  37.781334 -122.416728\n",
    "1    NY        New York  40.705649  -74.008344\n",
    "2    FL           Miami  25.791100  -80.320733\n",
    "3    OH       Cleveland  41.473508  -81.739791\n",
    "4    UT  Salt Lake City  40.755851 -111.896657\n",
    "```\n",
    "\n",
    "```python\n",
    "city_pop = pd.DataFrame(\n",
    "    [\n",
    "        [808976, \"San Francisco\", \"California\"],\n",
    "        [8363710, \"New York\", \"New-York\"],\n",
    "        [413201, \"Miami\", \"Florida\"],\n",
    "        [2242193, \"Houston\", \"Texas\"]\n",
    "    ], index=[3,4,5,6], columns=[\"population\", \"city\", \"state\"])\n",
    "\n",
    "city_pop\n",
    "```\n",
    "\n",
    "- which outputs:\n",
    "\n",
    "```\n",
    "   population           city       state\n",
    "3      808976  San Francisco  California\n",
    "4     8363710       New York    New-York\n",
    "5      413201          Miami     Florida\n",
    "6     2242193        Houston       Texas\n",
    "```"
   ]
  },
  {
   "cell_type": "markdown",
   "metadata": {},
   "source": [
    "- Now let's join these `DataFrame`s using the `merge()` function:"
   ]
  },
  {
   "cell_type": "code",
   "execution_count": null,
   "metadata": {},
   "outputs": [],
   "source": [
    "```python\n",
    "pd.merge(left=city_loc, right=city_pop, on=\"city\")\n",
    "```\n",
    "\n",
    "- which outputs:\n",
    "\n",
    "```\n",
    "  state_x           city        lat         lng  population     state_y\n",
    "0      CA  San Francisco  37.781334 -122.416728      808976  California\n",
    "1      NY       New York  40.705649  -74.008344     8363710    New-York\n",
    "2      FL          Miami  25.791100  -80.320733      413201     Florida\n",
    "```"
   ]
  },
  {
   "cell_type": "markdown",
   "metadata": {},
   "source": [
    "- Note that both `DataFrame`s have a column named `state`, so in the result they got renamed to `state_x` and `state_y`.\n",
    "\n",
    "- Also, note that Cleveland, Salt Lake City and Houston were dropped because they don't exist in **both** `DataFrame`s. This is the equivalent of a SQL `INNER JOIN`. If you want a `FULL OUTER JOIN`, where no city gets dropped and `NaN` values are added, you must specify `how=\"outer\"`:"
   ]
  },
  {
   "cell_type": "code",
   "execution_count": null,
   "metadata": {},
   "outputs": [],
   "source": [
    "```python\n",
    "all_cities = pd.merge(left=city_loc, right=city_pop, on=\"city\", how=\"outer\")\n",
    "all_cities\n",
    "```\n",
    "\n",
    "- which outputs:\n",
    "\n",
    "```\n",
    "  state_x            city        lat         lng  population     state_y\n",
    "0      CA   San Francisco  37.781334 -122.416728    808976.0  California\n",
    "1      NY        New York  40.705649  -74.008344   8363710.0    New-York\n",
    "2      FL           Miami  25.791100  -80.320733    413201.0     Florida\n",
    "3      OH       Cleveland  41.473508  -81.739791         NaN         NaN\n",
    "4      UT  Salt Lake City  40.755851 -111.896657         NaN         NaN\n",
    "5     NaN         Houston        NaN         NaN   2242193.0       Texas\n",
    "```"
   ]
  },
  {
   "cell_type": "markdown",
   "metadata": {},
   "source": [
    "- Of course `LEFT OUTER JOIN` is also available by setting `how=\"left\"`: only the cities present in the left `DataFrame` end up in the result. Similarly, with `how=\"right\"` only cities in the right `DataFrame` appear in the result. For example:"
   ]
  },
  {
   "cell_type": "code",
   "execution_count": null,
   "metadata": {},
   "outputs": [],
   "source": [
    "```python\n",
    "pd.merge(left=city_loc, right=city_pop, on=\"city\", how=\"right\")\n",
    "```\n",
    "\n",
    "- which outputs:\n",
    "\n",
    "```\n",
    "  state_x           city        lat         lng  population     state_y\n",
    "0      CA  San Francisco  37.781334 -122.416728      808976  California\n",
    "1      NY       New York  40.705649  -74.008344     8363710    New-York\n",
    "2      FL          Miami  25.791100  -80.320733      413201     Florida\n",
    "3     NaN        Houston        NaN         NaN     2242193       Texas\n",
    "```"
   ]
  },
  {
   "cell_type": "markdown",
   "metadata": {},
   "source": [
    "- If the key to join on is actually in one (or both) `DataFrame`'s index, you must use `left_index=True` and/or `right_index=True`. If the key column names differ, you must use `left_on` and `right_on`. For example:"
   ]
  },
  {
   "cell_type": "code",
   "execution_count": null,
   "metadata": {},
   "outputs": [],
   "source": [
    "```python\n",
    "city_pop2 = city_pop.copy()\n",
    "city_pop2.columns = [\"population\", \"name\", \"state\"]\n",
    "pd.merge(left=city_loc, right=city_pop2, left_on=\"city\", right_on=\"name\")\n",
    "```\n",
    "\n",
    "- which outputs:\n",
    "\n",
    "```\n",
    "  state_x           city        lat  ...  population           name     state_y\n",
    "0      CA  San Francisco  37.781334  ...      808976  San Francisco  California\n",
    "1      NY       New York  40.705649  ...     8363710       New York    New-York\n",
    "2      FL          Miami  25.791100  ...      413201          Miami     Florida\n",
    "\n",
    "[3 rows x 7 columns]\n",
    "```"
   ]
  },
  {
   "cell_type": "markdown",
   "metadata": {},
   "source": [
    "#### Concatenation\n",
    "\n",
    "- Rather than joining `DataFrame`s, we may just want to concatenate them. That's what `concat()` is for:"
   ]
  },
  {
   "cell_type": "code",
   "execution_count": null,
   "metadata": {},
   "outputs": [],
   "source": [
    "```python\n",
    "result_concat = pd.concat([city_loc, city_pop])\n",
    "result_concat\n",
    "```\n",
    "\n",
    "- which outputs:\n",
    "\n",
    "```\n",
    "             city        lat         lng  population       state\n",
    "0   San Francisco  37.781334 -122.416728         NaN          CA\n",
    "1        New York  40.705649  -74.008344         NaN          NY\n",
    "2           Miami  25.791100  -80.320733         NaN          FL\n",
    "3       Cleveland  41.473508  -81.739791         NaN          OH\n",
    "4  Salt Lake City  40.755851 -111.896657         NaN          UT\n",
    "3   San Francisco        NaN         NaN    808976.0  California\n",
    "4        New York        NaN         NaN   8363710.0    New-York\n",
    "5           Miami        NaN         NaN    413201.0     Florida\n",
    "6         Houston        NaN         NaN   2242193.0       Texas\n",
    "```"
   ]
  },
  {
   "cell_type": "markdown",
   "metadata": {},
   "source": [
    "- Note that this operation aligned the data horizontally (by columns) but not vertically (by rows). In this example, we end up with multiple rows having the same index (eg. 3). Pandas handles this rather gracefully:"
   ]
  },
  {
   "cell_type": "code",
   "execution_count": null,
   "metadata": {},
   "outputs": [],
   "source": [
    "```python\n",
    "result_concat.loc[3]\n",
    "```\n",
    "\n",
    "- which outputs:\n",
    "\n",
    "```\n",
    "            city        lat        lng  population       state\n",
    "3      Cleveland  41.473508 -81.739791         NaN          OH\n",
    "3  San Francisco        NaN        NaN    808976.0  California\n",
    "```"
   ]
  },
  {
   "cell_type": "markdown",
   "metadata": {},
   "source": [
    "- Or you can tell pandas to just ignore the index:"
   ]
  },
  {
   "cell_type": "code",
   "execution_count": null,
   "metadata": {},
   "outputs": [],
   "source": [
    "```python\n",
    "pd.concat([city_loc, city_pop], ignore_index=True)\n",
    "```\n",
    "\n",
    "- which outputs:\n",
    "\n",
    "```\n",
    "             city        lat         lng  population       state\n",
    "0   San Francisco  37.781334 -122.416728         NaN          CA\n",
    "1        New York  40.705649  -74.008344         NaN          NY\n",
    "2           Miami  25.791100  -80.320733         NaN          FL\n",
    "3       Cleveland  41.473508  -81.739791         NaN          OH\n",
    "4  Salt Lake City  40.755851 -111.896657         NaN          UT\n",
    "5   San Francisco        NaN         NaN    808976.0  California\n",
    "6        New York        NaN         NaN   8363710.0    New-York\n",
    "7           Miami        NaN         NaN    413201.0     Florida\n",
    "8         Houston        NaN         NaN   2242193.0       Texas\n",
    "```"
   ]
  },
  {
   "cell_type": "markdown",
   "metadata": {},
   "source": [
    "- Notice that when a column does not exist in a `DataFrame`, it acts as if it was filled with `NaN` values. If we set `join=\"inner\"`, then only columns that exist in **both** `DataFrame`s are returned:"
   ]
  },
  {
   "cell_type": "code",
   "execution_count": null,
   "metadata": {},
   "outputs": [],
   "source": [
    "```python\n",
    "pd.concat([city_loc, city_pop], join=\"inner\")\n",
    "```\n",
    "\n",
    "- which outputs:\n",
    "\n",
    "```\n",
    "        state            city\n",
    "0          CA   San Francisco\n",
    "1          NY        New York\n",
    "2          FL           Miami\n",
    "3          OH       Cleveland\n",
    "4          UT  Salt Lake City\n",
    "3  California   San Francisco\n",
    "4    New-York        New York\n",
    "5     Florida           Miami\n",
    "6       Texas         Houston\n",
    "```"
   ]
  },
  {
   "cell_type": "markdown",
   "metadata": {},
   "source": [
    "- You can concatenate `DataFrame`s horizontally instead of vertically by setting `axis=1`:"
   ]
  },
  {
   "cell_type": "code",
   "execution_count": null,
   "metadata": {},
   "outputs": [],
   "source": [
    "```python\n",
    "pd.concat([city_loc, city_pop], axis=1)\n",
    "```\n",
    "\n",
    "- which outputs:\n",
    "\n",
    "```\n",
    "  state            city        lat  ...  population           city       state\n",
    "0    CA   San Francisco  37.781334  ...         NaN            NaN         NaN\n",
    "1    NY        New York  40.705649  ...         NaN            NaN         NaN\n",
    "2    FL           Miami  25.791100  ...         NaN            NaN         NaN\n",
    "3    OH       Cleveland  41.473508  ...    808976.0  San Francisco  California\n",
    "4    UT  Salt Lake City  40.755851  ...   8363710.0       New York    New-York\n",
    "5   NaN             NaN        NaN  ...    413201.0          Miami     Florida\n",
    "6   NaN             NaN        NaN  ...   2242193.0        Houston       Texas\n",
    "\n",
    "[7 rows x 7 columns]\n",
    "```"
   ]
  },
  {
   "cell_type": "markdown",
   "metadata": {},
   "source": [
    "- In this case it really does not make much sense because the indices do not align well (eg. Cleveland and San Francisco end up on the same row, because they shared the index label `3`). So let's reindex the `DataFrame`s by city name before concatenating:"
   ]
  },
  {
   "cell_type": "code",
   "execution_count": null,
   "metadata": {},
   "outputs": [],
   "source": [
    "```python\n",
    "pd.concat([city_loc.set_index(\"city\"), city_pop.set_index(\"city\")], axis=1)\n",
    "```\n",
    "\n",
    "- which outputs:\n",
    "\n",
    "```\n",
    "               state        lat         lng  population       state\n",
    "Cleveland         OH  41.473508  -81.739791         NaN         NaN\n",
    "Houston          NaN        NaN         NaN   2242193.0       Texas\n",
    "Miami             FL  25.791100  -80.320733    413201.0     Florida\n",
    "New York          NY  40.705649  -74.008344   8363710.0    New-York\n",
    "Salt Lake City    UT  40.755851 -111.896657         NaN         NaN\n",
    "San Francisco     CA  37.781334 -122.416728    808976.0  California\n",
    "```"
   ]
  },
  {
   "cell_type": "markdown",
   "metadata": {},
   "source": [
    "- This looks a lot like a `FULL OUTER JOIN`, except that the `state` columns were not renamed to `state_x` and `state_y`, and the `city` column is now the index.\n",
    "- The `append()` method is a useful shorthand for concatenating `DataFrame`s vertically:"
   ]
  },
  {
   "cell_type": "code",
   "execution_count": null,
   "metadata": {},
   "outputs": [],
   "source": [
    "```python\n",
    "city_loc.append(city_pop)\n",
    "```\n",
    "\n",
    "- which outputs:\n",
    "\n",
    "```\n",
    "             city        lat         lng  population       state\n",
    "0   San Francisco  37.781334 -122.416728         NaN          CA\n",
    "1        New York  40.705649  -74.008344         NaN          NY\n",
    "2           Miami  25.791100  -80.320733         NaN          FL\n",
    "3       Cleveland  41.473508  -81.739791         NaN          OH\n",
    "4  Salt Lake City  40.755851 -111.896657         NaN          UT\n",
    "3   San Francisco        NaN         NaN    808976.0  California\n",
    "4        New York        NaN         NaN   8363710.0    New-York\n",
    "5           Miami        NaN         NaN    413201.0     Florida\n",
    "6         Houston        NaN         NaN   2242193.0       Texas\n",
    "```"
   ]
  },
  {
   "cell_type": "markdown",
   "metadata": {},
   "source": [
    "- As always in pandas, the `append()` method does **not** actually modify `city_loc`: it works on a copy and returns the modified copy.\n",
    "\n",
    "## Categories\n",
    "\n",
    "- It is quite frequent to have values that represent categories, for example `1` for female and `2` for male, or `\"A\"` for Good, `\"B\"` for Average, `\"C\"` for Bad. These categorical values can be hard to read and cumbersome to handle, but fortunately pandas makes it easy. To illustrate this, let's take the `city_pop` `DataFrame` we created earlier, and add a column that represents a category:"
   ]
  },
  {
   "cell_type": "code",
   "execution_count": null,
   "metadata": {},
   "outputs": [],
   "source": [
    "```python\n",
    "city_eco = city_pop.copy()\n",
    "city_eco[\"eco_code\"] = [17, 17, 34, 20]\n",
    "city_eco\n",
    "```\n",
    "\n",
    "- which outputs:\n",
    "\n",
    "```\n",
    "   population           city       state  eco_code\n",
    "3      808976  San Francisco  California        17\n",
    "4     8363710       New York    New-York        17\n",
    "5      413201          Miami     Florida        34\n",
    "6     2242193        Houston       Texas        20\n",
    "```"
   ]
  },
  {
   "cell_type": "markdown",
   "metadata": {},
   "source": [
    "- Right now the `eco_code` column is full of apparently meaningless codes. Let's fix that. First, we will create a new categorical column based on the `eco_code`s:"
   ]
  },
  {
   "cell_type": "code",
   "execution_count": null,
   "metadata": {},
   "outputs": [],
   "source": [
    "```python\n",
    "city_eco[\"economy\"] = city_eco[\"eco_code\"].astype('category')\n",
    "city_eco[\"economy\"].cat.categories\n",
    "```\n",
    "\n",
    "- which outputs:\n",
    "\n",
    "```\n",
    "Int64Index([17, 20, 34], dtype='int64')\n",
    "```"
   ]
  },
  {
   "cell_type": "markdown",
   "metadata": {},
   "source": [
    "- Now we can give each category a meaningful name:"
   ]
  },
  {
   "cell_type": "code",
   "execution_count": null,
   "metadata": {},
   "outputs": [],
   "source": [
    "```python\n",
    "city_eco[\"economy\"].cat.categories = [\"Finance\", \"Energy\", \"Tourism\"]\n",
    "city_eco\n",
    "```\n",
    "\n",
    "- which outputs:\n",
    "\n",
    "```\n",
    "   population           city       state  eco_code  economy\n",
    "3      808976  San Francisco  California        17  Finance\n",
    "4     8363710       New York    New-York        17  Finance\n",
    "5      413201          Miami     Florida        34  Tourism\n",
    "6     2242193        Houston       Texas        20   Energy\n",
    "```"
   ]
  },
  {
   "cell_type": "markdown",
   "metadata": {},
   "source": [
    "- Note that categorical values are sorted according to their categorical order, *not** their alphabetical order:"
   ]
  },
  {
   "cell_type": "code",
   "execution_count": null,
   "metadata": {},
   "outputs": [],
   "source": [
    "```python\n",
    "city_eco.sort_values(by=\"economy\", ascending=False)\n",
    "```\n",
    "\n",
    "- which outputs:\n",
    "\n",
    "```\n",
    "   population           city       state  eco_code  economy\n",
    "5      413201          Miami     Florida        34  Tourism\n",
    "6     2242193        Houston       Texas        20   Energy\n",
    "3      808976  San Francisco  California        17  Finance\n",
    "4     8363710       New York    New-York        17  Finance\n",
    "```"
   ]
  },
  {
   "cell_type": "markdown",
   "metadata": {},
   "source": [
    "## Practical example using a sample dataset\n",
    "\n",
    "- To demonstrate the use of pandas, we'll be using the interview reviews scraped from Glassdoor in 2019. The data is available [here](../assets/pandas/interviews.csv).\n",
    "\n",
    "### Dataset at a glance\n",
    "\n",
    "- Let's check out the dataset :"
   ]
  },
  {
   "cell_type": "code",
   "execution_count": null,
   "metadata": {},
   "outputs": [],
   "source": [
    "```python\n",
    "import pandas as pd\n",
    "df = pd.read_csv(\"../assets/pandas/interviews.csv\")\n",
    "\n",
    "print(df.shape)\n",
    "df.head()\n",
    "```\n",
    "\n",
    "- which outputs:\n",
    "\n",
    "```\n",
    "  Company              Title                Job     Level          Date  Upvotes           Offer  Experience Difficulty                                             Review\n",
    "0   Apple  Software Engineer  Software Engineer  Engineer   Aug 7, 2019        0        No offer         0.0     Medium  Application  I applied through a staffing agen...\n",
    "1   Apple  Software Engineer  Software Engineer  Engineer   Aug 8, 2019        0  Accepted offer         1.0       Hard  Application  I applied online. The process too...\n",
    "2   Apple  Software Engineer  Software Engineer  Engineer           NaN        0  Declined offer         0.0     Medium  Application  The process took 4 weeks. I inter...\n",
    "3   Apple  Software Engineer  Software Engineer  Engineer           NaN        9  Declined offer        -1.0     Medium  Application  The process took a week. I interv...\n",
    "4   Apple  Software Engineer  Software Engineer  Engineer  May 29, 2009        2        No offer         0.0     Medium  Application  I applied through an employee ref...\n",
    "```"
   ]
  },
  {
   "cell_type": "markdown",
   "metadata": {},
   "source": [
    "### Iterating over rows\n",
    "\n",
    "#### `.apply()`\n",
    "\n",
    "- pandas documentation has [a warning box](https://pandas.pydata.org/pandas-docs/stable/user_guide/basics.html#iteration) that basically tells you not to iterate over rows because it's slow.\n",
    "- Before iterating over rows, think about what you want to do with each row, pack that into a function and use methods like `.apply()` to apply the function to all rows.\n",
    "- For example, to scale the \"Experience\" column by the number of \"Upvotes\" each review has, one way is to iterate over rows and multiple the \"Upvotes\" value by the \"Experience\" value of that row. But you can also use `.apply()` with a `lambda` function.\n",
    "- Run the following code snippet in a Colab/Jupyter notebook:"
   ]
  },
  {
   "cell_type": "code",
   "execution_count": null,
   "metadata": {},
   "outputs": [],
   "source": [
    "```python\n",
    "%timeit -n1 df.apply(lambda x: x[\"Experience\"] * x[\"Upvotes\"], axis=1)\n",
    "```\n",
    "\n",
    "- which outputs:\n",
    "\n",
    "```\n",
    "180 ms ± 16.5 ms per loop (mean ± std. dev. of 7 runs, 1 loop each)\n",
    "```"
   ]
  },
  {
   "cell_type": "markdown",
   "metadata": {},
   "source": [
    "#### `.iterrows()` and `.itertuples()`\n",
    "\n",
    "- If you really want to iterate over rows, one naive way is to use `.iterrows()`. It returns a generator that generates row by row and it's very slow. Run the following code snippet in a Colab/Jupyter notebook:"
   ]
  },
  {
   "cell_type": "code",
   "execution_count": null,
   "metadata": {},
   "outputs": [],
   "source": [
    "```python\n",
    "%timeit -n1 [row for index, row in df.iterrows()]\n",
    "```\n",
    "\n",
    "- which outputs:\n",
    "\n",
    "```\n",
    "1.42 s ± 107 ms per loop (mean ± std. dev. of 7 runs, 1 loop each)\n",
    "```"
   ]
  },
  {
   "cell_type": "markdown",
   "metadata": {},
   "source": [
    "- Using `.iterrows()`:"
   ]
  },
  {
   "cell_type": "code",
   "execution_count": null,
   "metadata": {},
   "outputs": [],
   "source": [
    "```\n",
    "# This is what a row looks like as a pandas object\n",
    "for index, row in df.iterrows():\n",
    "    print(row)\n",
    "    break\n",
    "```\n",
    "\n",
    "- which outputs:\n",
    "\n",
    "```\n",
    "Company                                                   Apple\n",
    "Title                                         Software Engineer\n",
    "Job                                           Software Engineer\n",
    "Level                                                  Engineer\n",
    "Date                                                Aug 7, 2019\n",
    "Upvotes                                                       0\n",
    "Offer                                                  No offer\n",
    "Experience                                                    0\n",
    "Difficulty                                               Medium\n",
    "Review        Application  I applied through a staffing agen...\n",
    "Name: 0, dtype: object\n",
    "```"
   ]
  },
  {
   "cell_type": "markdown",
   "metadata": {},
   "source": [
    "- `.itertuples()` returns rows in the `namedtuple` format. It still lets you access each row and it's about 40x faster than `.iterrows()`. Run the following code snippet in a Colab/Jupyter notebook:"
   ]
  },
  {
   "cell_type": "code",
   "execution_count": null,
   "metadata": {},
   "outputs": [],
   "source": [
    "```python\n",
    "%timeit -n1 [row for row in df.itertuples()]\n",
    "```\n",
    "\n",
    "- which outputs:\n",
    "\n",
    "```\n",
    "24.2 ms ± 709 µs per loop (mean ± std. dev. of 7 runs, 1 loop each)\n",
    "```"
   ]
  },
  {
   "cell_type": "markdown",
   "metadata": {},
   "source": [
    "- Using `.iterrows()`:"
   ]
  },
  {
   "cell_type": "code",
   "execution_count": null,
   "metadata": {},
   "outputs": [],
   "source": [
    "```\n",
    "# This is what a row looks like as a namedtuple.\n",
    "for row in df.itertuples():\n",
    "    print(row)\n",
    "    break\n",
    "```\n",
    "\n",
    "- which outputs:\n",
    "\n",
    "```\n",
    "Pandas(Index=0, Company='Apple', Title='Software Engineer', Job='Software Engineer', Level='Engineer', Date='Aug 7, 2019', Upvotes=0, Offer='No offer', Experience=0.0, Difficulty='Medium', Review='Application  I applied through a staffing agency. I interviewed at Apple (Sunnyvale, CA) in March 2019.  Interview  The interviewer asked me about my background. Asked few questions from the resume. Asked about my proficiency on data structures. Asked me how do you sort hashmap keys based on values.  Interview Questions Write a program that uses two threads to print the numbers from 1 to n.')\n",
    "```"
   ]
  },
  {
   "cell_type": "markdown",
   "metadata": {},
   "source": [
    "#### Ordering slicing operations\n",
    "\n",
    "- Because pandas is column-major, if you want to do multiple slicing operations, always do the column-based slicing operations first.\n",
    "- For example, if you want to get the review from the first row of the data, there are two slicing operations:\n",
    "    - get row (row-based operation)\n",
    "    - get review (column-based operation)\n",
    "- Get row -> get review is 25x slower than get review -> get row.\n",
    "- **Note**: You can also just use `df.loc[0, \"Review\"]` to calculate the memory address to retrieve the item. Its performance is comparable to get review then get row."
   ]
  },
  {
   "cell_type": "code",
   "execution_count": null,
   "metadata": {},
   "outputs": [],
   "source": [
    "```python\n",
    "%timeit -n1000 df[\"Review\"][0]\n",
    "%timeit -n1000 df.iloc[0][\"Review\"]\n",
    "%timeit -n1000 df.loc[0, \"Review\"]\n",
    "```\n",
    "\n",
    "- which outputs:\n",
    "\n",
    "```\n",
    "5.55 µs ± 1.05 µs per loop (mean ± std. dev. of 7 runs, 1000 loops each)\n",
    "136 µs ± 2.57 µs per loop (mean ± std. dev. of 7 runs, 1000 loops each)\n",
    "6.23 µs ± 264 ns per loop (mean ± std. dev. of 7 runs, 1000 loops each)\n",
    "```"
   ]
  },
  {
   "cell_type": "markdown",
   "metadata": {},
   "source": [
    "### SettingWithCopyWarning\n",
    "\n",
    "- Sometimes, when you try to assign values to a subset of data in a DataFrame, you get `SettingWithCopyWarning`. Don't ignore the warning because it means sometimes, the assignment works (example 1), but sometimes, it doesn't (example 2).\n",
    "\n",
    "- Example 1: Changing the review of the first row:"
   ]
  },
  {
   "cell_type": "code",
   "execution_count": null,
   "metadata": {},
   "outputs": [],
   "source": [
    "```python\n",
    "df[\"Review\"][0] = \"I like Orange better.\"\n",
    "# Even though with the warning, the assignment works. The review is updated.\n",
    "df.head(1)\n",
    "```\n",
    "\n",
    "- which outputs:\n",
    "\n",
    "```\n",
    "/Users/chip/miniconda3/envs/py3/lib/python3.6/site-packages/ipykernel_launcher.py:2: SettingWithCopyWarning: \n",
    "A value is trying to be set on a copy of a slice from a DataFrame\n",
    "\n",
    "See the caveats in the documentation: https://pandas.pydata.org/pandas-docs/stable/user_guide/indexing.html#returning-a-view-versus-a-copy\n",
    "\n",
    "  Company              Title                Job     Level         Date  Upvotes     Offer  Experience Difficulty                 Review\n",
    "0   Apple  Software Engineer  Software Engineer  Engineer  Aug 7, 2019        0  No offer         0.0     Medium  I like Orange better.\n",
    "```"
   ]
  },
  {
   "cell_type": "markdown",
   "metadata": {},
   "source": [
    "- Example 2: Changing the company name Apple to Orange:"
   ]
  },
  {
   "cell_type": "code",
   "execution_count": null,
   "metadata": {},
   "outputs": [],
   "source": [
    "```python\n",
    "df[df[\"Company\"] == \"Apple\"][\"Company\"] = \"Orange\"\n",
    "# With the warning, the assignment doesn't work. The company name is still Apple.\n",
    "df.head(1)\n",
    "```\n",
    "\n",
    "- which outputs:\n",
    "\n",
    "```\n",
    "/Users/chip/miniconda3/envs/py3/lib/python3.6/site-packages/ipykernel_launcher.py:2: SettingWithCopyWarning: \n",
    "A value is trying to be set on a copy of a slice from a DataFrame.\n",
    "Try using .loc[row_indexer,col_indexer] = value instead\n",
    "\n",
    "See the caveats in the documentation: https://pandas.pydata.org/pandas-docs/stable/user_guide/indexing.html#returning-a-view-versus-a-copy\n",
    "\n",
    "  Company              Title                Job     Level         Date  Upvotes     Offer  Experience Difficulty                 Review\n",
    "0   Apple  Software Engineer  Software Engineer  Engineer  Aug 7, 2019        0  No offer         0.0     Medium  I like Orange better.\n",
    "```"
   ]
  },
  {
   "cell_type": "markdown",
   "metadata": {},
   "source": [
    "#### `View` vs. `Copy`\n",
    "\n",
    "- To understand this weird behavior, we need to understand two concepts in pandas: `View` vs. `Copy`.\n",
    "    - `View` is the actual `DataFrame` you want to work with.\n",
    "    - `Copy` is a copy of that actual `DataFrame`, which will be thrown away as soon as the operation is done.\n",
    "\n",
    "- So if you try to do an assignment on a `Copy`, the assignment won't work. \n",
    "\n",
    "- `SettingWithCopyWarning` doesn't mean you're making changes to a `Copy`. It means that the thing you're making changes to might be a `Copy` or a `View`, and pandas can't tell you.\n",
    "\n",
    "- The ambiguity happens because of `__getitem__` operation. `__getitem__` sometimes returns a `Copy`, sometimes a `View`, and pandas makes no guarantee."
   ]
  },
  {
   "cell_type": "code",
   "execution_count": null,
   "metadata": {},
   "outputs": [],
   "source": [
    "```python\n",
    "# df[\"Review\"][0] = \"I like Orange better.\"\n",
    "# can be understood as\n",
    "# `df.__getitem__(\"Review\").__setitem__(0, \"I like Orange better.\")`\n",
    "```\n",
    "\n",
    "```python\n",
    "# df[df[\"Company\"] == \"Apple\"][\"Company\"] = \"Orange\"\n",
    "# can be understood as\n",
    "# df.__getitem__(where df[\"Company\"] == \"Apple\").__setitem__(\"Company\", \"Orange\")\n",
    "```"
   ]
  },
  {
   "cell_type": "markdown",
   "metadata": {},
   "source": [
    "#### Solutions\n",
    "\n",
    "##### Combine all chained operations into one single operation\n",
    "\n",
    "- To avoid `__getitem__` ambiguity, you can combine all your operations into one single operation. `.loc[]` is usually great for that.\n",
    "- Changing the review of the first row:"
   ]
  },
  {
   "cell_type": "code",
   "execution_count": null,
   "metadata": {},
   "outputs": [],
   "source": [
    "```python\n",
    "df.loc[0, \"Review\"] = \"Orange is love. Orange is life.\"\n",
    "df.head()\n",
    "```\n",
    "\n",
    "- which outputs:\n",
    "\n",
    "```\n",
    "  Company              Title                Job     Level          Date  Upvotes           Offer  Experience Difficulty                                             Review\n",
    "0   Apple  Software Engineer  Software Engineer  Engineer   Aug 7, 2019        0        No offer         0.0     Medium                    Orange is love. Orange is life.\n",
    "1   Apple  Software Engineer  Software Engineer  Engineer   Aug 8, 2019        0  Accepted offer         1.0       Hard  Application  I applied online. The process too...\n",
    "2   Apple  Software Engineer  Software Engineer  Engineer           NaN        0  Declined offer         0.0     Medium  Application  The process took 4 weeks. I inter...\n",
    "3   Apple  Software Engineer  Software Engineer  Engineer           NaN        9  Declined offer        -1.0     Medium  Application  The process took a week. I interv...\n",
    "4   Apple  Software Engineer  Software Engineer  Engineer  May 29, 2009        2        No offer         0.0     Medium  Application  I applied through an employee ref...\n",
    "```"
   ]
  },
  {
   "cell_type": "markdown",
   "metadata": {},
   "source": [
    "- Changing the company name `Apple` to `Orange`:"
   ]
  },
  {
   "cell_type": "code",
   "execution_count": null,
   "metadata": {},
   "outputs": [],
   "source": [
    "```python\n",
    "df.loc[df[\"Company\"] == \"Apple\", \"Company\"] = \"Orange\"\n",
    "df.head()\n",
    "```\n",
    "\n",
    "- which outputs:\n",
    "\n",
    "```\n",
    "Company              Title                Job     Level          Date  Upvotes           Offer  Experience Difficulty                                             Review\n",
    "0  Orange  Software Engineer  Software Engineer  Engineer   Aug 7, 2019        0        No offer         0.0     Medium                    Orange is love. Orange is life.\n",
    "1  Orange  Software Engineer  Software Engineer  Engineer   Aug 8, 2019        0  Accepted offer         1.0       Hard  Application  I applied online. The process too...\n",
    "2  Orange  Software Engineer  Software Engineer  Engineer           NaN        0  Declined offer         0.0     Medium  Application  The process took 4 weeks. I inter...\n",
    "3  Orange  Software Engineer  Software Engineer  Engineer           NaN        9  Declined offer        -1.0     Medium  Application  The process took a week. I interv...\n",
    "4  Orange  Software Engineer  Software Engineer  Engineer  May 29, 2009        2        No offer         0.0     Medium  Application  I applied through an employee ref...\n",
    "```"
   ]
  },
  {
   "cell_type": "markdown",
   "metadata": {},
   "source": [
    "##### Raise an error\n",
    "\n",
    "- `SettingWithCopyWarning` should ideally be an Exception instead of a warning. You can change this warning into an exception with pandas' magic `set_option()`."
   ]
  },
  {
   "cell_type": "code",
   "execution_count": null,
   "metadata": {},
   "outputs": [],
   "source": [
    "```python\n",
    "pd.set_option(\"mode.chained_assignment\", \"raise\")\n",
    "# Running this will show you an Exception\n",
    "# df[\"Review\"][0] = \"I like Orange better.\"\n",
    "```"
   ]
  },
  {
   "cell_type": "markdown",
   "metadata": {},
   "source": [
    "### Indexing and slicing\n",
    "\n",
    "#### `.iloc[]`: selecting rows based on integer indices\n",
    "\n",
    "- `.iloc[]` lets you select rows by integer indices.\n",
    "- Accessing the third row of a `DataFrame`:"
   ]
  },
  {
   "cell_type": "code",
   "execution_count": null,
   "metadata": {},
   "outputs": [],
   "source": [
    "```python\n",
    "df.iloc[3]\n",
    "```\n",
    "\n",
    "- which outputs:\n",
    "\n",
    "```\n",
    "Company                                                  Orange\n",
    "Title                                         Software Engineer\n",
    "Job                                           Software Engineer\n",
    "Level                                                  Engineer\n",
    "Date                                                        NaN\n",
    "Upvotes                                                       9\n",
    "Offer                                            Declined offer\n",
    "Experience                                                   -1\n",
    "Difficulty                                               Medium\n",
    "Review        Application  The process took a week. I interv...\n",
    "Name: 3, dtype: object\n",
    "```"
   ]
  },
  {
   "cell_type": "markdown",
   "metadata": {},
   "source": [
    "- Slicing with `.iloc[]` is similar to slicing in Python. If you want a refresh on how slicing in Python works, see our [Python Tutorial](../python3).\n",
    "- Selecting the last 6 rows:"
   ]
  },
  {
   "cell_type": "code",
   "execution_count": null,
   "metadata": {},
   "outputs": [],
   "source": [
    "```python\n",
    "df.iloc[-6:]\n",
    "```\n",
    "\n",
    "- which outputs:\n",
    "\n",
    "```\n",
    "       Company              Title                Job     Level          Date  Upvotes           Offer  Experience Difficulty                                             Review\n",
    "17648  Tencent  Software Engineer  Software Engineer  Engineer   Nov 4, 2012        0        No offer         NaN        NaN  Application  I applied online. The process too...\n",
    "17649  Tencent  Software Engineer  Software Engineer  Engineer  May 25, 2012        0  Declined offer         0.0     Medium  Application  I applied online. The process too...\n",
    "17650  Tencent  Software Engineer  Software Engineer  Engineer  Mar 15, 2014        0        No offer         NaN        NaN  Application  I applied through college or univ...\n",
    "17651  Tencent  Software Engineer  Software Engineer  Engineer  Sep 22, 2015        0  Accepted offer         1.0     Medium  Application  I applied through college or univ...\n",
    "17652  Tencent  Software Engineer  Software Engineer  Engineer   Jul 4, 2017        0  Declined offer         1.0     Medium  Application  I applied through college or univ...\n",
    "17653  Tencent  Software Engineer  Software Engineer  Engineer  Sep 30, 2016        0  Declined offer         0.0       Easy  Application  I applied online. The process too...\n",
    "```"
   ]
  },
  {
   "cell_type": "markdown",
   "metadata": {},
   "source": [
    "- Selecting 1 from every 2 rows in the last 6 rows:"
   ]
  },
  {
   "cell_type": "code",
   "execution_count": null,
   "metadata": {},
   "outputs": [],
   "source": [
    "```python\n",
    "df.iloc[-6::2]\n",
    "```\n",
    "\n",
    "- which outputs:\n",
    "\n",
    "```\n",
    "    Company Title   Job Level   Date    Upvotes Offer   Experience  Difficulty  Review\n",
    "17648   Tencent Software Engineer   Software Engineer   Engineer    Nov 4, 2012 0   No offer    NaN NaN Application I applied online. The process too...\n",
    "17650   Tencent Software Engineer   Software Engineer   Engineer    Mar 15, 2014    0   No offer    NaN NaN Application I applied through college or univ...\n",
    "17652   Tencent Software Engineer   Software Engineer   Engineer    Jul 4, 2017 0   Declined offer  1.0 Medium  Application I applied through college or univ...\n",
    "```"
   ]
  },
  {
   "cell_type": "markdown",
   "metadata": {},
   "source": [
    "#### `.loc[]`: selecting rows by labels or boolean masks\n",
    "\n",
    "- `.loc[]` lets you select rows based on one of the two things:\n",
    "    - boolean masks\n",
    "    - labels \n",
    "\n",
    "##### Selecting rows by boolean masks\n",
    "\n",
    "- If you want to select all the rows where candidates declined offer, you can do it with two steps:\n",
    "    1. Create a boolean mask on whether the \"Offer\" column equals to \"Declined offer\"\n",
    "    2. Use that mask to select rows"
   ]
  },
  {
   "cell_type": "code",
   "execution_count": null,
   "metadata": {},
   "outputs": [],
   "source": [
    "```python\n",
    "df.loc[df[\"Offer\"] == \"Declined offer\"]\n",
    "# This is equivalent to:\n",
    "# mask = df[\"Offer\"] == \"Declined offer\"\n",
    "# df.loc[mask]\n",
    "```\n",
    "\n",
    "- which outputs:\n",
    "\n",
    "```\n",
    "       Company              Title                Job     Level          Date  Upvotes           Offer  Experience Difficulty                                             Review\n",
    "2       Orange  Software Engineer  Software Engineer  Engineer           NaN        0  Declined offer         0.0     Medium  Application  The process took 4 weeks. I inter...\n",
    "3       Orange  Software Engineer  Software Engineer  Engineer           NaN        9  Declined offer        -1.0     Medium  Application  The process took a week. I interv...\n",
    "7       Orange  Software Engineer  Software Engineer  Engineer  Jul 26, 2019        1  Declined offer        -1.0     Medium  Application  The process took 4+ weeks. I inte...\n",
    "17      Orange  Software Engineer  Software Engineer  Engineer  Feb 27, 2010        7  Declined offer        -1.0     Medium  Application  The process took 1 day. I intervi...\n",
    "65      Orange  Software Engineer  Software Engineer  Engineer   May 6, 2012        1  Declined offer         1.0       Easy  Application  The process took 2 days. I interv...\n",
    "...        ...                ...                ...       ...           ...      ...             ...         ...        ...                                                ...\n",
    "17643  Tencent  Software Engineer  Software Engineer  Engineer   Apr 9, 2016        0  Declined offer         1.0     Medium  Application  I applied online. I interviewed a...\n",
    "17646  Tencent  Software Engineer  Software Engineer  Engineer  May 28, 2010        0  Declined offer         0.0       Easy  Application  I applied through an employee ref...\n",
    "17649  Tencent  Software Engineer  Software Engineer  Engineer  May 25, 2012        0  Declined offer         0.0     Medium  Application  I applied online. The process too...\n",
    "17652  Tencent  Software Engineer  Software Engineer  Engineer   Jul 4, 2017        0  Declined offer         1.0     Medium  Application  I applied through college or univ...\n",
    "17653  Tencent  Software Engineer  Software Engineer  Engineer  Sep 30, 2016        0  Declined offer         0.0       Easy  Application  I applied online. The process too...\n",
    "\n",
    "[1135 rows × 10 columns]\n",
    "```"
   ]
  },
  {
   "cell_type": "markdown",
   "metadata": {},
   "source": [
    "##### Selecting rows by labels\n",
    "\n",
    "###### Creating labels\n",
    "\n",
    "- Currently, our `DataFrame` has no labels yet. To create labels, use `.set_index()`."
   ]
  },
  {
   "cell_type": "code",
   "execution_count": null,
   "metadata": {},
   "outputs": [],
   "source": [
    "1. Labels can be integers or strings\n",
    "2. A `DataFrame` can have multiple labels\n",
    "\n",
    "```python\n",
    "# Adding label \"Hardware\" if the company name is \"Orange\", \"Dell\", \"IDM\", or \"Siemens\".\n",
    "# \"Orange\" because we changed \"Apple\" to \"Orange\" above.\n",
    "# Adding label \"Software\" otherwise.\n",
    "\n",
    "def company_type(x):\n",
    "    hardware_companies = set([\"Orange\", \"Dell\", \"IBM\", \"Siemens\"])\n",
    "    return \"Hardware\" if x[\"Company\"] in hardware_companies else \"Software\"\n",
    "df[\"Type\"] = df.apply(lambda x: company_type(x), axis=1)\n",
    "\n",
    "# Setting \"Type\" to be labels. We call \"\"\n",
    "df = df.set_index(\"Type\")\n",
    "df\n",
    "# Label columns aren't considered part of the DataFrame's content.\n",
    "# After adding labels to your DataFrame, it still has 10 columns, same as before.\n",
    "```\n",
    "\n",
    "- which outputs:\n",
    "\n",
    "```\n",
    "       Company              Title                Job     Level          Date  Upvotes           Offer  Experience Difficulty                                             Review\n",
    "0       Orange  Software Engineer  Software Engineer  Engineer   Aug 7, 2019        0        No offer         0.0     Medium                    Orange is love. Orange is life.\n",
    "1       Orange  Software Engineer  Software Engineer  Engineer   Aug 8, 2019        0  Accepted offer         1.0       Hard  Application  I applied online. The process too...\n",
    "2       Orange  Software Engineer  Software Engineer  Engineer           NaN        0  Declined offer         0.0     Medium  Application  The process took 4 weeks. I inter...\n",
    "3       Orange  Software Engineer  Software Engineer  Engineer           NaN        9  Declined offer        -1.0     Medium  Application  The process took a week. I interv...\n",
    "4       Orange  Software Engineer  Software Engineer  Engineer  May 29, 2009        2        No offer         0.0     Medium  Application  I applied through an employee ref...\n",
    "...        ...                ...                ...       ...           ...      ...             ...         ...        ...                                                ...\n",
    "17649  Tencent  Software Engineer  Software Engineer  Engineer  May 25, 2012        0  Declined offer         0.0     Medium  Application  I applied online. The process too...\n",
    "17650  Tencent  Software Engineer  Software Engineer  Engineer  Mar 15, 2014        0        No offer         NaN        NaN  Application  I applied through college or univ...\n",
    "17651  Tencent  Software Engineer  Software Engineer  Engineer  Sep 22, 2015        0  Accepted offer         1.0     Medium  Application  I applied through college or univ...\n",
    "17652  Tencent  Software Engineer  Software Engineer  Engineer   Jul 4, 2017        0  Declined offer         1.0     Medium  Application  I applied through college or univ...\n",
    "17653  Tencent  Software Engineer  Software Engineer  Engineer  Sep 30, 2016        0  Declined offer         0.0       Easy  Application  I applied online. The process too...\n",
    "\n",
    "[17654 rows x 10 columns]\n",
    "```"
   ]
  },
  {
   "cell_type": "markdown",
   "metadata": {},
   "source": [
    "- **Warning**: labels in `DataFrame` are stored as normal columns when you write the `DataFrame` to file using `.to_csv()`, and will need to be explicitly set after loading files, so if you send your CSV file to other people without explaining, they'll have no way of knowing which columns are labels. This might cause reproducibility issues. See [Stack Overflow answer](https://stackoverflow.com/questions/20109391/how-to-make-good-reproducible-pandas-examples).\n",
    "\n",
    "###### Selecting rows by labels\n",
    "\n",
    "- Selecting rows with label \"Hardware\":"
   ]
  },
  {
   "cell_type": "code",
   "execution_count": null,
   "metadata": {},
   "outputs": [],
   "source": [
    "```python\n",
    "df.loc[\"Hardware\"]\n",
    "```\n",
    "\n",
    "- which outputs:\n",
    "\n",
    "```\n",
    "    Company Title   Job Level   Date    Upvotes Offer   Experience  Difficulty  Review\n",
    "Type                                        \n",
    "Hardware    Orange  Software Engineer   Software Engineer   Engineer    Aug 7, 2019 0   No offer    0.0 Medium  Orange is love. Orange is life.\n",
    "Hardware    Orange  Software Engineer   Software Engineer   Engineer    Aug 8, 2019 0   Accepted offer  1.0 Hard    Application I applied online. The process too...\n",
    "Hardware    Orange  Software Engineer   Software Engineer   Engineer    NaN 0   Declined offer  0.0 Medium  Application The process took 4 weeks. I inter...\n",
    "Hardware    Orange  Software Engineer   Software Engineer   Engineer    NaN 9   Declined offer  -1.0    Medium  Application The process took a week. I interv...\n",
    "Hardware    Orange  Software Engineer   Software Engineer   Engineer    May 29, 2009    2   No offer    0.0 Medium  Application I applied through an employee ref...\n",
    "... ... ... ... ... ... ... ... ... ... ...\n",
    "Hardware    IBM Senior Software Engineer    Software Engineer   Senior  Sep 20, 2015    0   No offer    -1.0    Easy    Application I applied through a recruiter. Th...\n",
    "Hardware    IBM Senior Software Engineer    Software Engineer   Senior  Sep 14, 2015    0   Accepted offer  -1.0    Medium  Application I applied in-person. The process ...\n",
    "Hardware    IBM Senior Software Engineer    Software Engineer   Senior  Aug 6, 2015 0   Accepted offer  1.0 Hard    Application I applied through a recruiter. Th...\n",
    "Hardware    IBM Senior Software Engineer    Software Engineer   Senior  Dec 13, 2015    0   Accepted offer  1.0 Medium  Application I applied online. The process too...\n",
    "Hardware    IBM Senior Software Engineer    Software Engineer   Senior  Feb 15, 2016    11  Accepted offer  1.0 Easy    Application I applied online. The process too...\n",
    "\n",
    "[1676 rows × 10 columns]\n",
    "```"
   ]
  },
  {
   "cell_type": "markdown",
   "metadata": {},
   "source": [
    "- To drop a label, you need to use `reset_index` with `drop=True`:"
   ]
  },
  {
   "cell_type": "code",
   "execution_count": null,
   "metadata": {},
   "outputs": [],
   "source": [
    "```python\n",
    "df.reset_index(drop=True, inplace=True)\n",
    "df\n",
    "```\n",
    "\n",
    "- which outputs:\n",
    "\n",
    "```\n",
    "    Company Title   Job Level   Date    Upvotes Offer   Experience  Difficulty  Review\n",
    "0   Orange  Software Engineer   Software Engineer   Engineer    Aug 7, 2019 0   No offer    0.0 Medium  Orange is love. Orange is life.\n",
    "1   Orange  Software Engineer   Software Engineer   Engineer    Aug 8, 2019 0   Accepted offer  1.0 Hard    Application I applied online. The process too...\n",
    "2   Orange  Software Engineer   Software Engineer   Engineer    NaN 0   Declined offer  0.0 Medium  Application The process took 4 weeks. I inter...\n",
    "3   Orange  Software Engineer   Software Engineer   Engineer    NaN 9   Declined offer  -1.0    Medium  Application The process took a week. I interv...\n",
    "4   Orange  Software Engineer   Software Engineer   Engineer    May 29, 2009    2   No offer    0.0 Medium  Application I applied through an employee ref...\n",
    "... ... ... ... ... ... ... ... ... ... ...\n",
    "17649   Tencent Software Engineer   Software Engineer   Engineer    May 25, 2012    0   Declined offer  0.0 Medium  Application I applied online. The process too...\n",
    "17650   Tencent Software Engineer   Software Engineer   Engineer    Mar 15, 2014    0   No offer    NaN NaN Application I applied through college or univ...\n",
    "17651   Tencent Software Engineer   Software Engineer   Engineer    Sep 22, 2015    0   Accepted offer  1.0 Medium  Application I applied through college or univ...\n",
    "17652   Tencent Software Engineer   Software Engineer   Engineer    Jul 4, 2017 0   Declined offer  1.0 Medium  Application I applied through college or univ...\n",
    "17653   Tencent Software Engineer   Software Engineer   Engineer    Sep 30, 2016    0   Declined offer  0.0 Easy    Application I applied online. The process too...\n",
    "\n",
    "[17654 rows × 10 columns]\n",
    "```"
   ]
  },
  {
   "cell_type": "markdown",
   "metadata": {},
   "source": [
    "#### Slicing Series\n",
    "\n",
    "- Slicing pandas `Series` is similar to slicing in Python."
   ]
  },
  {
   "cell_type": "code",
   "execution_count": null,
   "metadata": {},
   "outputs": [],
   "source": [
    "```python\n",
    "series = df.Company\n",
    "# The first 1000 companies, picking every 100th companies\n",
    "series[:1000:100]\n",
    "```\n",
    "\n",
    "- which outputs:\n",
    "\n",
    "```\n",
    "0      Orange\n",
    "100    Orange\n",
    "200    Orange\n",
    "300    Orange\n",
    "400     Intel\n",
    "500     Intel\n",
    "600     Intel\n",
    "700     Intel\n",
    "800      Uber\n",
    "900      Uber\n",
    "Name: Company, dtype: object\n",
    "```"
   ]
  },
  {
   "cell_type": "markdown",
   "metadata": {},
   "source": [
    "### Accessors\n",
    "\n",
    "#### string accessor\n",
    "\n",
    "- `.str` allows you to apply built-in string functions to all strings in a column (aka a pandas Series). These built-in functions come in handy when you want to do some basic string processing. For instance, if you want to lowercase all the reviews in the `Reviews` column:"
   ]
  },
  {
   "cell_type": "code",
   "execution_count": null,
   "metadata": {},
   "outputs": [],
   "source": [
    "```python\n",
    "df[\"Review\"].str.lower()\n",
    "```\n",
    "\n",
    "- which outputs:\n",
    "\n",
    "```\n",
    "0                          orange is love. orange is life.\n",
    "1        application  i applied online. the process too...\n",
    "2        application  the process took 4 weeks. i inter...\n",
    "3        application  the process took a week. i interv...\n",
    "4        application  i applied through an employee ref...\n",
    "                               ...                        \n",
    "17649    application  i applied online. the process too...\n",
    "17650    application  i applied through college or univ...\n",
    "17651    application  i applied through college or univ...\n",
    "17652    application  i applied through college or univ...\n",
    "17653    application  i applied online. the process too...\n",
    "Name: Review, Length: 17654, dtype: object\n",
    "```"
   ]
  },
  {
   "cell_type": "markdown",
   "metadata": {},
   "source": [
    "- Or if you want to get the length of all the reviews:"
   ]
  },
  {
   "cell_type": "code",
   "execution_count": null,
   "metadata": {},
   "outputs": [],
   "source": [
    "```python\n",
    "df.Review.str.len()\n",
    "```\n",
    "\n",
    "- which outputs:\n",
    "\n",
    "```\n",
    "0         31\n",
    "1        670\n",
    "2        350\n",
    "3        807\n",
    "4        663\n",
    "        ... \n",
    "17649    470\n",
    "17650    394\n",
    "17651    524\n",
    "17652    391\n",
    "17653    784\n",
    "Name: Review, Length: 17654, dtype: int64\n",
    "```"
   ]
  },
  {
   "cell_type": "markdown",
   "metadata": {},
   "source": [
    "- `.str` can be very powerful if you use it with Regex. Imagine you want to get a sense of how long the interview process takes for each review. You notice that each review mentions how long it takes such as \"the process took 4 weeks\". So you use these heuristics:\n",
    "    - A process is short if it takes days.\n",
    "    - A process is average is if it takes weeks.\n",
    "    - A process is long if it takes at least 4 weeks."
   ]
  },
  {
   "cell_type": "code",
   "execution_count": null,
   "metadata": {},
   "outputs": [],
   "source": [
    "```python\n",
    "df.loc[df[\"Review\"].str.contains(\"days\"), \"Process\"] = \"Short\"\n",
    "df.loc[df[\"Review\"].str.contains(\"week\"), \"Process\"] = \"Average\"\n",
    "df.loc[df[\"Review\"].str.contains(\"month|[4-9]+[^ ]* weeks|[1-9]\\d{1,}[^ ]* weeks\"), \"Process\"] = \"Long\"\n",
    "df[~df.Process.isna()][[\"Review\", \"Process\"]]\n",
    "```\n",
    "\n",
    "- which outputs:\n",
    "\n",
    "```\n",
    "    Review  Process\n",
    "1   Application I applied online. The process too...    Long\n",
    "2   Application The process took 4 weeks. I inter...    Long\n",
    "3   Application The process took a week. I interv...    Average\n",
    "5   Application I applied through college or univ...    Long\n",
    "6   Application The process took 2 days. I interv...    Short\n",
    "... ... ...\n",
    "17645   Application I applied online. The process too...    Average\n",
    "17647   Application I applied through college or univ...    Average\n",
    "17648   Application I applied online. The process too...    Short\n",
    "17649   Application I applied online. The process too...    Average\n",
    "17653   Application I applied online. The process too...    Average\n",
    "\n",
    "[12045 rows × 2 columns]\n",
    "```"
   ]
  },
  {
   "cell_type": "markdown",
   "metadata": {},
   "source": [
    "- We want to sanity check if `Process` corresponds to `Review`, but `Review` is cut off in the display above. To show longer columns, you can set `display.max_colwidth` to `100`. **Note**: set_option has several great options you should check out."
   ]
  },
  {
   "cell_type": "code",
   "execution_count": null,
   "metadata": {},
   "outputs": [],
   "source": [
    "```python\n",
    "pd.set_option('display.max_colwidth', 100)\n",
    "df[~df.Process.isna()][[\"Review\", \"Process\"]]\n",
    "```\n",
    "\n",
    "- which outputs:\n",
    "\n",
    "```\n",
    "Review  Process\n",
    "1   Application I applied online. The process took 2+ months. I interviewed at Apple (San Jose, CA)...  Long\n",
    "2   Application The process took 4 weeks. I interviewed at Apple (San Antonio, TX) in February 2016...  Long\n",
    "3   Application The process took a week. I interviewed at Apple (Cupertino, CA) in December 2008. ...   Average\n",
    "5   Application I applied through college or university. The process took 6 weeks. I interviewed at...  Long\n",
    "6   Application The process took 2 days. I interviewed at Apple (Cupertino, CA) in March 2009. Int...   Short\n",
    "... ... ...\n",
    "17645   Application I applied online. The process took a week. I interviewed at Tencent (Palo Alto, CA)...  Average\n",
    "17647   Application I applied through college or university. The process took 4+ weeks. I interviewed a...  Average\n",
    "17648   Application I applied online. The process took 2 days. I interviewed at Tencent. Interview I ...    Short\n",
    "17649   Application I applied online. The process took a week. I interviewed at Tencent (Beijing, Beiji...  Average\n",
    "17653   Application I applied online. The process took 3+ weeks. I interviewed at Tencent (Beijing, Bei...  Average\n",
    "\n",
    "[12045 rows × 2 columns]\n",
    "```"
   ]
  },
  {
   "cell_type": "markdown",
   "metadata": {},
   "source": [
    "- To see the built-in functions available for `.str`, use this:"
   ]
  },
  {
   "cell_type": "code",
   "execution_count": null,
   "metadata": {},
   "outputs": [],
   "source": [
    "```python\n",
    "pd.Series.str.__dict__.keys()\n",
    "```\n",
    "\n",
    "- which outputs:\n",
    "\n",
    "```\n",
    "dict_keys(['__module__', '__annotations__', '__doc__', '__init__', '_validate', '__getitem__', '__iter__', '_wrap_result', '_get_series_list', 'cat', 'split', 'rsplit', 'partition', 'rpartition', 'get', 'join', 'contains', 'match', 'fullmatch', 'replace', 'repeat', 'pad', 'center', 'ljust', 'rjust', 'zfill', 'slice', 'slice_replace', 'decode', 'encode', 'strip', 'lstrip', 'rstrip', 'wrap', 'get_dummies', 'translate', 'count', 'startswith', 'endswith', 'findall', 'extract', 'extractall', 'find', 'rfind', 'normalize', 'index', 'rindex', 'len', '_doc_args', 'lower', 'upper', 'title', 'capitalize', 'swapcase', 'casefold', 'isalnum', 'isalpha', 'isdigit', 'isspace', 'islower', 'isupper', 'istitle', 'isnumeric', 'isdecimal', '_make_accessor'])\n",
    "```"
   ]
  },
  {
   "cell_type": "markdown",
   "metadata": {},
   "source": [
    "#### Other accessors\n",
    "\n",
    "- pandas `Series` has three other accessors:\n",
    "    - `.dt`: handles date formats.\n",
    "    - `.cat`: handles categorical data.\n",
    "    - `.sparse`: handles sparse matrices."
   ]
  },
  {
   "cell_type": "code",
   "execution_count": null,
   "metadata": {},
   "outputs": [],
   "source": [
    "```python\n",
    "pd.Series._accessors\n",
    "```\n",
    "\n",
    "- which outputs:\n",
    "\n",
    "```\n",
    "{'cat', 'dt', 'sparse', 'str'}\n",
    "```"
   ]
  },
  {
   "cell_type": "markdown",
   "metadata": {},
   "source": [
    "### Data exploration\n",
    "\n",
    "- When analyzing data, you might want to take a look at the data. pandas has some great built-in functions for that.\n",
    "\n",
    "#### `.head()`, `.tail()`, `.describe()`, `.info()`\n",
    "\n",
    "- You're probably familiar with `.head()` and `.tail()` methods for showing the first/last rows of `DataFrame`. By default, five rows are shown, but you can specify the exact number."
   ]
  },
  {
   "cell_type": "code",
   "execution_count": null,
   "metadata": {},
   "outputs": [],
   "source": [
    "```python\n",
    "df.tail(8)\n",
    "```\n",
    "\n",
    "- which outputs:\n",
    "\n",
    "```\n",
    "Company Title   Job Level   Date    Upvotes Offer   Experience  Difficulty  Review  Process\n",
    "17646   Tencent Software Engineer   Software Engineer   Engineer    May 28, 2010    0   Declined offer  0.0 Easy    Application I applied through an employee referral. The process took 1 day. I interviewed at Te...  NaN\n",
    "17647   Tencent Software Engineer   Software Engineer   Engineer    Apr 11, 2019    0   Accepted offer  1.0 Medium  Application I applied through college or university. The process took 4+ weeks. I interviewed a...  Average\n",
    "17648   Tencent Software Engineer   Software Engineer   Engineer    Nov 4, 2012 0   No offer    NaN NaN Application I applied online. The process took 2 days. I interviewed at Tencent. Interview I ...    Short\n",
    "17649   Tencent Software Engineer   Software Engineer   Engineer    May 25, 2012    0   Declined offer  0.0 Medium  Application I applied online. The process took a week. I interviewed at Tencent (Beijing, Beiji...  Average\n",
    "17650   Tencent Software Engineer   Software Engineer   Engineer    Mar 15, 2014    0   No offer    NaN NaN Application I applied through college or university. I interviewed at Tencent. Interview Prof...    NaN\n",
    "17651   Tencent Software Engineer   Software Engineer   Engineer    Sep 22, 2015    0   Accepted offer  1.0 Medium  Application I applied through college or university. The process took 1 day. I interviewed at T...  NaN\n",
    "17652   Tencent Software Engineer   Software Engineer   Engineer    Jul 4, 2017 0   Declined offer  1.0 Medium  Application I applied through college or university. I interviewed at Tencent (London, England ...  NaN\n",
    "17653   Tencent Software Engineer   Software Engineer   Engineer    Sep 30, 2016    0   Declined offer  0.0 Easy    Application I applied online. The process took 3+ weeks. I interviewed at Tencent (Beijing, Bei...  Average\n",
    "```"
   ]
  },
  {
   "cell_type": "markdown",
   "metadata": {},
   "source": [
    "- You can generate statistics about numeric columns using `.describe()`."
   ]
  },
  {
   "cell_type": "code",
   "execution_count": null,
   "metadata": {},
   "outputs": [],
   "source": [
    "```python\n",
    "df.describe()\n",
    "```\n",
    "\n",
    "- which outputs:\n",
    "\n",
    "```\n",
    "Upvotes Experience\n",
    "count   17654.000000    16365.000000\n",
    "mean    2.298459    0.431714\n",
    "std 28.252562   0.759964\n",
    "min 0.000000    -1.000000\n",
    "25% 0.000000    0.000000\n",
    "50% 0.000000    1.000000\n",
    "75% 1.000000    1.000000\n",
    "max 1916.000000 1.000000\n",
    "```"
   ]
  },
  {
   "cell_type": "markdown",
   "metadata": {},
   "source": [
    "- However, note that `.describe()` ignores all non-numeric columns. It doesn't take into account NaN values. So, the number shown in `count` above is the number of non-NaN entries.\n",
    "\n",
    "- To show non-null count and types of all columns, use `.info()`. Note that pandas treats the `String` type as an object."
   ]
  },
  {
   "cell_type": "code",
   "execution_count": null,
   "metadata": {},
   "outputs": [],
   "source": [
    "```python\n",
    "df.info()\n",
    "```\n",
    "\n",
    "- which outputs:\n",
    "\n",
    "```\n",
    "<class 'pandas.core.frame.DataFrame'>\n",
    "RangeIndex: 17654 entries, 0 to 17653\n",
    "Data columns (total 11 columns):\n",
    " #   Column      Non-Null Count  Dtype  \n",
    "---  ------      --------------  -----  \n",
    " 0   Company     17654 non-null  object \n",
    " 1   Title       17654 non-null  object \n",
    " 2   Job         17654 non-null  object \n",
    " 3   Level       17654 non-null  object \n",
    " 4   Date        17652 non-null  object \n",
    " 5   Upvotes     17654 non-null  int64  \n",
    " 6   Offer       17654 non-null  object \n",
    " 7   Experience  16365 non-null  float64\n",
    " 8   Difficulty  16376 non-null  object \n",
    " 9   Review      17654 non-null  object \n",
    " 10  Process     12045 non-null  object \n",
    "dtypes: float64(1), int64(1), object(9)\n",
    "memory usage: 1.5+ MB\n",
    "```"
   ]
  },
  {
   "cell_type": "markdown",
   "metadata": {},
   "source": [
    "- You can also see how much space your DataFrame is taking up using :"
   ]
  },
  {
   "cell_type": "code",
   "execution_count": null,
   "metadata": {},
   "outputs": [],
   "source": [
    "```python\n",
    "import sys\n",
    "df.apply(sys.getsizeof)\n",
    "```\n",
    "\n",
    "- which outputs:\n",
    "\n",
    "```\n",
    "Company        1126274\n",
    "Title          1358305\n",
    "Job            1345085\n",
    "Level          1144784\n",
    "Date           1212964\n",
    "Upvotes         141384\n",
    "Offer          1184190\n",
    "Experience      141384\n",
    "Difficulty     1058008\n",
    "Review        20503467\n",
    "Process        1274180\n",
    "dtype: int64\n",
    "```"
   ]
  },
  {
   "cell_type": "markdown",
   "metadata": {},
   "source": [
    "#### Count unique values\n",
    "\n",
    "- You can get the number of unique values in a row (excluding NaN) with `nunique()`. For instance, to get the number of unique companies in our data:"
   ]
  },
  {
   "cell_type": "code",
   "execution_count": null,
   "metadata": {},
   "outputs": [],
   "source": [
    "```python\n",
    "df.Company.nunique()\n",
    "```\n",
    "\n",
    "- which outputs:\n",
    "\n",
    "```\n",
    "28\n",
    "```\n",
    "\n",
    "- You can also see how many reviews are for each company, sorted in descending order:\n",
    "\n",
    "```python\n",
    "df.Company.value_counts()\n",
    "```\n",
    "\n",
    "- which outputs:\n",
    "\n",
    "```\n",
    "Amazon        3469\n",
    "Google        3445\n",
    "Facebook      1817\n",
    "Microsoft     1790\n",
    "IBM            873\n",
    "Cisco          787\n",
    "Oracle         701\n",
    "Uber           445\n",
    "Yelp           404\n",
    "Orange         363\n",
    "Intel          338\n",
    "Salesforce     313\n",
    "SAP            275\n",
    "Twitter        258\n",
    "Dell           258\n",
    "Airbnb         233\n",
    "NVIDIA         229\n",
    "Adobe          211\n",
    "Intuit         203\n",
    "PayPal         193\n",
    "Siemens        182\n",
    "Square         177\n",
    "Samsung        159\n",
    "eBay           148\n",
    "Symantec       147\n",
    "Snap           113\n",
    "Netflix        109\n",
    "Tencent         14\n",
    "Name: Company, dtype: int64\n",
    "```"
   ]
  },
  {
   "cell_type": "markdown",
   "metadata": {},
   "source": [
    "#### Plotting\n",
    "\n",
    "- If you want to see the break down of process lengths for different companies, you can use `.plot()` with `.groupby()`.\n",
    "- **Note**: Plotting in pandas is both mind-boggling and mind-blowing. If you're not familiar, you might want to check out some tutorials, e.g. [this simple tutorial](https://realpython.com/pandas-plot-python/) or [this saiyan-level pandas plotting with seaborn](https://jakevdp.github.io/PythonDataScienceHandbook/04.14-visualization-with-seaborn.html)."
   ]
  },
  {
   "cell_type": "code",
   "execution_count": null,
   "metadata": {},
   "outputs": [],
   "source": [
    "```python\n",
    "# Group the DataFrame by \"Company\" and \"Process\", count the number of elements,\n",
    "# then unstack by \"Process\", then plot a bar chart\n",
    "df.groupby([\"Company\", \"Process\"]).size().unstack(level=1).plot(kind=\"bar\", figsize=(15, 8))\n",
    "```\n",
    "\n",
    "- which outputs:\n",
    "\n",
    "<img src=\"../assets/pandas/plot.png\" align=\"center\" style=\"background-color: #fff; margin: 10px auto\" />"
   ]
  },
  {
   "cell_type": "markdown",
   "metadata": {},
   "source": [
    "### Common pitfalls\n",
    "\n",
    "- pandas is great for most day-to-day data analysis. There is an active community that is working on regular updates to the library. However, some of the design decisions can seen a bit questionable.\n",
    "- Some of the common pandas pitfalls:\n",
    "\n",
    "#### NaNs as floats\n",
    "\n",
    "- NaNs are stored as floats in pandas, so when an operation fails because of NaNs, it doesn't say that there's a NaN but because that operation isn't defined for floats.\n",
    "\n",
    "#### Changes aren't in-place by default\n",
    "\n",
    "- Most pandas operations aren't in-place by default, so if you make changes to your `DataFrame`, you need to assign the changes back to your DataFrame. You can make changes in-place by setting argument `inplace=True`."
   ]
  },
  {
   "cell_type": "code",
   "execution_count": null,
   "metadata": {},
   "outputs": [],
   "source": [
    "```python\n",
    "# \"Process\" column is still in df\n",
    "df.drop(columns=[\"Process\"])\n",
    "df.columns\n",
    "```\n",
    "\n",
    "- which outputs:\n",
    "\n",
    "```\n",
    "Index(['Company', 'Title', 'Job', 'Level', 'Date', 'Upvotes', 'Offer',\n",
    "       'Experience', 'Difficulty', 'Review', 'Process'],\n",
    "      dtype='object')\n",
    "```\n",
    "\n",
    "- To make changes to df, set `inplace=True`:\n",
    "\n",
    "```python\n",
    "df.drop(columns=[\"Process\"], inplace=True)\n",
    "df.columns\n",
    "# This is equivalent to\n",
    "# df = df.drop(columns=[\"Process\"])\n",
    "```\n",
    "\n",
    "- which outputs:\n",
    "\n",
    "```\n",
    "Index(['Company', 'Title', 'Job', 'Level', 'Date', 'Upvotes', 'Offer',\n",
    "       'Experience', 'Difficulty', 'Review'],\n",
    "      dtype='object')\n",
    "```"
   ]
  },
  {
   "cell_type": "markdown",
   "metadata": {},
   "source": [
    "#### Performance issues with very large datasets\n",
    "\n",
    "#### Reproducibility issues\n",
    "\n",
    "- Especially with dumping and loading `DataFrame` to/from files. There are two main causes:"
   ]
  },
  {
   "cell_type": "code",
   "execution_count": null,
   "metadata": {},
   "outputs": [],
   "source": [
    "- Problem with [labels](#creating-labels) (see the section about labels above).\n",
    "- [Weird rounding issues for floats](https://stackoverflow.com/questions/47368296/pandas-read-csv-file-with-float-values-results-in-weird-rounding-and-decimal-dig). "
   ]
  },
  {
   "cell_type": "markdown",
   "metadata": {},
   "source": [
    "#### Not GPU compatible\n",
    "\n",
    "- pandas can't take advantage of GPUs, so if your computations are on on GPUs and your feature engineering is on CPUs, it can become a time bottleneck to move data from CPUs to GPUs. If you want something like pandas but works on GPUs, check out [dask](https://dask.org/) and [modin](https://github.com/modin-project/modin).\n",
    "\n",
    "## What next?\n",
    "\n",
    "- As you probably noticed by now, pandas is quite a large library with **many** features. Although we went through the most important features, there is still a lot to discover. Probably the best way to learn more is to get your hands dirty with some real-life data. It is also a good idea to go through pandas' excellent [documentation](http://pandas.pydata.org/pandas-docs/stable/index.html), in particular the [Cookbook](http://pandas.pydata.org/pandas-docs/stable/cookbook.html).\n",
    "\n",
    "## References and Credits\n",
    "\n",
    "- Aurélien Geron's [Notebook on Matplotlib](https://github.com/ageron/handson-ml2/blob/master/tools_matplotlib.ipynb) and [Hands-on Machine Learning with Scikit-Learn, Keras and TensorFlow](https://www.oreilly.com/library/view/hands-on-machine-learning/9781492032632/) served as a major inspiration for this tutorial.\n",
    "- [pandas.DataFrame.to_dict()](https://pandas.pydata.org/pandas-docs/stable/reference/api/pandas.DataFrame.to_dict.html)\n",
    "- [Constructing pandas DataFrame from values in variables gives “ValueError: If using all scalar values, you must pass an index”](https://stackoverflow.com/questions/17839973/constructing-pandas-dataframe-from-values-in-variables-gives-valueerror-if-usi)\n",
    "\n",
    "## Citation\n",
    "\n",
    "If you found our work useful, please cite it as:\n",
    "\n",
    "```\n",
    "@article{Chadha2020DistilledPandasTutorial,\n",
    "  title   = {Pandas Tutorial},\n",
    "  author  = {Chadha, Aman},\n",
    "  journal = {Distilled AI},\n",
    "  year    = {2020},\n",
    "  note    = {\\url{https://aman.ai}}\n",
    "}\n",
    "```"
   ]
  }
 ],
 "metadata": {},
 "nbformat": 4,
 "nbformat_minor": 4
}
