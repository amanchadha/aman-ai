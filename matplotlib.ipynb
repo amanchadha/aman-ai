{
  "nbformat": 4,
  "nbformat_minor": 0,
  "metadata": {
    "colab": {
      "name": "matplotlib.ipynb",
      "provenance": []
    },
    "kernelspec": {
      "name": "python3",
      "display_name": "Python 3"
    }
  },
  "cells": [
    {
      "cell_type": "markdown",
      "metadata": {
        "id": "UD6EtcJAOsYW",
        "colab_type": "text"
      },
      "source": [
        "# [Aman's AI Journal](https://aman.ai) | Primers | Matplotlib Tutorial\n",
        "\n",
        "## Matplotlib\n",
        "\n",
        "- [Matplotlib](http://matplotlib.org/) is a plotting library.\n",
        "- This tutorial offers a brief overview of the `matplotlib.pyplot` module, which provides a plotting system similar to that of MATLAB (which is where Matplotlib gets its name from!).\n",
        "- Matplotlib can output graphs using various backend graphics libraries, such as Tk, wxPython, etc. When running python using the command line, the graphs are typically shown in a separate window. In a Jupyter/Colab notebook, we can simply output the graphs within the notebook itself by running the `%matplotlib inline` magic command.\n",
        "\n",
        "## Plotting\n",
        "\n",
        "- The most important function in the `matplotlib.pyplot` module is `plot`, which allows you to plot 2D data. Here is a simple example:"
      ]
    },
    {
      "cell_type": "code",
      "metadata": {
        "id": "r2gD5iQ-OsYY",
        "colab_type": "code",
        "colab": {
          "base_uri": "https://localhost:8080/",
          "height": 265
        },
        "outputId": "aeb8dcc5-710b-4a3c-a5ed-04633b25d577"
      },
      "source": [
        "import matplotlib.pyplot as plt\n",
        "\n",
        "plt.plot([1, 2, 4, 7, 4, 2, 1])\n",
        "plt.show() # You must call plt.show() to render your final plot."
      ],
      "execution_count": 51,
      "outputs": [
        {
          "output_type": "display_data",
          "data": {
            "image/png": "[encoded data removed]",
            "text/plain": [
              "<Figure size 432x288 with 1 Axes>"
            ]
          },
          "metadata": {
            "tags": []
          }
        }
      ]
    },
    {
      "cell_type": "markdown",
      "metadata": {
        "id": "TaLe5gOMOsYa",
        "colab_type": "text"
      },
      "source": [
        "![](https://github.com/amanchadha/aman-ai/blob/master/assets/matplotlib/1.jpg?raw=1)\n",
        "\n",
        "- In the above example, we simply called the `plot` function with some data, and then called the `show` function to render your plot onto the screen.\n",
        "- Note that if the `plot` function is given one array of data, it will use it as the coordinates on the vertical axis, and it will just use each data point's index in the array as the horizontal coordinate.\n",
        "\n",
        "- You can also provide **two arrays**: one for the horizontal axis `x`, and the second for the vertical axis `y`:"
      ]
    },
    {
      "cell_type": "code",
      "metadata": {
        "id": "f9ChRloyOsYb",
        "colab_type": "code",
        "colab": {}
      },
      "source": [
        "import matplotlib.pyplot as plt\n",
        "\n",
        "plt.plot([-3, -2, 5, 0], [1, 6, 4, 3])\n",
        "plt.show()"
      ],
      "execution_count": null,
      "outputs": []
    },
    {
      "cell_type": "markdown",
      "metadata": {
        "id": "MFOIZW24OsYd",
        "colab_type": "text"
      },
      "source": [
        "![](https://github.com/amanchadha/aman-ai/blob/master/assets/matplotlib/2.jpg?raw=1)\n",
        "\n",
        "- The axes **automatically match** the extent of the data. We would like to give the graph a bit more room, so let's call the `axis` function to change the extent of each axis `[xmin, xmax, ymin, ymax]`."
      ]
    },
    {
      "cell_type": "code",
      "metadata": {
        "id": "viImfFKtOsYd",
        "colab_type": "code",
        "colab": {}
      },
      "source": [
        "import matplotlib.pyplot as plt\n",
        "\n",
        "plt.plot([-3, -2, 5, 0], [1, 6, 4, 3])\n",
        "plt.axis([-4, 6, 0, 7])\n",
        "plt.show()"
      ],
      "execution_count": null,
      "outputs": []
    },
    {
      "cell_type": "markdown",
      "metadata": {
        "id": "MYw06lA_OsYf",
        "colab_type": "text"
      },
      "source": [
        "![](https://github.com/amanchadha/aman-ai/blob/master/assets/matplotlib/3.jpg?raw=1)\n",
        "\n",
        "- Now, let's plot a mathematical function. We use NumPy's `linspace` function to create an array `x` containing \\\\(500\\\\) floats ranging from \\\\(-2\\\\) to \\\\(2\\\\), then we create a second array `y` computed as the square of `x` (to learn about NumPy, go through our [NumPy tutorial](../numpy))."
      ]
    },
    {
      "cell_type": "code",
      "metadata": {
        "id": "ug_jeC_FOsYf",
        "colab_type": "code",
        "colab": {}
      },
      "source": [
        "import matplotlib.pyplot as plt\n",
        "import numpy as np\n",
        "\n",
        "x = np.linspace(-2, 2, 500)\n",
        "y = x**2\n",
        "\n",
        "plt.plot(x, y)\n",
        "plt.show()"
      ],
      "execution_count": null,
      "outputs": []
    },
    {
      "cell_type": "markdown",
      "metadata": {
        "id": "9OH9TsUDOsYh",
        "colab_type": "text"
      },
      "source": [
        "![](https://github.com/amanchadha/aman-ai/blob/master/assets/matplotlib/4.jpg?raw=1)\n",
        "\n",
        "- And here's how you can get a sine wave:"
      ]
    },
    {
      "cell_type": "code",
      "metadata": {
        "id": "0PyBZIO1OsYh",
        "colab_type": "code",
        "colab": {}
      },
      "source": [
        "import matplotlib.pyplot as plt\n",
        "import numpy as np\n",
        "\n",
        "# Compute the x and y coordinates for points on a sine curve\n",
        "x = np.arange(-2*np.pi, 2*np.pi, 0.1)\n",
        "y = np.sin(x)\n",
        "\n",
        "# Plot the points using matplotlib\n",
        "plt.plot(x, y)\n",
        "plt.show()"
      ],
      "execution_count": null,
      "outputs": []
    },
    {
      "cell_type": "markdown",
      "metadata": {
        "id": "yT8NYuPhOsYk",
        "colab_type": "text"
      },
      "source": [
        "![](https://github.com/amanchadha/aman-ai/blob/master/assets/matplotlib/sine.jpg?raw=1)\n",
        "\n",
        "- With just a little bit of extra work we can superimpose multiple lines on the same graph, add a title, legend, axis labels and draw a grid:"
      ]
    },
    {
      "cell_type": "code",
      "metadata": {
        "id": "xXVfWaneOsYk",
        "colab_type": "code",
        "colab": {}
      },
      "source": [
        "import matplotlib.pyplot as plt\n",
        "import numpy as np\n",
        "\n",
        "# Compute the x and y coordinates for points on sine and cosine curves\n",
        "x = np.arange(-2*np.pi, 2*np.pi, 0.1)\n",
        "y_sin = np.sin(x)\n",
        "y_cos = np.cos(x)\n",
        "\n",
        "# Plot the points using matplotlib\n",
        "plt.plot(x, y_sin)\n",
        "plt.plot(x, y_cos)\n",
        "\n",
        "# Axes labels\n",
        "plt.xlabel('Radians')\n",
        "plt.ylabel('Magnitude')\n",
        "\n",
        "# Custom X and Y axis limits\n",
        "plt.xlim(np.ceil(-2*np.pi), np.floor(2*np.pi))\n",
        "plt.ylim(-1, 1)\n",
        "\n",
        "# Add a plot title\n",
        "plt.title('Sine and Cosine')\n",
        "\n",
        "# Add a legend\n",
        "plt.legend(['Sine', 'Cosine'])\n",
        "\n",
        "# Show the grid\n",
        "plt.grid(True)\n",
        "\n",
        "plt.show()"
      ],
      "execution_count": null,
      "outputs": []
    },
    {
      "cell_type": "markdown",
      "metadata": {
        "id": "kPXcr4ybOsYm",
        "colab_type": "text"
      },
      "source": [
        "![](https://github.com/amanchadha/aman-ai/blob/master/assets/matplotlib/sine_cosine.jpg?raw=1)\n",
        "\n",
        "- For more on the `plot` function, refer the [Matplotlib documentation](https://matplotlib.org/api/pyplot_api.html#matplotlib.pyplot.plot).\n",
        "\n",
        "## Line style and colors\n",
        "\n",
        "- By default, Matplotlib connects **consecutive points** with a **line**."
      ]
    },
    {
      "cell_type": "code",
      "metadata": {
        "id": "cF35XKVVOsYn",
        "colab_type": "code",
        "colab": {}
      },
      "source": [
        "import matplotlib.pyplot as plt\n",
        "\n",
        "plt.plot([0, 100, 100, 0, 0, 100, 0, 100], [0, 0, 100, 100, 0, 100, 100, 0])\n",
        "plt.axis([-10, 110, -10, 110])\n",
        "plt.show()"
      ],
      "execution_count": null,
      "outputs": []
    },
    {
      "cell_type": "markdown",
      "metadata": {
        "id": "jvGXcCHpOsYp",
        "colab_type": "text"
      },
      "source": [
        "![](https://github.com/amanchadha/aman-ai/blob/master/assets/matplotlib/5.jpg?raw=1)\n",
        "\n",
        "- Overriding the `linestyle` (or `ls`) argument changes the line's style. The three most common linestyles are `-` (or `solid`) for a solid line, `--` (or `dashed`) for a dashed line, and `:` (or `dotted`) for a dotted line."
      ]
    },
    {
      "cell_type": "code",
      "metadata": {
        "id": "S2h0n8mBOsYp",
        "colab_type": "code",
        "colab": {}
      },
      "source": [
        "import matplotlib.pyplot as plt\n",
        "\n",
        "plt.plot([0, 100, 100, 0, 0, 100, 0, 100], [0, 0, 100, 100, 0, 100, 100, 0], ls=\"--\")\n",
        "plt.axis([-10, 110, -10, 110])\n",
        "plt.show()"
      ],
      "execution_count": null,
      "outputs": []
    },
    {
      "cell_type": "markdown",
      "metadata": {
        "id": "bLH_PCXmOsYr",
        "colab_type": "text"
      },
      "source": [
        "![](https://github.com/amanchadha/aman-ai/blob/master/assets/matplotlib/6.jpg?raw=1)\n",
        "\n",
        "- Overriding the `color` argument changes the line's color."
      ]
    },
    {
      "cell_type": "code",
      "metadata": {
        "id": "cvNGdWPoOsYr",
        "colab_type": "code",
        "colab": {}
      },
      "source": [
        "import matplotlib.pyplot as plt\n",
        "\n",
        "plt.plot([0, 100, 100, 0, 0, 100, 0, 100], [0, 0, 100, 100, 0, 100, 100, 0], ls=\"--\", color=\"purple\")\n",
        "plt.axis([-10, 110, -10, 110])\n",
        "plt.show()"
      ],
      "execution_count": null,
      "outputs": []
    },
    {
      "cell_type": "markdown",
      "metadata": {
        "id": "nhmDEMdiOsYt",
        "colab_type": "text"
      },
      "source": [
        "![](https://github.com/amanchadha/aman-ai/blob/master/assets/matplotlib/7.jpg?raw=1)\n",
        "\n",
        "- To define linestyle and color all rolled into one, send in a third argument over to `plot()`. In the below code snippet, `\"g--\"` means \"green dashed line\"."
      ]
    },
    {
      "cell_type": "code",
      "metadata": {
        "id": "FR1nEGYTOsYt",
        "colab_type": "code",
        "colab": {}
      },
      "source": [
        "import matplotlib.pyplot as plt\n",
        "\n",
        "plt.plot([0, 100, 100, 0, 0, 100, 0, 100], [0, 0, 100, 100, 0, 100, 100, 0], \"g--\")\n",
        "plt.axis([-10, 110, -10, 110])\n",
        "plt.show()"
      ],
      "execution_count": null,
      "outputs": []
    },
    {
      "cell_type": "markdown",
      "metadata": {
        "id": "mggxSu1uOsYu",
        "colab_type": "text"
      },
      "source": [
        "![](https://github.com/amanchadha/aman-ai/blob/master/assets/matplotlib/8.jpg?raw=1)\n",
        "\n",
        "- To plot multiple lines on one graph, just pass in multiple `x` and `y` arrays (and optionally, their respective styles) as: `x1, y1, [style1], x2, y2, [style2], ...`\n",
        "\n",
        "For example:"
      ]
    },
    {
      "cell_type": "code",
      "metadata": {
        "id": "hnVpsEJNOsYv",
        "colab_type": "code",
        "colab": {}
      },
      "source": [
        "import matplotlib.pyplot as plt\n",
        "\n",
        "plt.plot([0, 100, 0, 100], [0, 100, 100, 0], \"g--\", [0, 100, 100, 0, 0], [0, 0, 100, 100, 0], \"r-\")\n",
        "plt.axis([-10, 110, -10, 110])\n",
        "plt.show()"
      ],
      "execution_count": null,
      "outputs": []
    },
    {
      "cell_type": "markdown",
      "metadata": {
        "id": "1PKJ3rm_OsYw",
        "colab_type": "text"
      },
      "source": [
        "![](https://github.com/amanchadha/aman-ai/blob/master/assets/matplotlib/9.jpg?raw=1)\n",
        "\n",
        "- We can also achieve the same result as above by simply calling `plot` multiple times before calling `show`."
      ]
    },
    {
      "cell_type": "code",
      "metadata": {
        "id": "P_FCB8VpOsYx",
        "colab_type": "code",
        "colab": {}
      },
      "source": [
        "import matplotlib.pyplot as plt\n",
        "\n",
        "plt.plot([0, 100, 0, 100], [0, 100, 100, 0], \"g--\")\n",
        "plt.plot([0, 100, 100, 0, 0], [0, 0, 100, 100, 0], \"r-\")\n",
        "plt.axis([-10, 110, -10, 110])\n",
        "plt.show()"
      ],
      "execution_count": null,
      "outputs": []
    },
    {
      "cell_type": "markdown",
      "metadata": {
        "id": "lfaAOogLOsYy",
        "colab_type": "text"
      },
      "source": [
        "![](https://github.com/amanchadha/aman-ai/blob/master/assets/matplotlib/9.jpg?raw=1)\n",
        "\n",
        "- You can also draw simple points instead of lines. Here's an example with green dashes, red dotted line and blue triangles."
      ]
    },
    {
      "cell_type": "code",
      "metadata": {
        "id": "HGDIdoB5OsYz",
        "colab_type": "code",
        "colab": {}
      },
      "source": [
        "import matplotlib.pyplot as plt\n",
        "import numpy as np\n",
        "\n",
        "x = np.linspace(-1.4, 1.4, 30)\n",
        "plt.plot(x, x, 'g--', x, x**2, 'r:', x, x**3, 'b^')\n",
        "plt.show()"
      ],
      "execution_count": null,
      "outputs": []
    },
    {
      "cell_type": "markdown",
      "metadata": {
        "id": "VDp-zg_DOsY1",
        "colab_type": "text"
      },
      "source": [
        "![](https://github.com/amanchadha/aman-ai/blob/master/assets/matplotlib/10.jpg?raw=1)\n",
        "\n",
        "- Check out the [Matplotlib documentation](http://matplotlib.org/api/pyplot_api.html#matplotlib.pyplot.plot) for the full list of style and color options.\n",
        "\n",
        "- The plot function returns a list of `Line2D` objects (one for each line). You can set extra attributes on these lines, such as the **line width**, the **dash style** or the **alpha level**."
      ]
    },
    {
      "cell_type": "code",
      "metadata": {
        "id": "2tgm8ZyAOsY1",
        "colab_type": "code",
        "colab": {}
      },
      "source": [
        "import matplotlib.pyplot as plt\n",
        "import numpy as np\n",
        "\n",
        "x = np.linspace(-1.4, 1.4, 30)\n",
        "line1, line2, line3 = plt.plot(x, x, 'g--', x, x**2, 'r:', x, x**3, 'b^')\n",
        "line1.set_linewidth(3.0)\n",
        "line1.set_dash_capstyle(\"round\")\n",
        "line3.set_alpha(0.2)\n",
        "plt.show()"
      ],
      "execution_count": null,
      "outputs": []
    },
    {
      "cell_type": "markdown",
      "metadata": {
        "id": "fSdo-uqgOsY3",
        "colab_type": "text"
      },
      "source": [
        "![](https://github.com/amanchadha/aman-ai/blob/master/assets/matplotlib/11.jpg?raw=1)\n",
        "\n",
        "- For a full list of line properties and attributes, refer the [Matplotlib documentation](http://matplotlib.org/users/pyplot_tutorial.html#controlling-line-properties).\n",
        "\n",
        "## Saving a figure\n",
        "\n",
        "- Saving a figure to disk is as simple as calling [`savefig`](http://matplotlib.org/api/pyplot_api.html#matplotlib.pyplot.savefig) with the name of the file (or a file object). The available image formats depend on the graphics backend you use."
      ]
    },
    {
      "cell_type": "code",
      "metadata": {
        "id": "eLbSe-BIOsY3",
        "colab_type": "code",
        "colab": {}
      },
      "source": [
        "import matplotlib.pyplot as plt\n",
        "import numpy as np\n",
        "\n",
        "x = np.linspace(-1.4, 1.4, 30)\n",
        "plt.plot(x, x**2)\n",
        "plt.show()\n",
        "plt.savefig(\"my_square_function.png\", transparent=True)"
      ],
      "execution_count": null,
      "outputs": []
    },
    {
      "cell_type": "markdown",
      "metadata": {
        "id": "w-4bvi2iOsY6",
        "colab_type": "text"
      },
      "source": [
        "![](https://github.com/amanchadha/aman-ai/blob/master/assets/matplotlib/12.jpg?raw=1)\n",
        "\n",
        "## Subplots\n",
        "\n",
        "- A matplotlib figure may contain multiple subplots. These subplots are organized in a grid. To create a subplot, just call the `subplot` function, and specify the number of rows and columns in the figure, and the index of the subplot you want to draw on (starting from \\\\(1\\\\), then left to right, and top to bottom). \n",
        "- Note that pyplot keeps track of the currently active subplot (which you can get a reference to by calling `plt.gca()`), so when you call the `plot` function, it draws on the *active* subplot."
      ]
    },
    {
      "cell_type": "code",
      "metadata": {
        "id": "YXJffjV8OsY6",
        "colab_type": "code",
        "colab": {}
      },
      "source": [
        "import matplotlib.pyplot as plt\n",
        "import numpy as np\n",
        "\n",
        "x = np.linspace(-1.4, 1.4, 30)\n",
        "\n",
        "plt.subplot(2, 2, 1)  # 2 rows, 2 columns, 1st subplot = top left\n",
        "plt.plot(x, x)\n",
        "plt.subplot(2, 2, 2)  # 2 rows, 2 columns, 2nd subplot = top right\n",
        "plt.plot(x, x**2)\n",
        "plt.subplot(2, 2, 3)  # 2 rows, 2 columns, 3rd subplot = bottow left\n",
        "plt.plot(x, x**3)\n",
        "plt.subplot(2, 2, 4)  # 2 rows, 2 columns, 4th subplot = bottom right\n",
        "plt.plot(x, x**4)\n",
        "plt.show()"
      ],
      "execution_count": null,
      "outputs": []
    },
    {
      "cell_type": "markdown",
      "metadata": {
        "id": "BwBpgJ86OsY8",
        "colab_type": "text"
      },
      "source": [
        "![](https://github.com/amanchadha/aman-ai/blob/master/assets/matplotlib/13.jpg?raw=1)\n",
        "\n",
        "- Note that `subplot(223)` is a shorthand for `subplot(2, 2, 3)`.\n",
        "\n",
        "- It is easy to create subplots that span across multiple grid cells like so:"
      ]
    },
    {
      "cell_type": "code",
      "metadata": {
        "id": "sVaZ1a0-OsY8",
        "colab_type": "code",
        "colab": {}
      },
      "source": [
        "import matplotlib.pyplot as plt\n",
        "import numpy as np\n",
        "\n",
        "plt.subplot(2, 2, 1)  # 2 rows, 2 columns, 1st subplot = top left\n",
        "plt.plot(x, x)\n",
        "plt.subplot(2, 2, 2)  # 2 rows, 2 columns, 2nd subplot = top right\n",
        "plt.plot(x, x**2)\n",
        "plt.subplot(2, 1, 2)  # 2 rows, *1* column, 2nd subplot = bottom\n",
        "plt.plot(x, x**3)\n",
        "plt.show()"
      ],
      "execution_count": null,
      "outputs": []
    },
    {
      "cell_type": "markdown",
      "metadata": {
        "id": "izNCOrpYOsY-",
        "colab_type": "text"
      },
      "source": [
        "![](https://github.com/amanchadha/aman-ai/blob/master/assets/matplotlib/14.jpg?raw=1)\n",
        "\n",
        "- If you need even more flexibility in subplot positioning, check out the [GridSpec documentation](http://matplotlib.org/users/gridspec.html)\n",
        "\n",
        "- Here's an example that combines subplots with a couple of the other concepts (title, axes limits etc.) that we discussed earlier:"
      ]
    },
    {
      "cell_type": "code",
      "metadata": {
        "id": "zx8jDyLeOsY-",
        "colab_type": "code",
        "colab": {}
      },
      "source": [
        "import matplotlib.pyplot as plt\n",
        "import numpy as np\n",
        "\n",
        "# Compute the X and Y coordinates for points on sine and cosine curves\n",
        "x = np.arange(-2*np.pi, 2*np.pi, 0.1)\n",
        "y_sin = np.sin(x)\n",
        "y_cos = np.cos(x)\n",
        "\n",
        "# Set up a subplot grid that has height 2 and width 1, \n",
        "# and set the first such subplot as active.\n",
        "# (2, 1, 1) thus indicates total number of rows, columns, and figure number respectively\n",
        "plt.subplot(2, 1, 1)\n",
        "\n",
        "# Make the first plot\n",
        "plt.plot(x, y_sin)\n",
        "plt.title('Sine')\n",
        "\n",
        "# Custom X and Y axis limits for the first subplot\n",
        "plt.xlim(np.ceil(-2*np.pi), np.floor(2*np.pi))\n",
        "plt.ylim(-1,1)\n",
        "\n",
        "# Set the second subplot as active, and make the second plot\n",
        "plt.subplot(2, 1, 2)\n",
        "\n",
        "plt.plot(x, y_cos)\n",
        "plt.title('Cosine')\n",
        "\n",
        "# Custom X and Y axis limits for the second subplot\n",
        "plt.xlim(np.ceil(-2*np.pi), np.floor(2*np.pi))\n",
        "plt.ylim(-1,1)\n",
        "\n",
        "# Automatically adjust padding between subplots\n",
        "# Optionally, pass in a float parameter to specify the amount of padding between subplots\n",
        "plt.tight_layout()\n",
        "\n",
        "# Show the figure.\n",
        "plt.show()"
      ],
      "execution_count": null,
      "outputs": []
    },
    {
      "cell_type": "markdown",
      "metadata": {
        "id": "msspXB08OsY_",
        "colab_type": "text"
      },
      "source": [
        "![](https://github.com/amanchadha/aman-ai/blob/master/assets/matplotlib/sine_cosine_subplot.jpg?raw=1)\n",
        "\n",
        "- You can read much more about the `subplot` function in the [Matplotlib documentation](http://matplotlib.org/api/pyplot_api.html#matplotlib.pyplot.subplot).\n",
        "\n",
        "## Drawing text\n",
        "\n",
        "- You can call `text` to add text at any location in the graph. Just specify the horizontal and vertical coordinates and the text, and optionally some extra attributes. \n",
        "- Any text in matplotlib may contain TeX equation expressions, see the [Matplotlib documentation](http://matplotlib.org/users/mathtext.html) for more details."
      ]
    },
    {
      "cell_type": "code",
      "metadata": {
        "id": "c1RXUWRtOsZA",
        "colab_type": "code",
        "colab": {}
      },
      "source": [
        "import matplotlib.pyplot as plt\n",
        "\n",
        "x = np.linspace(-2, 2, 30)\n",
        "px = 1.414\n",
        "py = px**2\n",
        "\n",
        "plt.plot(x, x**2, \"b-\", px, py, \"ro\")\n",
        "\n",
        "plt.text(0, 3.0, \"Square function\\n$y = x^2$\", fontsize=20, color='blue', horizontalalignment=\"center\")\n",
        "plt.text(px - 0.08, py, \"Beautiful point\", ha=\"right\", weight=\"heavy\")\n",
        "plt.text(px, py, \"x = %0.2f\\ny = %0.2f\"%(px, py), rotation=50, color='gray')\n",
        "\n",
        "plt.show()"
      ],
      "execution_count": null,
      "outputs": []
    },
    {
      "cell_type": "markdown",
      "metadata": {
        "id": "9CCKAhK-OsZB",
        "colab_type": "text"
      },
      "source": [
        "![](https://github.com/amanchadha/aman-ai/blob/master/assets/matplotlib/15.jpg?raw=1)\n",
        "\n",
        "- Note: `ha` is an alias for `horizontalalignment`\n",
        "- For more text properties, refer the [Matplotlib documentation](http://matplotlib.org/users/text_props.html#text-properties).\n",
        "- It is quite frequent to annotate elements of a graph, such as the beautiful point above. The `annotate` function makes this easy: just indicate the location of the point of interest, and the position of the text, plus optionally some extra attributes for the text and the arrow."
      ]
    },
    {
      "cell_type": "code",
      "metadata": {
        "id": "OK0qCOhtOsZC",
        "colab_type": "code",
        "colab": {}
      },
      "source": [
        "import matplotlib.pyplot as plt\n",
        "\n",
        "x = np.linspace(-2, 2, 30)\n",
        "px = 1.414\n",
        "py = px**2\n",
        "\n",
        "plt.plot(x, x**2, px, py, \"ro\")\n",
        "plt.annotate(\"Beautiful point\", xy=(px, py), xytext=(px-1.5,py+0.5),\n",
        "                           color=\"blue\", weight=\"light\", fontsize=14,\n",
        "                           arrowprops={\"facecolor\": \"blue\"})\n",
        "plt.show()"
      ],
      "execution_count": null,
      "outputs": []
    },
    {
      "cell_type": "markdown",
      "metadata": {
        "id": "XZkLha6vOsZD",
        "colab_type": "text"
      },
      "source": [
        "![](https://github.com/amanchadha/aman-ai/blob/master/assets/matplotlib/16.jpg?raw=1)\n",
        "\n",
        "- You can also add a bounding box around your text by using the `bbox` attribute:"
      ]
    },
    {
      "cell_type": "code",
      "metadata": {
        "id": "ylOv_fPXOsZD",
        "colab_type": "code",
        "colab": {}
      },
      "source": [
        "import matplotlib.pyplot as plt\n",
        "\n",
        "x = np.linspace(-2, 2, 30)\n",
        "px = 1.414\n",
        "py = px**2\n",
        "\n",
        "plt.plot(x, x**2, px, py, \"ro\")\n",
        "\n",
        "bbox_props = dict(boxstyle=\"rarrow,pad=0.3\", ec=\"b\", lw=2, fc=\"lightblue\")\n",
        "plt.text(px-0.2, py, \"Beautiful point\", bbox=bbox_props, ha=\"right\")\n",
        "\n",
        "bbox_props = dict(boxstyle=\"round4,pad=1,rounding_size=0.2\", ec=\"black\", fc=\"#EEEEFF\", lw=5)\n",
        "plt.text(0, 3.0, \"Square function\\n$y = x^2$\", fontsize=20, color='black', ha=\"center\", bbox=bbox_props)\n",
        "\n",
        "plt.show()"
      ],
      "execution_count": null,
      "outputs": []
    },
    {
      "cell_type": "markdown",
      "metadata": {
        "id": "UMQEmiALOsZG",
        "colab_type": "text"
      },
      "source": [
        "![](https://github.com/amanchadha/aman-ai/blob/master/assets/matplotlib/17.jpg?raw=1)\n",
        "\n",
        "- Just for fun, if you want an [xkcd](http://xkcd.com)-style plot, just call `plt.xkcd()` before you do your plotting!"
      ]
    },
    {
      "cell_type": "code",
      "metadata": {
        "id": "qOUujfgGOsZG",
        "colab_type": "code",
        "colab": {}
      },
      "source": [
        "import matplotlib.pyplot as plt\n",
        "\n",
        "x = np.linspace(-2, 2, 30)\n",
        "px = 1.414\n",
        "py = px**2\n",
        "\n",
        "plt.xkcd()\n",
        "plt.plot(x, x**2, px, py, \"ro\")\n",
        "\n",
        "bbox_props = dict(boxstyle=\"rarrow,pad=0.3\", ec=\"b\", lw=2, fc=\"lightblue\")\n",
        "plt.text(px-0.2, py, \"Beautiful point\", bbox=bbox_props, ha=\"right\")\n",
        "\n",
        "bbox_props = dict(boxstyle=\"round4,pad=1,rounding_size=0.2\", ec=\"black\", fc=\"#EEEEFF\", lw=5)\n",
        "plt.text(0, 3.0, \"Square function\\n$y = x^2$\", fontsize=20, color='black', ha=\"center\", bbox=bbox_props)\n",
        "\n",
        "plt.show()"
      ],
      "execution_count": null,
      "outputs": []
    },
    {
      "cell_type": "markdown",
      "metadata": {
        "id": "cH_o96UfOsZI",
        "colab_type": "text"
      },
      "source": [
        "![](https://github.com/amanchadha/aman-ai/blob/master/assets/matplotlib/18.jpg?raw=1)\n",
        "\n",
        "- For more examples on XKCD plots, check [\"XKCD Plots have Landed in Matplotlib!\"](https://jakevdp.github.io/blog/2013/07/10/XKCD-plots-in-matplotlib/)\n",
        "\n",
        "## Legends\n",
        "\n",
        "- The simplest way to add a legend is to set a label on all lines, then just call the `legend` function."
      ]
    },
    {
      "cell_type": "code",
      "metadata": {
        "id": "BbyRfPheOsZI",
        "colab_type": "code",
        "colab": {}
      },
      "source": [
        "import matplotlib.pyplot as plt\n",
        "import numpy as np\n",
        "\n",
        "x = np.linspace(-1.4, 1.4, 50)\n",
        "plt.plot(x, x**2, \"r--\", label=\"Square function\")\n",
        "plt.plot(x, x**3, \"g-\", label=\"Cube function\")\n",
        "plt.legend(loc=\"best\")\n",
        "plt.grid(True)\n",
        "plt.show()"
      ],
      "execution_count": null,
      "outputs": []
    },
    {
      "cell_type": "markdown",
      "metadata": {
        "id": "9ZHVdB46OsZK",
        "colab_type": "text"
      },
      "source": [
        "![](https://github.com/amanchadha/aman-ai/blob/master/assets/matplotlib/19.jpg?raw=1)\n",
        "\n",
        "\n",
        "## Fonts\n",
        "\n",
        "- To change the font size of the legend, axis title or plot title of a Matplotlib plot, override their respective `fontsize` arguments:"
      ]
    },
    {
      "cell_type": "code",
      "metadata": {
        "id": "Hbis3X69OsZK",
        "colab_type": "code",
        "colab": {}
      },
      "source": [
        "import numpy as np\n",
        "import matplotlib.pyplot as plt\n",
        "\n",
        "x = np.linspace(-1.4, 1.4, 50)\n",
        "plt.plot(x, x**2, \"r--\", label=\"Square function\")\n",
        "\n",
        "# Add a legend\n",
        "plt.legend(['Square plot'], fontsize=7)\n",
        "\n",
        "# Set X and Y Labels\n",
        "plt.xlabel('x', fontsize = 12)\n",
        "plt.ylabel('x^2', fontsize = 12)\n",
        "\n",
        "# Add a plot title\n",
        "plt.title('Square function', fontsize=15)\n",
        "\n",
        "plt.grid(True)\n",
        "plt.show()"
      ],
      "execution_count": null,
      "outputs": []
    },
    {
      "cell_type": "markdown",
      "metadata": {
        "id": "fOJMVL6rOsZL",
        "colab_type": "text"
      },
      "source": [
        "![](https://github.com/amanchadha/aman-ai/blob/master/assets/matplotlib/29.jpg?raw=1)\n",
        "\n",
        "- Note that with the above method you can set the font size for each plot attribute (legend, axis title, plot title etc.) individually at creation (allowing you to have multiple plots in the same Python source with different font sizes for each of their attributes). \n",
        "- However, if you wish to set the same attributes for all plots in the same Python session/source, you can set the sizes calling the `rc` (runtime commands) method on Matplotlib:"
      ]
    },
    {
      "cell_type": "code",
      "metadata": {
        "id": "t7AXmClXOsZM",
        "colab_type": "code",
        "colab": {}
      },
      "source": [
        "import numpy as np\n",
        "import matplotlib.pyplot as plt\n",
        "\n",
        "SMALL_SIZE = 7\n",
        "MEDIUM_SIZE = 10 # Default Matplotlib font size\n",
        "BIGGER_SIZE = 15\n",
        "\n",
        "plt.rc('font', size=SMALL_SIZE)          # controls default text sizes\n",
        "plt.rc('axes', titlesize=SMALL_SIZE)     # fontsize of the axes title\n",
        "plt.rc('axes', labelsize=MEDIUM_SIZE)    # fontsize of the x and y labels\n",
        "plt.rc('xtick', labelsize=SMALL_SIZE)    # fontsize of the tick labels\n",
        "plt.rc('ytick', labelsize=SMALL_SIZE)    # fontsize of the tick labels\n",
        "plt.rc('legend', fontsize=SMALL_SIZE)    # legend fontsize\n",
        "plt.rc('figure', titlesize=BIGGER_SIZE)  # fontsize of the figure title\n",
        "\n",
        "x = np.linspace(-1.4, 1.4, 50)\n",
        "plt.plot(x, x**2, \"r--\", label=\"Square function\")\n",
        "\n",
        "# Add a legend\n",
        "plt.legend(['Square plot'])\n",
        "\n",
        "# Set X and Y Labels\n",
        "plt.xlabel('x')\n",
        "plt.ylabel('x^2')\n",
        "\n",
        "# Add a plot title\n",
        "plt.suptitle('Square function')\n",
        "\n",
        "plt.grid(True)\n",
        "plt.show()"
      ],
      "execution_count": null,
      "outputs": []
    },
    {
      "cell_type": "markdown",
      "metadata": {
        "id": "tyDU1nBhOsZO",
        "colab_type": "text"
      },
      "source": [
        "![](https://github.com/amanchadha/aman-ai/blob/master/assets/matplotlib/30.jpg?raw=1)\n",
        "\n",
        "- For a full list of rcParams, refer the [Matplotlib documentation](https://matplotlib.org/tutorials/introductory/customizing.html).\n",
        "\n",
        "## Non-linear scales\n",
        "\n",
        "- Matplotlib supports non linear scales, such as logarithmic or logit scales."
      ]
    },
    {
      "cell_type": "code",
      "metadata": {
        "id": "JctxJCCzOsZO",
        "colab_type": "code",
        "colab": {}
      },
      "source": [
        "import matplotlib.pyplot as plt\n",
        "import numpy as np\n",
        "\n",
        "x = np.linspace(0.1, 15, 500)\n",
        "y = x**3/np.exp(2*x)\n",
        "\n",
        "plt.figure(1)\n",
        "plt.plot(x, y)\n",
        "plt.yscale('linear')\n",
        "plt.title('linear')\n",
        "plt.grid(True)\n",
        "\n",
        "plt.figure(2)\n",
        "plt.plot(x, y)\n",
        "plt.yscale('log')\n",
        "plt.title('log')\n",
        "plt.grid(True)\n",
        "\n",
        "plt.show()"
      ],
      "execution_count": null,
      "outputs": []
    },
    {
      "cell_type": "markdown",
      "metadata": {
        "id": "eG_NPVAsOsZQ",
        "colab_type": "text"
      },
      "source": [
        "![](https://github.com/amanchadha/aman-ai/blob/master/assets/matplotlib/21.jpg?raw=1)\n",
        "![](https://github.com/amanchadha/aman-ai/blob/master/assets/matplotlib/22.jpg?raw=1)\n",
        "\n",
        "## Histograms\n",
        "\n",
        "- As an example:"
      ]
    },
    {
      "cell_type": "code",
      "metadata": {
        "id": "NrOqXk-IOsZQ",
        "colab_type": "code",
        "colab": {}
      },
      "source": [
        "import matplotlib.pyplot as plt\n",
        "import numpy as np\n",
        "\n",
        "data = [1, 1.1, 1.8, 2, 2.1, 3.2, 3, 3, 3, 3]\n",
        "plt.subplot(211)\n",
        "plt.hist(data, bins = 10, rwidth=0.8)\n",
        "\n",
        "plt.subplot(212)\n",
        "plt.hist(data, bins = [1, 1.5, 2, 2.5, 3], rwidth=0.95)\n",
        "plt.xlabel(\"Value\")\n",
        "plt.ylabel(\"Frequency\")\n",
        "\n",
        "plt.show()"
      ],
      "execution_count": null,
      "outputs": []
    },
    {
      "cell_type": "markdown",
      "metadata": {
        "id": "l2ZHNX5fOsZR",
        "colab_type": "text"
      },
      "source": [
        "![](https://github.com/amanchadha/aman-ai/blob/master/assets/matplotlib/23.jpg?raw=1)\n",
        "\n",
        "- Another example:"
      ]
    },
    {
      "cell_type": "code",
      "metadata": {
        "id": "_UULnBTDOsZS",
        "colab_type": "code",
        "colab": {}
      },
      "source": [
        "import matplotlib.pyplot as plt\n",
        "import numpy as np\n",
        "\n",
        "data1 = np.random.randn(400)\n",
        "data2 = np.random.randn(500) + 3\n",
        "data3 = np.random.randn(450) + 6\n",
        "data4a = np.random.randn(200) + 9\n",
        "data4b = np.random.randn(100) + 10\n",
        "\n",
        "plt.hist(data1, bins=5, color='g', alpha=0.75, label='bar hist') # default histtype='bar'\n",
        "plt.hist(data2, color='b', alpha=0.65, histtype='stepfilled', label='stepfilled hist')\n",
        "plt.hist(data3, color='r', histtype='step', label='step hist')\n",
        "plt.hist((data4a, data4b), color=('r','m'), alpha=0.55, histtype='barstacked', label=('barstacked a', 'barstacked b'))\n",
        "\n",
        "plt.xlabel(\"Value\")\n",
        "plt.ylabel(\"Frequency\")\n",
        "plt.legend()\n",
        "plt.grid(True)\n",
        "plt.show()"
      ],
      "execution_count": null,
      "outputs": []
    },
    {
      "cell_type": "markdown",
      "metadata": {
        "id": "AqSQ5jmGOsZT",
        "colab_type": "text"
      },
      "source": [
        "![](https://github.com/amanchadha/aman-ai/blob/master/assets/matplotlib/24.jpg?raw=1)\n",
        "\n",
        "## Images\n",
        "\n",
        "- You can use the `imshow` function to show images. Here is an example:"
      ]
    },
    {
      "cell_type": "code",
      "metadata": {
        "id": "k7qhWCkDOsZT",
        "colab_type": "code",
        "colab": {}
      },
      "source": [
        "import matplotlib.pyplot as plt\n",
        "import numpy as np\n",
        "from scipy.misc import imread, imresize\n",
        "\n",
        "img = imread('cat.jpg')\n",
        "img_tinted = img * [1, 0.95, 0.9]\n",
        "\n",
        "# Show the original image\n",
        "plt.subplot(1, 2, 1)\n",
        "plt.imshow(img)\n",
        "\n",
        "# Show the tinted image\n",
        "plt.subplot(1, 2, 2)\n",
        "\n",
        "# A slight gotcha with imshow is that it might give strange results\n",
        "# if presented with data that is not uint8. To work around this, we\n",
        "# explicitly cast the image to uint8 before displaying it.\n",
        "plt.imshow(np.uint8(img_tinted))\n",
        "plt.show()"
      ],
      "execution_count": null,
      "outputs": []
    },
    {
      "cell_type": "markdown",
      "metadata": {
        "id": "JmqCMGf_OsZV",
        "colab_type": "text"
      },
      "source": [
        "![](/assets/matplotlib/cat_tinted_imshow.jpg)\n",
        "\n",
        "- It's just as easy to generate your own image:"
      ]
    },
    {
      "cell_type": "code",
      "metadata": {
        "id": "rUJNvsLmOsZV",
        "colab_type": "code",
        "colab": {}
      },
      "source": [
        "import numpy as np\n",
        "import matplotlib.pyplot as plt\n",
        "\n",
        "img = np.arange(100*100).reshape(100, 100)\n",
        "plt.imshow(img)\n",
        "plt.show()"
      ],
      "execution_count": null,
      "outputs": []
    },
    {
      "cell_type": "markdown",
      "metadata": {
        "id": "zspGYBGKOsZY",
        "colab_type": "text"
      },
      "source": [
        "![](https://github.com/amanchadha/aman-ai/blob/master/assets/matplotlib/25.jpg?raw=1)\n",
        "\n",
        "- As we did not provide RGB levels, the `imshow` function automatically maps values to a color gradient. By default, the color gradient goes from blue (for low values) to red (for high values), but you can select another color map. For e.g.:"
      ]
    },
    {
      "cell_type": "code",
      "metadata": {
        "id": "D82kUh4WOsZY",
        "colab_type": "code",
        "colab": {}
      },
      "source": [
        "import numpy as np\n",
        "import matplotlib.pyplot as plt\n",
        "\n",
        "img = np.arange(100*100).reshape(100, 100)\n",
        "plt.imshow(img, cmap=\"hot\")\n",
        "plt.show()"
      ],
      "execution_count": null,
      "outputs": []
    },
    {
      "cell_type": "markdown",
      "metadata": {
        "id": "9Bc9LyxPOsZZ",
        "colab_type": "text"
      },
      "source": [
        "![](https://github.com/amanchadha/aman-ai/blob/master/assets/matplotlib/26.jpg?raw=1)\n",
        "\n",
        "- You can also generate an RGB image directly:"
      ]
    },
    {
      "cell_type": "code",
      "metadata": {
        "id": "ukGPf5yeOsZa",
        "colab_type": "code",
        "colab": {}
      },
      "source": [
        "import numpy as np\n",
        "import matplotlib.pyplot as plt\n",
        "\n",
        "img = np.empty((20, 30, 3))\n",
        "\n",
        "# 1, 0, 0 for the color red\n",
        "img[:, :10] = [1, 0, 0]\n",
        "\n",
        "# 0, 1, 0 for the color green\n",
        "img[:, 10:20] = [0, 1, 0]\n",
        "\n",
        "# 0, 0, 1 for the color blue\n",
        "img[:, 20:] = [0, 0, 1]\n",
        "plt.imshow(img)\n",
        "plt.show()"
      ],
      "execution_count": null,
      "outputs": []
    },
    {
      "cell_type": "markdown",
      "metadata": {
        "id": "PVaUoSHOOsZb",
        "colab_type": "text"
      },
      "source": [
        "![](https://github.com/amanchadha/aman-ai/blob/master/assets/matplotlib/27.jpg?raw=1)\n",
        "\n",
        "- Since the `img` array is just quite small, i.e., of size \\\\(20 \\times 30\\\\), when the `imshow` function displays it, it grows the image to the figure's size. Imagine stretching the original image, leaving blanks between the original pixels. How does `imshow` fill the blanks? By default, it just colors each blank pixel using the color of the nearest non-blank pixel. This technique can lead to pixelated images. \n",
        "- If you prefer, you can use a different interpolation method, such as [bilinear interpolation](https://en.wikipedia.org/wiki/Bilinear_interpolation) to fill the blank pixels. This leads to blurry edges, which many be nicer in some cases:"
      ]
    },
    {
      "cell_type": "code",
      "metadata": {
        "id": "VB2X-hClOsZb",
        "colab_type": "code",
        "colab": {}
      },
      "source": [
        "import numpy as np\n",
        "import matplotlib.pyplot as plt\n",
        "\n",
        "img = np.empty((20,30,3))\n",
        "img[:, :10] = [1, 0, 0]\n",
        "img[:, 10:20] = [0, 1, 0]\n",
        "img[:, 20:] = [0, 0, 1]\n",
        "plt.imshow(img, interpolation=\"bilinear\")\n",
        "plt.show()"
      ],
      "execution_count": null,
      "outputs": []
    },
    {
      "cell_type": "markdown",
      "metadata": {
        "id": "TqZSAfCsOsZd",
        "colab_type": "text"
      },
      "source": [
        "![](https://github.com/amanchadha/aman-ai/blob/master/assets/matplotlib/28.jpg?raw=1)\n",
        "\n",
        "## References and Credits\n",
        "\n",
        "- Aurélien Geron's [Notebook on Matplotlib](https://github.com/ageron/handson-ml2/blob/master/tools_matplotlib.ipynb) and [Hands-on Machine Learning with Scikit-Learn, Keras and TensorFlow](https://www.oreilly.com/library/view/hands-on-machine-learning/9781492032632/) served as a major inspiration for this tutorial.\n",
        "- Parts of this tutorial were originally contributed by [Justin Johnson](http://cs.stanford.edu/people/jcjohns/).\n",
        "- Stanford's [CS231N Python/Numpy Tutorial](https://cs231n.github.io/python-numpy-tutorial/).\n",
        "- [Matplotlib documentation](https://matplotlib.org/api/index.html).\n",
        "- [How to set the spacing between subplots in Matplotlib in Python](https://www.kite.com/python/answers/how-to-set-the-spacing-between-subplots-in-matplotlib-in-python)\n",
        "- [Improve subplot size/spacing with many subplots in Matplotlib](https://stackoverflow.com/questions/6541123/improve-subplot-size-spacing-with-many-subplots-in-matplotlib)\n",
        "- [Why do many examples use `fig, ax = plt.subplots()` in Matplotlib/pyplot/python?](https://stackoverflow.com/questions/34162443/why-do-many-examples-use-fig-ax-plt-subplots-in-matplotlib-pyplot-python)\n",
        "- [How to change the font size on a matplotlib plot?](https://stackoverflow.com/questions/3899980/how-to-change-the-font-size-on-a-matplotlib-plot)\n",
        "- [How to change legend size with matplotlib.pyplot?](https://stackoverflow.com/questions/7125009/how-to-change-legend-size-with-matplotlib-pyplot)\n",
        "- [PyPlot Legend only displaying one letter](https://stackoverflow.com/questions/44632571/pyplot-legend-only-displaying-one-letter)"
      ]
    }
  ]
}