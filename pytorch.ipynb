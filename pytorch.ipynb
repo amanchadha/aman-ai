{
  "nbformat": 4,
  "nbformat_minor": 0,
  "metadata": {
    "colab": {
      "name": "pytorch.ipynb",
      "provenance": [],
      "collapsed_sections": [],
      "toc_visible": true
    },
    "kernelspec": {
      "name": "python2",
      "display_name": "Python 2"
    },
    "accelerator": "GPU"
  },
  "cells": [
    {
      "cell_type": "markdown",
      "metadata": {
        "id": "bBEeSQ6u2-H-",
        "colab_type": "text"
      },
      "source": [
        "# PyTorch Deep Learning Pipeline\n"
      ]
    },
    {
      "cell_type": "markdown",
      "metadata": {
        "id": "vA48M5TADk9P",
        "colab_type": "text"
      },
      "source": [
        "\n",
        "In this part, we’ll walk through an end-to-end pipeline for a classification task on the MNIST dataset in Pytorch.\n",
        "\n",
        "We will implement the following steps - \n",
        "\n",
        "1.   Download the dataset \n",
        "2. Load the dataset\n",
        "2.   Define the model\n",
        "1.   Define the loss function and optimizer\n",
        "2.   Define the evaluation metric\n",
        "1.   Train the network on the training data\n",
        "2.   Report results on the train and test data (using the evaluation metric)\n",
        "\n",
        "\n",
        "Reference - https://pytorch.org/tutorials/beginner/blitz/cifar10_tutorial.html#sphx-glr-beginner-blitz-cifar10-tutorial-py\n"
      ]
    },
    {
      "cell_type": "markdown",
      "metadata": {
        "id": "HfEuIgy8ZPCe",
        "colab_type": "text"
      },
      "source": [
        "# Part 1: Download Data"
      ]
    },
    {
      "cell_type": "code",
      "metadata": {
        "id": "l3aQ4JEzX8C7",
        "colab_type": "code",
        "colab": {
          "base_uri": "https://localhost:8080/",
          "height": 190
        },
        "outputId": "60affc9c-5cea-4784-a9b7-1dc7c242daab"
      },
      "source": [
        "!pip install pypng"
      ],
      "execution_count": null,
      "outputs": [
        {
          "output_type": "stream",
          "text": [
            "Collecting pypng\n",
            "\u001b[?25l  Downloading https://files.pythonhosted.org/packages/0e/39/993a5feea8ed9c2eebd70c6e7c20cb4b0823588f5ab0afab4b0be95ebc23/pypng-0.0.19.tar.gz (293kB)\n",
            "\r\u001b[K     |█▏                              | 10kB 17.6MB/s eta 0:00:01\r\u001b[K     |██▎                             | 20kB 24.9MB/s eta 0:00:01\r\u001b[K     |███▍                            | 30kB 29.5MB/s eta 0:00:01\r\u001b[K     |████▌                           | 40kB 33.9MB/s eta 0:00:01\r\u001b[K     |█████▋                          | 51kB 37.8MB/s eta 0:00:01\r\u001b[K     |██████▊                         | 61kB 40.8MB/s eta 0:00:01\r\u001b[K     |███████▉                        | 71kB 41.5MB/s eta 0:00:01\r\u001b[K     |█████████                       | 81kB 42.6MB/s eta 0:00:01\r\u001b[K     |██████████                      | 92kB 44.9MB/s eta 0:00:01\r\u001b[K     |███████████▏                    | 102kB 46.5MB/s eta 0:00:01\r\u001b[K     |████████████▎                   | 112kB 46.5MB/s eta 0:00:01\r\u001b[K     |█████████████▍                  | 122kB 46.5MB/s eta 0:00:01\r\u001b[K     |██████████████▌                 | 133kB 46.5MB/s eta 0:00:01\r\u001b[K     |███████████████▋                | 143kB 46.5MB/s eta 0:00:01\r\u001b[K     |████████████████▊               | 153kB 46.5MB/s eta 0:00:01\r\u001b[K     |██████████████████              | 163kB 46.5MB/s eta 0:00:01\r\u001b[K     |███████████████████             | 174kB 46.5MB/s eta 0:00:01\r\u001b[K     |████████████████████▏           | 184kB 46.5MB/s eta 0:00:01\r\u001b[K     |█████████████████████▎          | 194kB 46.5MB/s eta 0:00:01\r\u001b[K     |██████████████████████▍         | 204kB 46.5MB/s eta 0:00:01\r\u001b[K     |███████████████████████▌        | 215kB 46.5MB/s eta 0:00:01\r\u001b[K     |████████████████████████▋       | 225kB 46.5MB/s eta 0:00:01\r\u001b[K     |█████████████████████████▊      | 235kB 46.5MB/s eta 0:00:01\r\u001b[K     |██████████████████████████▉     | 245kB 46.5MB/s eta 0:00:01\r\u001b[K     |████████████████████████████    | 256kB 46.5MB/s eta 0:00:01\r\u001b[K     |█████████████████████████████   | 266kB 46.5MB/s eta 0:00:01\r\u001b[K     |██████████████████████████████▏ | 276kB 46.5MB/s eta 0:00:01\r\u001b[K     |███████████████████████████████▎| 286kB 46.5MB/s eta 0:00:01\r\u001b[K     |████████████████████████████████| 296kB 46.5MB/s \n",
            "\u001b[?25hBuilding wheels for collected packages: pypng\n",
            "  Building wheel for pypng (setup.py) ... \u001b[?25l\u001b[?25hdone\n",
            "  Stored in directory: /root/.cache/pip/wheels/a4/cd/54/c1d0803dfed5adf2bba530eda161581d9096d0154aee082cac\n",
            "Successfully built pypng\n",
            "Installing collected packages: pypng\n",
            "Successfully installed pypng-0.0.19\n"
          ],
          "name": "stdout"
        }
      ]
    },
    {
      "cell_type": "code",
      "metadata": {
        "id": "orUb96aWYsaN",
        "colab_type": "code",
        "colab": {}
      },
      "source": [
        "from tqdm import *"
      ],
      "execution_count": null,
      "outputs": []
    },
    {
      "cell_type": "code",
      "metadata": {
        "id": "8ngVVUx6YFXw",
        "colab_type": "code",
        "colab": {
          "base_uri": "https://localhost:8080/",
          "height": 765
        },
        "outputId": "31db26c7-e582-4e22-8364-424abd8a828a"
      },
      "source": [
        "!wget http://yann.lecun.com/exdb/mnist/train-images-idx3-ubyte.gz\n",
        "!wget http://yann.lecun.com/exdb/mnist/train-labels-idx1-ubyte.gz\n",
        "!wget http://yann.lecun.com/exdb/mnist/t10k-images-idx3-ubyte.gz\n",
        "!wget http://yann.lecun.com/exdb/mnist/t10k-labels-idx1-ubyte.gz\n",
        "!gunzip t*.gz"
      ],
      "execution_count": null,
      "outputs": [
        {
          "output_type": "stream",
          "text": [
            "--2019-05-02 23:38:33--  http://yann.lecun.com/exdb/mnist/train-images-idx3-ubyte.gz\n",
            "Resolving yann.lecun.com (yann.lecun.com)... 216.165.22.6\n",
            "Connecting to yann.lecun.com (yann.lecun.com)|216.165.22.6|:80... connected.\n",
            "HTTP request sent, awaiting response... 200 OK\n",
            "Length: 9912422 (9.5M) [application/x-gzip]\n",
            "Saving to: ‘train-images-idx3-ubyte.gz’\n",
            "\n",
            "train-images-idx3-u 100%[===================>]   9.45M  5.88MB/s    in 1.6s    \n",
            "\n",
            "2019-05-02 23:38:35 (5.88 MB/s) - ‘train-images-idx3-ubyte.gz’ saved [9912422/9912422]\n",
            "\n",
            "--2019-05-02 23:38:36--  http://yann.lecun.com/exdb/mnist/train-labels-idx1-ubyte.gz\n",
            "Resolving yann.lecun.com (yann.lecun.com)... 216.165.22.6\n",
            "Connecting to yann.lecun.com (yann.lecun.com)|216.165.22.6|:80... connected.\n",
            "HTTP request sent, awaiting response... 200 OK\n",
            "Length: 28881 (28K) [application/x-gzip]\n",
            "Saving to: ‘train-labels-idx1-ubyte.gz’\n",
            "\n",
            "train-labels-idx1-u 100%[===================>]  28.20K   174KB/s    in 0.2s    \n",
            "\n",
            "2019-05-02 23:38:37 (174 KB/s) - ‘train-labels-idx1-ubyte.gz’ saved [28881/28881]\n",
            "\n",
            "--2019-05-02 23:38:38--  http://yann.lecun.com/exdb/mnist/t10k-images-idx3-ubyte.gz\n",
            "Resolving yann.lecun.com (yann.lecun.com)... 216.165.22.6\n",
            "Connecting to yann.lecun.com (yann.lecun.com)|216.165.22.6|:80... connected.\n",
            "HTTP request sent, awaiting response... 200 OK\n",
            "Length: 1648877 (1.6M) [application/x-gzip]\n",
            "Saving to: ‘t10k-images-idx3-ubyte.gz’\n",
            "\n",
            "t10k-images-idx3-ub 100%[===================>]   1.57M  1.60MB/s    in 1.0s    \n",
            "\n",
            "2019-05-02 23:38:39 (1.60 MB/s) - ‘t10k-images-idx3-ubyte.gz’ saved [1648877/1648877]\n",
            "\n",
            "--2019-05-02 23:38:41--  http://yann.lecun.com/exdb/mnist/t10k-labels-idx1-ubyte.gz\n",
            "Resolving yann.lecun.com (yann.lecun.com)... 216.165.22.6\n",
            "Connecting to yann.lecun.com (yann.lecun.com)|216.165.22.6|:80... connected.\n",
            "HTTP request sent, awaiting response... 200 OK\n",
            "Length: 4542 (4.4K) [application/x-gzip]\n",
            "Saving to: ‘t10k-labels-idx1-ubyte.gz’\n",
            "\n",
            "t10k-labels-idx1-ub 100%[===================>]   4.44K  --.-KB/s    in 0s      \n",
            "\n",
            "2019-05-02 23:38:41 (167 MB/s) - ‘t10k-labels-idx1-ubyte.gz’ saved [4542/4542]\n",
            "\n"
          ],
          "name": "stdout"
        }
      ]
    },
    {
      "cell_type": "code",
      "metadata": {
        "id": "v0OL4yC9YVwp",
        "colab_type": "code",
        "colab": {
          "base_uri": "https://localhost:8080/",
          "height": 51
        },
        "outputId": "d090046b-e9ac-4b7d-d29d-5c7ed6abca60"
      },
      "source": [
        "# source: https://github.com/myleott/mnist_png/blob/master/convert_mnist_to_png.py\n",
        "import os\n",
        "import struct\n",
        "import sys\n",
        "\n",
        "from array import array\n",
        "from os import path\n",
        "\n",
        "import png\n",
        "\n",
        "# source: http://abel.ee.ucla.edu/cvxopt/_downloads/mnist.py\n",
        "def read(dataset = \"training\", path = \".\"):\n",
        "    if dataset is \"training\":\n",
        "        fname_img = os.path.join(path, 'train-images-idx3-ubyte')\n",
        "        fname_lbl = os.path.join(path, 'train-labels-idx1-ubyte')\n",
        "    elif dataset is \"testing\":\n",
        "        fname_img = os.path.join(path, 't10k-images-idx3-ubyte')\n",
        "        fname_lbl = os.path.join(path, 't10k-labels-idx1-ubyte')\n",
        "    else:\n",
        "        raise ValueError(\"dataset must be 'testing' or 'training'\")\n",
        "\n",
        "    flbl = open(fname_lbl, 'rb')\n",
        "    magic_nr, size = struct.unpack(\">II\", flbl.read(8))\n",
        "    lbl = array(\"b\", flbl.read())\n",
        "    flbl.close()\n",
        "\n",
        "    fimg = open(fname_img, 'rb')\n",
        "    magic_nr, size, rows, cols = struct.unpack(\">IIII\", fimg.read(16))\n",
        "    img = array(\"B\", fimg.read())\n",
        "    fimg.close()\n",
        "\n",
        "    return lbl, img, size, rows, cols\n",
        "\n",
        "def write_dataset(labels, data, size, rows, cols, output_dir):\n",
        "    # create output directories\n",
        "    output_dirs = [\n",
        "        path.join(output_dir, str(i))\n",
        "        for i in range(10)\n",
        "    ]\n",
        "    for dir in output_dirs:\n",
        "        if not path.exists(dir):\n",
        "            os.makedirs(dir)\n",
        "\n",
        "    # write data\n",
        "    for (i, label) in tqdm(enumerate(labels)):\n",
        "        output_filename = path.join(output_dirs[label], str(i) + \".png\")\n",
        "        with open(output_filename, \"wb\") as h:\n",
        "            w = png.Writer(cols, rows, greyscale=True)\n",
        "            data_i = [\n",
        "                data[ (i*rows*cols + j*cols) : (i*rows*cols + (j+1)*cols) ]\n",
        "                for j in range(rows)\n",
        "            ]\n",
        "            w.write(h, data_i)\n",
        "\n",
        "input_path = '/content'\n",
        "output_path = '/content/mnist'\n",
        "for dataset in [\"training\", \"testing\"]:\n",
        "    labels, data, size, rows, cols = read(dataset, input_path)\n",
        "    write_dataset(labels, data, size, rows, cols,\n",
        "                  path.join(output_path, dataset))"
      ],
      "execution_count": null,
      "outputs": [
        {
          "output_type": "stream",
          "text": [
            "60000it [00:09, 6147.17it/s]\n",
            "10000it [00:01, 6324.71it/s]\n"
          ],
          "name": "stderr"
        }
      ]
    },
    {
      "cell_type": "markdown",
      "metadata": {
        "id": "Zz84BWQTZv1z",
        "colab_type": "text"
      },
      "source": [
        "#Part 2: Load and preprocess the dataset "
      ]
    },
    {
      "cell_type": "code",
      "metadata": {
        "id": "sm9kkKrFgER1",
        "colab_type": "code",
        "colab": {}
      },
      "source": [
        "#Create csv files\n",
        "import glob \n",
        "import pandas as pd\n",
        "\n",
        "for split in ['training', 'testing']:\n",
        "    rows = []\n",
        "    for folder in glob.glob('/content/mnist/'+ split + '/*'):\n",
        "        label = folder.split(\"/\")[-1]\n",
        "        for image_path in glob.glob(folder+ \"/*\"):\n",
        "            rows.append([image_path,label])\n",
        "    df=pd.DataFrame(rows,columns=['Path','Label'])\n",
        "    df.to_csv(split + \".csv\", index = False)\n"
      ],
      "execution_count": null,
      "outputs": []
    },
    {
      "cell_type": "code",
      "metadata": {
        "id": "Py8ckf0VqgOK",
        "colab_type": "code",
        "colab": {
          "base_uri": "https://localhost:8080/",
          "height": 608
        },
        "outputId": "6a9c448d-8ffe-4eea-8614-d1798f2f1967"
      },
      "source": [
        "# Visualize the dataset \n",
        "\n",
        "import matplotlib.pyplot as plt\n",
        "import numpy as np\n",
        "import cv2\n",
        "\n",
        "def view_dataset(paths, labels, method='cv2'):\n",
        "    fig, axs = plt.subplots(5, 5, figsize=(10, 10))\n",
        "    flatted_axs = [item for one_ax in axs for item in one_ax]\n",
        "    for ax, path, label in zip(flatted_axs, paths[:25], labels[:25]):\n",
        "        if method == 'cv2':\n",
        "            img = cv2.imread(path, 3)\n",
        "        elif method == 'tf':\n",
        "            img = try_tf_image(path)\n",
        "        ax.imshow(img)\n",
        "        ax.set_title(label)\n",
        "        ax.axis('off')\n",
        "    plt.show() \n",
        "\n",
        "\n",
        "df = pd.read_csv('/content/training.csv')\n",
        "paths = df['Path'][:25]\n",
        "labels = df['Label'][:25]\n",
        "\n",
        "view_dataset(paths, labels)"
      ],
      "execution_count": null,
      "outputs": [
        {
          "output_type": "display_data",
          "data": {
            "image/png": "[encoded data removed]",
            "text/plain": [
              "<Figure size 720x720 with 25 Axes>"
            ]
          },
          "metadata": {
            "tags": []
          }
        }
      ]
    },
    {
      "cell_type": "code",
      "metadata": {
        "id": "npVz8F15ipDi",
        "colab_type": "code",
        "colab": {
          "base_uri": "https://localhost:8080/",
          "height": 51
        },
        "outputId": "4d10f2fc-8620-4a2a-fcbd-7050cd6a8ff7"
      },
      "source": [
        "# Install Pytorch2\n",
        "# http://pytorch.org/\n",
        "#from os.path import exists\n",
        "#from wheel.pep425tags import get_abbr_impl, get_impl_ver, get_abi_tag\n",
        "#platform = '{}{}-{}'.format(get_abbr_impl(), get_impl_ver(), get_abi_tag())\n",
        "#cuda_output = !ldconfig -p|grep cudart.so|sed -e 's/.*\\.\\([0-9]*\\)\\.\\([0-9]*\\)$/cu\\1\\2/'\n",
        "#accelerator = cuda_output[0] if exists('/dev/nvidia0') else 'cpu'\n",
        "\n",
        "#!pip install -q http://download.pytorch.org/whl/{accelerator}/torch-0.4.1-{platform}-linux_x86_64.whl torchvision\n",
        "\n",
        "  \n",
        "!pip install torch \n",
        "import torch\n",
        "\n",
        "print(torch.__version__)"
      ],
      "execution_count": null,
      "outputs": [
        {
          "output_type": "stream",
          "text": [
            "Requirement already satisfied: torch in /usr/local/lib/python2.7/dist-packages (1.0.1.post2)\n",
            "1.0.1.post2\n"
          ],
          "name": "stdout"
        }
      ]
    },
    {
      "cell_type": "code",
      "metadata": {
        "id": "rQYdkPxSZ46b",
        "colab_type": "code",
        "colab": {}
      },
      "source": [
        "import pandas as pd\n",
        "from torch.utils.data import Dataset, DataLoader\n",
        "from PIL import Image\n",
        "\n",
        "class Dataset(Dataset):\n",
        "    def __init__(self, data_split, toy=False):\n",
        "     \n",
        "        df = pd.read_csv(data_split)\n",
        "        \n",
        "        # Remove any paths for which the image files do not exist\n",
        "        #df = df[df[\"Path\"].apply(os.path.exists)]\n",
        "      \n",
        "        #print (\"%s size %d\" % (data_split, df.shape[0]))\n",
        "\n",
        "        #Could remove\n",
        "        #if toy:\n",
        "            #df = df.sample(frac=0.01)\n",
        "\n",
        "        self.img_paths = df[\"Path\"].tolist()\n",
        "\n",
        "        self.labels = df[\"Label\"].tolist()\n",
        "\n",
        "        self.n_classes = len(self.labels)\n",
        "\n",
        "    def __getitem__(self, index):\n",
        "           img = np.array(Image.open(self.img_paths[index])).astype(np.float32) / 255.\n",
        "           label = self.labels[index]\n",
        "           label_vec = torch.LongTensor([label])\n",
        "           return img, label_vec\n",
        "          \n",
        "\n",
        "    def __len__(self):\n",
        "        return len(self.img_paths)"
      ],
      "execution_count": null,
      "outputs": []
    },
    {
      "cell_type": "code",
      "metadata": {
        "id": "65LGWGMTvftr",
        "colab_type": "code",
        "colab": {
          "base_uri": "https://localhost:8080/",
          "height": 51
        },
        "outputId": "81fddbf1-8102-4bc9-d610-202fa9bcffa5"
      },
      "source": [
        "train_dataset = Dataset('training.csv')\n",
        "test_dataset = Dataset('testing.csv')\n",
        "\n",
        "\n",
        "train_loader = torch.utils.data.DataLoader(train_dataset, batch_size=100,\n",
        "                                         shuffle=True)\n",
        "test_loader = torch.utils.data.DataLoader(test_dataset, batch_size=100,\n",
        "                                         shuffle=False)\n",
        "\n",
        "print(len(train_loader))\n",
        "print(len(test_loader))"
      ],
      "execution_count": null,
      "outputs": [
        {
          "output_type": "stream",
          "text": [
            "600\n",
            "100\n"
          ],
          "name": "stdout"
        }
      ]
    },
    {
      "cell_type": "code",
      "metadata": {
        "id": "3BqLZzkD5qkp",
        "colab_type": "code",
        "colab": {}
      },
      "source": [
        "\"\"\" Step 2: Define the model\n",
        "\n",
        "For now, we will implement a very simple \n",
        "2-layer neural network (LINEAR->RELU->LINEAR->SOFTMAX)\n",
        "\"\"\"\n",
        "import torch.nn as nn\n",
        "\n",
        "class Flatten(nn.Module):\n",
        "    def forward(self, input):\n",
        "        return input.view(input.size(0), -1)\n",
        "      \n",
        "model = nn.Sequential(\n",
        "          Flatten(),\n",
        "          nn.Linear(784, 50),\n",
        "          nn.ReLU(),\n",
        "          nn.Linear(50, 10),\n",
        "          nn.Softmax())\n"
      ],
      "execution_count": null,
      "outputs": []
    },
    {
      "cell_type": "code",
      "metadata": {
        "id": "dNR2Huir8iDO",
        "colab_type": "code",
        "colab": {}
      },
      "source": [
        "\"\"\"Step 3: Define loss function and optimizer\n",
        "\n",
        "We will use the cross entropy loss and Adam optimizer\n",
        "\"\"\"\n",
        "import torch.optim as optim\n",
        "\n",
        "# Define the cost function\n",
        "criterion = nn.CrossEntropyLoss()\n",
        "\n",
        "# Define the optimizer, learning rate \n",
        "optimizer = optim.Adam(model.parameters(), lr=0.01)\n"
      ],
      "execution_count": null,
      "outputs": []
    },
    {
      "cell_type": "code",
      "metadata": {
        "id": "FjYyhIyz8kzP",
        "colab_type": "code",
        "colab": {
          "base_uri": "https://localhost:8080/",
          "height": 275
        },
        "outputId": "e1eff96a-7b67-45e0-e0a7-fc9a34db643b"
      },
      "source": [
        "\"\"\"\"\"Step 5: Train the network on the training data\n",
        "\"\"\"\n",
        "\n",
        "for epoch in range(2): \n",
        "      for i, (inputs, labels) in enumerate(train_loader, 0):\n",
        "        # zero the parameter gradients\n",
        "        optimizer.zero_grad()\n",
        "\n",
        "        # forward propogation\n",
        "        outputs = model(inputs)\n",
        "        \n",
        "        # calculate the loss\n",
        "        loss = criterion(outputs, labels.squeeze(1))\n",
        "        \n",
        "        # backpropogation + update parameters\n",
        "        loss.backward()\n",
        "        optimizer.step()\n",
        "\n",
        "        # print statistics\n",
        "        cost = loss.item()\n",
        "        if i % 100 == 0:    # print every 1000 iterations\n",
        "            print('Epoch:' + str(epoch) + \", Iteration: \" + str(i) \n",
        "                  + \", training cost = \" + str(cost))\n"
      ],
      "execution_count": null,
      "outputs": [
        {
          "output_type": "stream",
          "text": [
            "/usr/local/lib/python2.7/dist-packages/torch/nn/modules/container.py:92: UserWarning: Implicit dimension choice for softmax has been deprecated. Change the call to include dim=X as an argument.\n",
            "  input = module(input)\n"
          ],
          "name": "stderr"
        },
        {
          "output_type": "stream",
          "text": [
            "Epoch:0, Iteration: 0, training cost = 2.3012213707\n",
            "Epoch:0, Iteration: 100, training cost = 1.57056260109\n",
            "Epoch:0, Iteration: 200, training cost = 1.53760325909\n",
            "Epoch:0, Iteration: 300, training cost = 1.53002023697\n",
            "Epoch:0, Iteration: 400, training cost = 1.5536929369\n",
            "Epoch:0, Iteration: 500, training cost = 1.5609023571\n",
            "Epoch:1, Iteration: 0, training cost = 1.53286731243\n",
            "Epoch:1, Iteration: 100, training cost = 1.51947629452\n",
            "Epoch:1, Iteration: 200, training cost = 1.50253367424\n",
            "Epoch:1, Iteration: 300, training cost = 1.5579059124\n",
            "Epoch:1, Iteration: 400, training cost = 1.48810362816\n",
            "Epoch:1, Iteration: 500, training cost = 1.53372812271\n"
          ],
          "name": "stdout"
        }
      ]
    },
    {
      "cell_type": "code",
      "metadata": {
        "id": "flMO9Gx68jYJ",
        "colab_type": "code",
        "colab": {}
      },
      "source": [
        "\"\"\"Step 4: Define evaluation metric\n",
        "\n",
        "We will use accuracy as an evaluation metric\n",
        "\"\"\"\n",
        "\n",
        "def calculate_accuracy(loader):\n",
        "    total = 0\n",
        "    correct = 0\n",
        "  \n",
        "    all_images = []\n",
        "    all_preds = []\n",
        "    all_labels = []\n",
        "    with torch.no_grad():\n",
        "        for data in loader:\n",
        "            images, labels = data\n",
        "            outputs = model(images)\n",
        "            _, predicted = torch.max(outputs.data, 1)\n",
        "            total += labels.size(0)\n",
        "            correct += (predicted == labels.squeeze()).sum().item()\n",
        "            \n",
        "            all_images.append(images)\n",
        "            all_preds.append(predicted.numpy())\n",
        "            all_labels.append(labels)\n",
        "\n",
        "    return 100 * correct / total, all_images, all_preds, all_labels"
      ],
      "execution_count": null,
      "outputs": []
    },
    {
      "cell_type": "code",
      "metadata": {
        "id": "eRbRt1-18rks",
        "colab_type": "code",
        "colab": {
          "base_uri": "https://localhost:8080/",
          "height": 51
        },
        "outputId": "828fac17-dd56-42e7-91eb-3490da95f0c0"
      },
      "source": [
        "\"\"\"Step 6: Report results on the train and test data (using the evaluation metric)\n",
        "\"\"\"\n",
        "        \n",
        "train_accuracy, _ , _, _ = calculate_accuracy(train_loader)\n",
        "test_accuracy, images, preds, labels = calculate_accuracy(test_loader)\n",
        "\n",
        "print('Train accuracy: %f' % train_accuracy)\n",
        "print('Test accuracy: %f' % test_accuracy)\n",
        "\n",
        "images = np.concatenate(images, axis=0)\n",
        "preds = np.concatenate(preds, axis=0)\n",
        "labels = np.squeeze(np.concatenate(labels, axis=0))"
      ],
      "execution_count": null,
      "outputs": [
        {
          "output_type": "stream",
          "text": [
            "Train accuracy: 94.000000\n",
            "Test accuracy: 94.000000\n"
          ],
          "name": "stdout"
        }
      ]
    },
    {
      "cell_type": "code",
      "metadata": {
        "id": "GUJzZQ7zey6O",
        "colab_type": "code",
        "colab": {
          "base_uri": "https://localhost:8080/",
          "height": 608
        },
        "outputId": "eca78bbf-665b-4f96-f2c1-3b3c71ef55f9"
      },
      "source": [
        "##### VIEW PREDICTIONS #####\n",
        "import matplotlib.pyplot as plt\n",
        "import numpy as np\n",
        "\n",
        "\n",
        "def unison_shuffled_copies(a, b, c):\n",
        "    assert len(a) == len(b) == len(c)\n",
        "    p = np.random.permutation(len(a))\n",
        "    return a[p], b[p], c[p]\n",
        "\n",
        "images, labels, preds = unison_shuffled_copies(images, labels, preds)\n",
        "\n",
        "fig, axs = plt.subplots(5, 5, figsize=(10, 10))\n",
        "flatted_axs = [item for one_ax in axs for item in one_ax]\n",
        "for ax, img, label, pred in zip(flatted_axs, images[:25], labels[:25], preds[:25]):\n",
        "    ax.imshow(np.reshape(img, (28,28)))\n",
        "    ax.set_title('l:{},p:{}'.format(label, pred))\n",
        "    ax.axis('off')\n",
        "plt.show()  "
      ],
      "execution_count": null,
      "outputs": [
        {
          "output_type": "display_data",
          "data": {
            "image/png": "[encoded data removed]",
            "text/plain": [
              "<Figure size 720x720 with 25 Axes>"
            ]
          },
          "metadata": {
            "tags": []
          }
        }
      ]
    },
    {
      "cell_type": "markdown",
      "metadata": {
        "id": "W5eAVxqYbc2N",
        "colab_type": "text"
      },
      "source": [
        "# Part III - Saving/Loading a model\n",
        "\n",
        "In this part, we will look at how you would save a trained model and then load it again for evaluation.\n",
        "\n",
        "Reference - https://pytorch.org/tutorials/beginner/saving_loading_models.html"
      ]
    },
    {
      "cell_type": "code",
      "metadata": {
        "id": "1PwE0NcNbuTf",
        "colab_type": "code",
        "colab": {}
      },
      "source": [
        "\"\"\"Save a model\n",
        "\"\"\"\n",
        "\n",
        "# Create a very simple model and save the weights\n",
        "v1 = torch.randn(3)\n",
        "v2 = torch.randn(5)\n",
        "\n",
        "# Save variables\n",
        "torch.save(v1, 'v1.pth')\n",
        "torch.save(v2, 'v2.pth')\n",
        "\n",
        "# Print values at v1 and v2 to verify later\n",
        "print(v1)\n",
        "print(v2)"
      ],
      "execution_count": null,
      "outputs": []
    },
    {
      "cell_type": "code",
      "metadata": {
        "id": "wRo8lso2nagN",
        "colab_type": "code",
        "colab": {}
      },
      "source": [
        "\"\"\" Load a model\n",
        "\"\"\"\n",
        "\n",
        "# Load variables v1 and v2 \n",
        "v1 = torch.load('v1.pth')\n",
        "v2 = torch.load('v2.pth')\n",
        "\n",
        "# Check the values of the variables\n",
        "print(v1)\n",
        "print(v2)"
      ],
      "execution_count": null,
      "outputs": []
    }
  ]
}