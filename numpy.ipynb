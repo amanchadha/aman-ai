{
  "nbformat": 4,
  "nbformat_minor": 0,
  "metadata": {
    "colab": {
      "name": "numpy.ipynb",
      "provenance": [],
      "toc_visible": true
    }
  },
  "cells": [
    {
      "cell_type": "markdown",
      "metadata": {
        "id": "bYWqP4GngZ2C",
        "colab_type": "text"
      },
      "source": [
        "# [Aman's AI Journal](https://aman.ai) | Primers | NumPy Tutorial\n",
        "\n",
        "## Introduction\n",
        "\n",
        "- [NumPy](http://www.numpy.org/) is the core library for scientific computing in Python. It is informally known as the the **swiss army knife** of the **data scientist**.\n",
        "- It provides a high-performance multidimensional array object `numpy.ndarray`, and tools for operating on these arrays. \n",
        "- If you're already familiar with numerical processing in a different language like MATLAB and R, here are some recommended references: \n",
        "    - [NumPy for MATLAB users](https://numpy.org/doc/stable/user/numpy-for-matlab-users.html)\n",
        "    - [Python for R users](http://www.data-analysis-in-python.org/python_for_r.html)\n",
        "- **Related primers:** [Matplotlib](../matplotlib) and [SciPy](../scipy).\n",
        "\n",
        "## Arrays\n",
        "\n",
        "- A NumPy array is a **grid of values**, all of the same type, and is indexed by a tuple of non-negative integers. \n",
        "- The number of dimensions is the **rank** of the array; the **shape** of an array is a tuple of integers giving the size of the array along each dimension.\n",
        "- We can initialize NumPy arrays from **(nested) lists and tuples**, and access elements using square brackets as array subscripts:"
      ]
    },
    {
      "cell_type": "code",
      "metadata": {
        "id": "1-ZOHMePgZ2D",
        "colab_type": "code",
        "colab": {}
      },
      "source": [
        "import numpy as np\n",
        "\n",
        "a = np.array([1, 2, 3])              # Define a rank 1 array using a list\n",
        "print(type(a))                       # Prints <class 'numpy.ndarray'>\n",
        "print(a.shape)                       # Prints (3,)\n",
        "print(a[0], a[1], a[2])              # Prints (1, 2, 3)\n",
        "a[0] = 5                             # Change an element of the array\n",
        "print(a)                             # Prints [5 2 3]\n",
        "\n",
        "b = np.array([[1, 2, 3]])            # Define a rank 2 array (vector) using a nested list\n",
        "print(b.shape)                       # Prints (1, 3)\n",
        "\n",
        "c = np.array([[1, 2, 3], [4, 5, 6]]) # Define a rank 2 array (matrix) using a nested list\n",
        "print(c.shape)                       # Prints (2, 3)\n",
        "print(c[0, 0], c[0, 1], c[1, 0])     # Prints (1, 2, 4)\n",
        "\n",
        "d = np.array((1, 2, 3))              # Define a rank 1 array from a tuple using a nested list\n",
        "print(d)                             # Prints [1 2 3]\n",
        "print(d.shape)                       # Prints (3,)\n",
        "\n",
        "e = np.array(((1, 2, 3), (4, 5, 6))) # Define a rank 2 array using a nested list\n",
        "print(e)                             # Prints [[1, 2, 3],\n",
        "                                     #         [4, 5, 6]]\n",
        "\n",
        "# NumPy arrays can be initialized using other NumPy arrays or lists\n",
        "# but note that the resulting matrix is always of type NumPy ndarray\n",
        "l = [1, 2, 3]                        # Define a python list\n",
        "a = np.array([1, 2, 3])              # Define a numpy array by passing in a list\n",
        "f = np.array([a, a, a])              # Matrix initialized with NumPy arrays\n",
        "g = np.array([l, l, l])              # Matrix initialized with lists\n",
        "h = np.array([a, [1, 1, 1], a])      # Matrix initialized with both types\n",
        "\n",
        "# All the below statements print [[1 2 3]\n",
        "#                                 [1 2 3]\n",
        "#                                 [1 2 3]]\n",
        "print(f)\n",
        "print(g)\n",
        "print(h)"
      ],
      "execution_count": null,
      "outputs": []
    },
    {
      "cell_type": "markdown",
      "metadata": {
        "id": "8Y4HEYWAgZ2G",
        "colab_type": "text"
      },
      "source": [
        "- Note the difference between a Python list and a NumPy array. NumPy arrays are designed for numerical (vector/matrix) operations, while lists are for more general purposes."
      ]
    },
    {
      "cell_type": "code",
      "metadata": {
        "id": "whsSSUUPgZ2G",
        "colab_type": "code",
        "colab": {}
      },
      "source": [
        "import numpy as np\n",
        "\n",
        "l = [1, 2, 3]           # Define a python list\n",
        "a = np.array([1, 2, 3]) # Define a numpy array by passing in a list\n",
        "print(l)                # Prints [1, 2, 3]\n",
        "print(a)                # Prints [1 2 3]\n",
        "\n",
        "print(type(l))          # Prints <class 'list'>\n",
        "print(type(a))          # Prints <class 'numpy.ndarray'>"
      ],
      "execution_count": null,
      "outputs": []
    },
    {
      "cell_type": "markdown",
      "metadata": {
        "id": "Eu2uMJ-QgZ2J",
        "colab_type": "text"
      },
      "source": [
        "- Note that when defining an array, be sure that all the rows contain the **same number of columns/elements**. Otherwise, algebraic operations on malformed matrices could lead to unexpected results:"
      ]
    },
    {
      "cell_type": "code",
      "metadata": {
        "id": "L15xnpwwgZ2J",
        "colab_type": "code",
        "colab": {}
      },
      "source": [
        "import numpy as np\n",
        "\n",
        "a = np.array([[1, 2], [3, 4]]) # Define a 2x2 matrix\n",
        "\n",
        "# Print a scaled version of 'a', more on this in the section on \"scaling and translating arrays\" below\n",
        "print(a * 2)                   # Prints [[2 4]\n",
        "                               #         [6 8]]\n",
        "\n",
        "# Define a malformed matrix. Note the third row contains 3 elements, while other rows contain 2 elements\n",
        "b = np.array([[1, 2], [3, 4], [5, 6, 7]])\n",
        "\n",
        "# Print the malformed matrix\n",
        "print(b)                       # Prints [list([1, 2]) list([3, 4]) list([5, 6, 7])]\n",
        "\n",
        "# Supposed to scale the whole matrix but does *not*\n",
        "print(b * 2)                   # Prints [list([1, 2, 1, 2]) list([3, 4, 3, 4]) list([5, 6, 7, 5, 6, 7])]"
      ],
      "execution_count": null,
      "outputs": []
    },
    {
      "cell_type": "markdown",
      "metadata": {
        "id": "h7F8KaJRgZ2L",
        "colab_type": "text"
      },
      "source": [
        "- NumPy also provides many functions to create arrays:"
      ]
    },
    {
      "cell_type": "code",
      "metadata": {
        "id": "UquUNCSvgZ2M",
        "colab_type": "code",
        "colab": {}
      },
      "source": [
        "import numpy as np\n",
        "\n",
        "a = np.zeros((2, 2))                        # Define an array of all zeros\n",
        "print(a)                                    # Prints [[ 0.  0.]\n",
        "                                            #         [ 0.  0.]]\n",
        "\n",
        "b = np.ones((1, 2))                         # Define an array of all ones\n",
        "print(b)                                    # Prints [[ 1.  1.]]\n",
        "\n",
        "c = np.full((2, 2), 7)                      # Define a constant array\n",
        "print(c)                                    # Prints [[ 7.  7.]\n",
        "                                            #         [ 7.  7.]]\n",
        "\n",
        "d = np.eye(2)                               # Define a 2x2 identity matrix\n",
        "print(d)                                    # Prints [[ 1.  0.]\n",
        "                                            #         [ 0.  1.]]\n",
        "\n",
        "e = np.random.random((2, 2))                # Define a 2x2 matrix from the uniform distribution [0, 1)\n",
        "print(e)                                    # Prints a 2x2 matrix of random values \n",
        "\n",
        "g = 5 * np.random.random_sample((2, 2)) - 5 # Sample 2x2 matrix from Unif[-5, 0)\n",
        "                                            # Sample from Unif[a, b), b > a: (b - a) * random_sample() + a\n",
        "print(f)                                    # Prints a 2x2 matrix of random values \n",
        "\n",
        "f = np.random.randn(2, 2)                   # Sample a 2x2 matrix from the “standard normal” distribution\n",
        "print(f)                                    # Prints a 2x2 matrix of random values \n",
        "\n",
        "g = 2.5 * np.random.randn(2, 2) + 3         # Sample 2x2 matrix from N(mean=3, var=6.25)\n",
        "                                            # General form: stddev * np.random.randn(...) + mean\n",
        "print(f)                                    # Prints a 2x2 matrix of random values "
      ],
      "execution_count": null,
      "outputs": []
    },
    {
      "cell_type": "markdown",
      "metadata": {
        "id": "jwK8sq9bgZ2P",
        "colab_type": "text"
      },
      "source": [
        "- Note that with `np.random.randn()`, the length of each dimension of the output array is an **individual argument**. On the other hand, `np.random.random()` accepts its shape argument as a **single tuple containing all dimensions**. More on this in the section on [standard normal](#standard-normal).\n",
        "- You can read about other methods of array creation in the [NumPy documentation](http://docs.scipy.org/doc/numpy/user/basics.creation.html#arrays-creation).\n",
        "\n",
        "## Array indexing\n",
        "\n",
        "- NumPy offers several ways to index into arrays.\n",
        "\n",
        "### Row and column indexing\n",
        "\n",
        "- To \"select\" a particular row or column in an array, NumPy offers similar functionality as Python lists:"
      ]
    },
    {
      "cell_type": "code",
      "metadata": {
        "id": "Y-L8vN1vgZ2P",
        "colab_type": "code",
        "colab": {}
      },
      "source": [
        "import numpy as np\n",
        "\n",
        "a = np.array([[1, 2], [3, 4]])\n",
        "\n",
        "# Select a row\n",
        "a[0]               # Prints [1, 2]\n",
        "a[1]               # Prints [3, 4]\n",
        "\n",
        "# Select a column\n",
        "a[:, 0]            # Prints [1, 3]\n",
        "a[:, 1]            # Prints [2, 4]"
      ],
      "execution_count": null,
      "outputs": []
    },
    {
      "cell_type": "markdown",
      "metadata": {
        "id": "fCWI70rXgZ2R",
        "colab_type": "text"
      },
      "source": [
        "- You can use `np.arange()` to select the rows/columns of an array. For more details on `np.arange()`, refer to the section on [arange](#arange) below."
      ]
    },
    {
      "cell_type": "code",
      "metadata": {
        "id": "uvxUuXtCgZ2R",
        "colab_type": "code",
        "colab": {}
      },
      "source": [
        "import numpy as np\n",
        "\n",
        "a = np.array([[1, 2], [3, 4]])\n",
        "\n",
        "# Return the entire array\n",
        "a[np.arange(2), :] # Prints [[1, 2],\n",
        "                   #         [3, 4]]\n",
        "\n",
        "# Return the first row\n",
        "a[np.arange(1), :] # Prints [[1, 2]]"
      ],
      "execution_count": null,
      "outputs": []
    },
    {
      "cell_type": "markdown",
      "metadata": {
        "id": "6SYdJJ3igZ2U",
        "colab_type": "text"
      },
      "source": [
        "- You can use an **\"index-array\"** that contains indices of rows or columns to index into another array. This is a very **common use-case** in NumPy-based projects."
      ]
    },
    {
      "cell_type": "code",
      "metadata": {
        "id": "j4oxNtvSgZ2U",
        "colab_type": "code",
        "colab": {}
      },
      "source": [
        "import numpy as np\n",
        "\n",
        "a = np.array([[1, 2], [3, 4]])\n",
        "\n",
        "# Selecting columns using an index array\n",
        "b = [0, 0]         # Select the first column for both rows (see below)\n",
        "a[np.arange(1), b] # Prints [1, 1] (same as a[0, b])\n",
        "a[np.arange(2), b] # Prints [1, 3] (same as a[[0, 1], b])\n",
        "\n",
        "a[:, b]            # Prints [[1, 1],\n",
        "                   #         [3, 3]]\n",
        "\n",
        "# Selecting rows using an index array\n",
        "b = [0, 0]         # Select the first row for both columns (see below)\n",
        "a[b, np.arange(1)] # Prints [1, 1] (same as a[b, 0])\n",
        "a[b, np.arange(2)] # Prints [1, 2] (same as a[b, [0, 1]])        \n",
        "\n",
        "a[b, :]            # Prints [[1, 2],\n",
        "                   #         [1, 2]]"
      ],
      "execution_count": null,
      "outputs": []
    },
    {
      "cell_type": "markdown",
      "metadata": {
        "id": "pfGlHM61gZ2Y",
        "colab_type": "text"
      },
      "source": [
        "### Slicing\n",
        "\n",
        "- Similar to Python lists, NumPy arrays can be sliced.\n",
        "- Since arrays may be multidimensional, you must specify a slice for each dimension of the array:"
      ]
    },
    {
      "cell_type": "code",
      "metadata": {
        "id": "DxfXu2JFgZ2Y",
        "colab_type": "code",
        "colab": {}
      },
      "source": [
        "import numpy as np\n",
        "\n",
        "# Define the following rank 2 array with shape (3, 4)\n",
        "# [[ 1  2  3  4]\n",
        "#  [ 5  6  7  8]\n",
        "#  [ 9 10 11 12]]\n",
        "a = np.array([[1, 2, 3, 4], [5, 6, 7, 8], [9, 10, 11, 12]])\n",
        "\n",
        "# Use slicing to pull out the subarray consisting of the first 2 rows\n",
        "# and columns 1 and 2; b is the following array of shape (2, 2):\n",
        "# [[2 3]\n",
        "#  [6 7]]\n",
        "b = a[:2, 1:3]\n",
        "\n",
        "# A slice of an array is a view into the same data, so modifying it\n",
        "# will modify the original array\n",
        "print(a[0, 1]) # Prints 2\n",
        "b[0, 0] = 77   # b[0, 0] is the same piece of data as a[0, 1]\n",
        "print(a[0, 1]) # Prints 77"
      ],
      "execution_count": null,
      "outputs": []
    },
    {
      "cell_type": "markdown",
      "metadata": {
        "id": "IRNyxPOCgZ2a",
        "colab_type": "text"
      },
      "source": [
        "- You can also mix integer indexing with slice indexing. However, doing so will yield an array of lower rank than the original array.\n",
        "- Note that this is quite different from the way that MATLAB handles array slicing:"
      ]
    },
    {
      "cell_type": "code",
      "metadata": {
        "id": "thm0dohHgZ2b",
        "colab_type": "code",
        "colab": {}
      },
      "source": [
        "import numpy as np\n",
        "\n",
        "# Define the following rank 2 array with shape (3, 4)\n",
        "# [[ 1  2  3  4]\n",
        "#  [ 5  6  7  8]\n",
        "#  [ 9 10 11 12]]\n",
        "a = np.array([[1, 2, 3, 4], [5, 6, 7, 8], [9, 10, 11, 12]])\n",
        "\n",
        "# Two ways of accessing the data in the middle row of the array.\n",
        "# Mixing integer indexing with slices yields an array of lower rank,\n",
        "# while using only slices yields an array of the same rank as the\n",
        "# original array:\n",
        "row_r1 = a[1, :]                      # Rank 1 view of the second row of a\n",
        "row_r2 = a[1:2, :]                    # Rank 2 view of the second row of a\n",
        "print(row_r1, row_r1.shape)           # Prints [5 6 7 8] (4,)\n",
        "print(row_r2, row_r2.shape)           # Prints [[5 6 7 8]] (1, 4)\n",
        "\n",
        "# We can make the same distinction when accessing columns of an array:\n",
        "col_r1 = a[:, 1]\n",
        "col_r2 = a[:, 1:2]\n",
        "print(col_r1, col_r1.shape)           # Prints [ 2  6 10] (3,)\n",
        "print(col_r2, col_r2.shape)           # Prints [[ 2]\n",
        "                                      #         [ 6]\n",
        "                                      #         [10]] (3, 1)\n",
        "\n",
        "# Mix row and column slicing to print the first 2 rows and  alternate \n",
        "# columns\n",
        "arr_row_col = a[:2, ::2]\n",
        "print(arr_row_col, arr_row_col.shape) # Prints [[1, 3],\n",
        "                                      #         [5, 7]] (2, 2)"
      ],
      "execution_count": null,
      "outputs": []
    },
    {
      "cell_type": "markdown",
      "metadata": {
        "id": "AgD5yUZlgZ2f",
        "colab_type": "text"
      },
      "source": [
        "### Integer array indexing\n",
        "\n",
        "- When you index into NumPy arrays using slicing, the resulting array view will always be a subarray of the original array. \n",
        "- In contrast, integer array indexing allows you to construct arbitrary arrays using the data from another array. \n",
        "- Here is an example:"
      ]
    },
    {
      "cell_type": "code",
      "metadata": {
        "id": "LjnlQT18gZ2g",
        "colab_type": "code",
        "colab": {}
      },
      "source": [
        "import numpy as np\n",
        "\n",
        "a = np.array([[1, 2], [3, 4], [5, 6]])\n",
        "\n",
        "# An example of integer array indexing.\n",
        "# The returned array will have shape (3,) and\n",
        "print(a[[0, 1, 2], [0, 1, 0]])                # Prints [1 4 5]\n",
        "\n",
        "# The above example of integer array indexing is equivalent to this:\n",
        "print(np.array([a[0, 0], a[1, 1], a[2, 0]]))  # Prints [1 4 5]\n",
        "\n",
        "# When using integer array indexing, you can reuse the same\n",
        "# element from the source array:\n",
        "print(a[[0, 0], [1, 1]])                      # Prints [2 2]\n",
        "\n",
        "# Equivalent to the previous integer array indexing example\n",
        "print(np.array([a[0, 1], a[0, 1]]))           # Prints [2 2]"
      ],
      "execution_count": null,
      "outputs": []
    },
    {
      "cell_type": "markdown",
      "metadata": {
        "id": "7DmJYPoOgZ2k",
        "colab_type": "text"
      },
      "source": [
        "- One useful trick with integer array indexing is selecting or mutating one element from each row of a matrix:"
      ]
    },
    {
      "cell_type": "code",
      "metadata": {
        "id": "gAs5VEGKgZ2l",
        "colab_type": "code",
        "colab": {}
      },
      "source": [
        "import numpy as np\n",
        "\n",
        "# Define a new array from which we will select elements\n",
        "a = np.array([[1, 2, 3], [4, 5, 6], [7, 8, 9], [10, 11, 12]])\n",
        "\n",
        "print(a)                   # Prints [[ 1,  2,  3],\n",
        "                           #         [ 4,  5,  6],\n",
        "                           #         [ 7,  8,  9],\n",
        "                           #         [10, 11, 12]]\n",
        "\n",
        "# Define an array of indices\n",
        "b = np.array([0, 2, 0, 1])\n",
        "\n",
        "# Select one element from each row of a using the indices in b\n",
        "print(a[np.arange(4), b])  # Prints [ 1  6  7 11]\n",
        "\n",
        "# Mutate one element from each row of a using the indices in b\n",
        "a[np.arange(4), b] += 10\n",
        "\n",
        "print(a)                   # Prints [[11,  2,  3],\n",
        "                           #         [ 4,  5, 16],\n",
        "                           #         [17,  8,  9],\n",
        "                           #         [10, 21, 12]]"
      ],
      "execution_count": null,
      "outputs": []
    },
    {
      "cell_type": "markdown",
      "metadata": {
        "id": "fcGa1MOdgZ2n",
        "colab_type": "text"
      },
      "source": [
        "### Boolean array indexing\n",
        "\n",
        "- Boolean array indexing lets you pick out arbitrary elements of an array.\n",
        "- Frequently this type of indexing is used to select the elements of an array that satisfy some condition. \n",
        "- Here is an example:"
      ]
    },
    {
      "cell_type": "code",
      "metadata": {
        "id": "TtFpEk1LgZ2o",
        "colab_type": "code",
        "colab": {}
      },
      "source": [
        "import numpy as np\n",
        "\n",
        "a = np.array([[1, 2], [3, 4], [5, 6]])\n",
        "\n",
        "bool_idx = (a > 2) # Find the elements of a that are bigger than 2;\n",
        "                   # this returns a numpy array of Booleans of the same\n",
        "                   # shape as a, where each slot of bool_idx tells\n",
        "                   # whether that element of a is > 2\n",
        "\n",
        "print(bool_idx)    # Prints [[False False]\n",
        "                   #         [ True  True]\n",
        "                   #         [ True  True]]\n",
        "\n",
        "# We use boolean array indexing to construct a rank 1 array\n",
        "# consisting of the elements of a corresponding to the True values\n",
        "# of bool_idx\n",
        "print(a[bool_idx]) # Prints [3 4 5 6]\n",
        "\n",
        "# We can do all of the above in a single concise statement:\n",
        "print(a[a > 2])    # Prints [3 4 5 6]"
      ],
      "execution_count": null,
      "outputs": []
    },
    {
      "cell_type": "markdown",
      "metadata": {
        "id": "AcNEHNACgZ2p",
        "colab_type": "text"
      },
      "source": [
        "- For brevity, we have left out a lot of details about NumPy array indexing; if you want to know more you should read the [NumPy documentation](http://docs.scipy.org/doc/numpy/reference/arrays.indexing.html).\n",
        "\n",
        "## Datatypes\n",
        "\n",
        "- Every NumPy array is a grid of elements of the same type.\n",
        "- NumPy provides a large set of numeric datatypes that you can use to construct arrays.\n",
        "- NumPy tries to guess a datatype when you create an array, but functions that construct arrays usually also include an optional argument to explicitly specify the datatype.\n",
        "- As an example:"
      ]
    },
    {
      "cell_type": "code",
      "metadata": {
        "id": "nvvNPLYvgZ2q",
        "colab_type": "code",
        "colab": {}
      },
      "source": [
        "import numpy as np\n",
        "\n",
        "x = np.array([1, 2])                 # Let numpy choose the datatype\n",
        "print(x.dtype)                       # Prints int64\n",
        "\n",
        "x = np.array([1.0, 2.0])             # Let numpy choose the datatype\n",
        "print(x.dtype)                       # Prints float64\n",
        "\n",
        "x = np.array([1, 2], dtype=np.int64) # Force a particular datatype\n",
        "print(x.dtype)                       # Prints int64"
      ],
      "execution_count": null,
      "outputs": []
    },
    {
      "cell_type": "markdown",
      "metadata": {
        "id": "Wj1eVEUqgZ2v",
        "colab_type": "text"
      },
      "source": [
        "- You can read all about datatypes in the [NumPy documentation](http://docs.scipy.org/doc/numpy/reference/arrays.dtypes.html).\n",
        "\n",
        "## Array math\n",
        "\n",
        "- NumPy provides many functions for manipulating arrays; you can find an exhaustive list in the [NumPy documentation](http://docs.scipy.org/doc/numpy/reference/routines.array-manipulation.html). Some common ones are listed below.\n",
        "\n",
        "### Element-wise operations\n",
        "\n",
        "- Algebraic operations such as `+`, `-`, `*`, `/` etc. are available both as operator overloads and as functions in the NumPy module. These operators carry out **element-wise** operations on NumPy arrays:"
      ]
    },
    {
      "cell_type": "code",
      "metadata": {
        "id": "4Caa7qVSgZ2v",
        "colab_type": "code",
        "colab": {}
      },
      "source": [
        "import numpy as np\n",
        "\n",
        "x = np.array([[1, 2], [3, 4]], dtype=np.float64)\n",
        "y = np.array([[5, 6], [7, 8]], dtype=np.float64)\n",
        "\n",
        "# Elementwise sum; both produce the array\n",
        "# [[ 6.0  8.0]\n",
        "#  [10.0 12.0]]\n",
        "print(x + y)\n",
        "print(np.add(x, y))\n",
        "\n",
        "# Elementwise difference; both produce the array\n",
        "# [[-4.0 -4.0]\n",
        "#  [-4.0 -4.0]]\n",
        "print(x - y)\n",
        "print(np.subtract(x, y))\n",
        "\n",
        "# Elementwise product; both produce the array\n",
        "# [[ 5.0 12.0]\n",
        "#  [21.0 32.0]]\n",
        "print(x * y)\n",
        "print(np.multiply(x, y))\n",
        "\n",
        "# Elementwise division; both produce the array\n",
        "# [[ 0.2         0.33333333]\n",
        "#  [ 0.42857143  0.5       ]]\n",
        "print(x / y)\n",
        "print(np.divide(x, y))\n",
        "\n",
        "# Elementwise square root; produces the array\n",
        "# [[ 1.          1.41421356]\n",
        "#  [ 1.73205081  2.        ]]\n",
        "print(np.sqrt(x))"
      ],
      "execution_count": null,
      "outputs": []
    },
    {
      "cell_type": "markdown",
      "metadata": {
        "id": "3mshhfzugZ2y",
        "colab_type": "text"
      },
      "source": [
        "#### NumPy arrays vs. Python lists\n",
        "\n",
        "- A common mistake is to mix up the concepts of NumPy arrays and Python lists.\n",
        "- Note that the `+` operator in the context of NumPy arrays performs an **element-wise addition**, while the same operation on Python lists results in a **list extension**."
      ]
    },
    {
      "cell_type": "code",
      "metadata": {
        "id": "s_1qUq5pgZ2y",
        "colab_type": "code",
        "colab": {}
      },
      "source": [
        "import numpy as np\n",
        "\n",
        "l = [1, 2, 3]           # Define a python list\n",
        "a = np.array([1, 2, 3]) # Define a numpy array by passing in a list\n",
        "print(a + a)            # Prints [2 4 6]\n",
        "print(l + l)            # Prints [1, 2, 3, 1, 2, 3]"
      ],
      "execution_count": null,
      "outputs": []
    },
    {
      "cell_type": "markdown",
      "metadata": {
        "id": "H4bXeO77gZ24",
        "colab_type": "text"
      },
      "source": [
        "- With NumPy arrays, we can **scale** the vector with `*` by performing **element-wise multiplication**, while the same operation on Python lists results in a **list concatenation** (and in MATLAB, results in **matrix multiplication**).\n",
        "    - We instead use the `dot` function to compute inner products of vectors, to multiply a vector by a matrix, and to multiply matrices. We discuss this in detail in the section on [dot product](#dot-product) below."
      ]
    },
    {
      "cell_type": "code",
      "metadata": {
        "id": "OE77rB8vgZ25",
        "colab_type": "code",
        "colab": {}
      },
      "source": [
        "import numpy as np\n",
        "\n",
        "l = [1, 2, 3]           # Define a python list\n",
        "a = np.array([1, 2, 3]) # Define a numpy array by passing in a list\n",
        "print(a * 3)            # Prints [3 6 9]\n",
        "print(l * 3)            # Prints [1, 2, 3, 1, 2, 3, 1, 2, 3]"
      ],
      "execution_count": null,
      "outputs": []
    },
    {
      "cell_type": "markdown",
      "metadata": {
        "id": "Yw9stuSWgZ29",
        "colab_type": "text"
      },
      "source": [
        "- Make note of this while coding since a function can utilize both Python lists and NumPy arrays. Knowing this can save many headaches!\n",
        "\n",
        "### Scaling and translating arrays\n",
        "\n",
        "- Using regular algebraic operators like `+` and `-` that we saw in the prior section on [element-wise operations](#element-wise-operations), we can scale and translate/shift NumPy arrays.\n",
        "- Operations can be performed between:\n",
        "    - Two NumPy arrays or,\n",
        "    - NumPy arrays and scalars."
      ]
    },
    {
      "cell_type": "code",
      "metadata": {
        "id": "epbIp741gZ29",
        "colab_type": "code",
        "colab": {}
      },
      "source": [
        "import numpy as np\n",
        "\n",
        "a = np.array([[1, 2], [3, 4]]) # Define a 2x2 matrix\n",
        "\n",
        "# Scale by 2 units and translate by 1 unit\n",
        "result = a * 2 + 1             # Multiply each element in the matrix by 2 and add 1\n",
        "print(result)                  # Prints [[3 5]\n",
        "                               #         [7 9]]"
      ],
      "execution_count": null,
      "outputs": []
    },
    {
      "cell_type": "markdown",
      "metadata": {
        "id": "rkavT7eRgZ3A",
        "colab_type": "text"
      },
      "source": [
        "### Norm\n",
        "\n",
        "- NumPy offers a set of algebraic functions in the class **linalg**, which includes the **norm** function:"
      ]
    },
    {
      "cell_type": "code",
      "metadata": {
        "id": "aXW_JuKhgZ3B",
        "colab_type": "code",
        "colab": {}
      },
      "source": [
        "import numpy as np\n",
        "\n",
        "a = np.array([1, 2, 3, 4])     # Define an array\n",
        "norm1 = np.linalg.norm(a)\n",
        "\n",
        "a = np.array([[1, 2], [3, 4]]) # Define a 2x2 matrix\n",
        "norm2 = np.linalg.norm(a) \n",
        "\n",
        "# Both print 5.477225575051661\n",
        "print(norm1)\n",
        "print(norm2)"
      ],
      "execution_count": null,
      "outputs": []
    },
    {
      "cell_type": "markdown",
      "metadata": {
        "id": "XFgdCg4PgZ3E",
        "colab_type": "text"
      },
      "source": [
        "- By default, `np.linalg.norm()` calculates the **Frobenius norm** for matrices and the **2-norm** for vectors, unless the `ord` argument is overridden.\n",
        "    - Recall from linear algebra that the **norm** (or magnitude) of an n-dimensional vector \\\\(v\\\\) is the **square root of the sum of its elements squared**:"
      ]
    },
    {
      "cell_type": "code",
      "metadata": {
        "id": "fkV8boTGgZ3F",
        "colab_type": "code",
        "colab": {}
      },
      "source": [
        "$$\n",
        "norm(\\vec{v})=||\\vec{v}||_{2}=\\sqrt{\\sum_{i=1}^{n} v_{i}^{2}}\n",
        "$$\n",
        "\n",
        "- Also, the **Frobenius norm** is the generalization of the vector norm for matrices, and is defined for a matrix \\\\(A\\\\) as:\n",
        "\n",
        "$$\n",
        "\\|\\mathrm{A}\\|_{F} = \\sqrt{\\sum_{i=1}^{m} \\sum_{j=1}^{n}\\left|a_{i j}\\right|^{2}}\n",
        "$$"
      ],
      "execution_count": null,
      "outputs": []
    },
    {
      "cell_type": "markdown",
      "metadata": {
        "id": "7nVIWuwkgZ3H",
        "colab_type": "text"
      },
      "source": [
        "- The following code snippet compares a manual implementation of the norm vs. the `np.linalg.norm()` function. Both yield the same result."
      ]
    },
    {
      "cell_type": "code",
      "metadata": {
        "id": "1l1hPIpmgZ3I",
        "colab_type": "code",
        "colab": {}
      },
      "source": [
        "import numpy as np\n",
        "\n",
        "a = np.array([[1, 2], [3, 4]]) # Define a 2x2 matrix\n",
        "\n",
        "norm = np.sqrt(np.sum(np.square(a)))\n",
        "\n",
        "# Both should yield the same result and print:\n",
        "# 5.477225575051661 ==  5.477225575051661\n",
        "print(norm, '== ', np.linalg.norm(a))\n",
        "\n",
        "a = np.array([1, 2, 3, 4])     # Define an array\n",
        "\n",
        "norm = np.sqrt(np.sum(np.square(a)))\n",
        "\n",
        "# Both should yield the same result and print:\n",
        "# 5.477225575051661 ==  5.477225575051661\n",
        "print(norm, '== ', np.linalg.norm(a))"
      ],
      "execution_count": null,
      "outputs": []
    },
    {
      "cell_type": "markdown",
      "metadata": {
        "id": "UyiWCHyNgZ3L",
        "colab_type": "text"
      },
      "source": [
        "- Note that if the `axis` argument to `np.linalg.norm()` is not explicitly specified, the function defaults to treating the matrix as a \"flat\" array of numbers implying that it takes every element of the matrix into account. However, it is possible to get the a row-wise or column-wise norm using the `axis` parameter:\n",
        "    - `axis=0` operates across all rows, i.e., gets the norm of each **column**.\n",
        "    - `axis=1` operates across all columns, i.e., gets the norm of each **row**."
      ]
    },
    {
      "cell_type": "code",
      "metadata": {
        "id": "T-4diVqrgZ3L",
        "colab_type": "code",
        "colab": {}
      },
      "source": [
        "import numpy as np\n",
        "\n",
        "a = np.array([[1, 1], [2, 2], [3, 3]]) # Define a 3x2 matrix\n",
        "\n",
        "normByCols = np.linalg.norm(a, axis=0) # Get the norm for each column; returns 2 elements\n",
        "normByRows = np.linalg.norm(a, axis=1) # get the norm for each row; returns 3 elements\n",
        "\n",
        "print(normByCols)                      # [3.74165739 3.74165739]\n",
        "print(normByRows)                      # [1.41421356 2.82842712 4.24264069]"
      ],
      "execution_count": null,
      "outputs": []
    },
    {
      "cell_type": "markdown",
      "metadata": {
        "id": "9gznW5K7gZ3O",
        "colab_type": "text"
      },
      "source": [
        "### Dot product\n",
        "\n",
        "- Dot product is available both as a function in the NumPy module `np.dot()` and as an instance method of array objects `<ndarray>.dot()`:"
      ]
    },
    {
      "cell_type": "code",
      "metadata": {
        "id": "3NMYkTuZgZ3P",
        "colab_type": "code",
        "colab": {}
      },
      "source": [
        "import numpy as np\n",
        "\n",
        "x = np.array([[1, 2], [3, 4]])\n",
        "y = np.array([[5, 6], [7, 8]])\n",
        "\n",
        "v = np.array([9, 10])\n",
        "w = np.array([11, 12])\n",
        "\n",
        "# Dot/scalar/inner product of vectors; both produce a scalar: 219\n",
        "print(v.dot(w))\n",
        "print(np.dot(v, w))\n",
        "\n",
        "# Matrix/vector product; both produce the rank 1 array [29 67]\n",
        "print(x.dot(v))\n",
        "print(np.dot(x, v))\n",
        "\n",
        "# Matrix/matrix product; both produce the rank 2 array\n",
        "# [[19 22]\n",
        "#  [43 50]]\n",
        "print(x.dot(y))\n",
        "print(np.dot(x, y))"
      ],
      "execution_count": null,
      "outputs": []
    },
    {
      "cell_type": "markdown",
      "metadata": {
        "id": "ObN1MNYBgZ3T",
        "colab_type": "text"
      },
      "source": [
        "- Some alternative ways to obtain the dot product:"
      ]
    },
    {
      "cell_type": "code",
      "metadata": {
        "id": "w3toQLQ0gZ3T",
        "colab_type": "code",
        "colab": {}
      },
      "source": [
        "import numpy as np\n",
        "\n",
        "print(np.sum(v * w)) # Using the definition of dot product\n",
        "\n",
        "print(v @ w)         # numpy>=1.10 overloads the new Pythonic operator \"@\" for dot product\n",
        "\n",
        "# Inefficient, unrolled, non-vectorized implementation\n",
        "dotProduct = 0\n",
        "for a, b in zip(v, w):\n",
        "    dotProduct += a * b \n",
        "    \n",
        "print(dotProduct)"
      ],
      "execution_count": null,
      "outputs": []
    },
    {
      "cell_type": "markdown",
      "metadata": {
        "id": "lcmwkwwLgZ3V",
        "colab_type": "text"
      },
      "source": [
        "- `np.dot()` is strongly recommended since it accepts both NumPy arrays and Python lists:"
      ]
    },
    {
      "cell_type": "code",
      "metadata": {
        "id": "r7mp1y1NgZ3W",
        "colab_type": "code",
        "colab": {}
      },
      "source": [
        "import numpy as np\n",
        "\n",
        "n1 = np.dot(np.array([1, 2]), np.array([3, 4])) # Dot product on numpy arrays\n",
        "n2 = np.dot([1, 2], [3, 4])                     # Dot product on python lists\n",
        "\n",
        "# Both print 11\n",
        "print(n1)\n",
        "print(n2)"
      ],
      "execution_count": null,
      "outputs": []
    },
    {
      "cell_type": "markdown",
      "metadata": {
        "id": "nW5khmsqgZ3X",
        "colab_type": "text"
      },
      "source": [
        "## Broadcasting\n",
        "\n",
        "- Broadcasting is a powerful mechanism that allows NumPy to work with arrays of different shapes when performing arithmetic operations. Frequently, we have a smaller array and a\n",
        "larger array, and we want to use the smaller array multiple times to perform some operation on the larger array.\n",
        "- Broadcasting typically makes your code more concise and faster, so you should strive to use it where possible.\n",
        "- The simplest broadcasting example occurs when an array and a scalar value are combined in an operation:"
      ]
    },
    {
      "cell_type": "code",
      "metadata": {
        "id": "YYQo4ilZgZ3X",
        "colab_type": "code",
        "colab": {}
      },
      "source": [
        "import numpy as np\n",
        "\n",
        "a = np.array([1, 2, 3])\n",
        "b = 2\n",
        "print(a * b) # Prints [ 2, 4, 6]\n",
        "\n",
        "# Note that the result is equivalent to the next example where b is an array!\n",
        "a = np.array([1, 2, 3])\n",
        "b = np.array([2, 2, 2])\n",
        "print(a * b) # Prints [ 2, 4, 6]"
      ],
      "execution_count": null,
      "outputs": []
    },
    {
      "cell_type": "markdown",
      "metadata": {
        "id": "0jXQOtlAgZ3b",
        "colab_type": "text"
      },
      "source": [
        "- Consider another example where we'd like to add a constant vector to each row of a matrix. We could do it like this:"
      ]
    },
    {
      "cell_type": "code",
      "metadata": {
        "id": "ayHwXb6LgZ3b",
        "colab_type": "code",
        "colab": {}
      },
      "source": [
        "import numpy as np\n",
        "\n",
        "# We will add the vector v to each row of the matrix x, \n",
        "# storing the result in the matrix y\n",
        "x = np.array([[1, 2, 3], [4, 5, 6], [7, 8, 9], [10, 11, 12]])\n",
        "v = np.array([1, 0, 1])\n",
        "y = np.empty_like(x)   # Define an empty matrix with the same shape as x\n",
        "\n",
        "# Add the vector v to each row of the matrix x with an explicit loop\n",
        "for i in range(4):\n",
        "    y[i, :] = x[i, :] + v\n",
        "\n",
        "# Now y is the following\n",
        "# [[ 2  2  4]\n",
        "#  [ 5  5  7]\n",
        "#  [ 8  8 10]\n",
        "#  [11 11 13]]\n",
        "print(y)"
      ],
      "execution_count": null,
      "outputs": []
    },
    {
      "cell_type": "markdown",
      "metadata": {
        "id": "9IYOvOkmgZ3e",
        "colab_type": "text"
      },
      "source": [
        "- This works; however when the matrix `x` is very large, computing an explicit loop in Python could be slow. \n",
        "- Note that adding the vector `v` to each row of the matrix `x` is equivalent to forming a matrix `vv` by stacking multiple copies of `v` vertically, then performing element-wise summation of `x` and `vv`. We could implement this approach like this:"
      ]
    },
    {
      "cell_type": "code",
      "metadata": {
        "id": "Q9pG6fh-gZ3e",
        "colab_type": "code",
        "colab": {}
      },
      "source": [
        "import numpy as np\n",
        "\n",
        "# We will add the vector v to each row of the matrix x,\n",
        "# storing the result in the matrix y\n",
        "x = np.array([[1, 2, 3], [4, 5, 6], [7, 8, 9], [10, 11, 12]])\n",
        "v = np.array([1, 0, 1])\n",
        "vv = np.tile(v, (4, 1)) # Stack 4 copies of v on top of each other\n",
        "print(vv)               # Prints [[1 0 1]\n",
        "                        #         [1 0 1]\n",
        "                        #         [1 0 1]\n",
        "                        #         [1 0 1]]\n",
        "y = x + vv              # Add x and vv element-wise\n",
        "print(y)                # Prints [[ 2  2  4\n",
        "                        #         [ 5  5  7]\n",
        "                        #         [ 8  8 10]\n",
        "                        #         [11 11 13]]"
      ],
      "execution_count": null,
      "outputs": []
    },
    {
      "cell_type": "markdown",
      "metadata": {
        "id": "wjpb5eI_gZ3h",
        "colab_type": "text"
      },
      "source": [
        "- NumPy broadcasting allows us to perform this computation without actually creating multiple copies of `v`. Consider this version, using broadcasting:"
      ]
    },
    {
      "cell_type": "code",
      "metadata": {
        "id": "d4tSjGWsgZ3h",
        "colab_type": "code",
        "colab": {}
      },
      "source": [
        "import numpy as np\n",
        "\n",
        "# We will add the vector v to each row of the matrix x,\n",
        "# storing the result in the matrix y\n",
        "x = np.array([[1, 2, 3], [4, 5, 6], [7, 8, 9], [10, 11, 12]])\n",
        "v = np.array([1, 0, 1])\n",
        "y = x + v # Add v to each row of x using broadcasting\n",
        "print(y)  # Prints [[ 2  2  4]\n",
        "          #         [ 5  5  7]\n",
        "          #         [ 8  8 10]\n",
        "          #         [11 11 13]]"
      ],
      "execution_count": null,
      "outputs": []
    },
    {
      "cell_type": "markdown",
      "metadata": {
        "id": "tP0iKUr1gZ3k",
        "colab_type": "text"
      },
      "source": [
        "- The line `y = x + v` works even though `x` has shape `(4, 3)` and `v` has shape `(3,)` due to broadcasting; this line works as if `v` actually had shape `(4, 3)`, where each row was a copy of `v`, and the sum was performed element-wise.\n",
        "\n",
        "### Rules\n",
        "\n",
        "- Broadcasting two arrays together follows these rules:\n",
        "    - If the arrays **do not** have the **same rank**, prepend the shape of the lower rank array with ones until both shapes have the same length. \n",
        "        - This implies that the arrays do not need to have the same number of dimensions.\n",
        "    - If the arrays have the **same rank**, NumPy compares their shapes element-wise. It starts with the **trailing dimensions** and works its way forward, checking if the arrays are **compatible** in every dimension, as follows:\n",
        "        - The two arrays are said to be compatible in a dimension if: \n",
        "            - They have the **same size** in the dimension or,\n",
        "            - One of the arrays has **size \\\\(1\\\\)** in that dimension.\n",
        "        - The arrays can only be broadcast together if they are compatible in all dimensions.\n",
        "        - When either of the dimensions belonging to both arrays being compared is \\\\(1\\\\), the **other** is used. In other words, dimensions with size \\\\(1\\\\) are **stretched or “copied”** to match the other. This is the **primary broadcasting** step.\n",
        "        - After broadcasting, each array behaves as if it its shape is now equal to the element-wise maximum of shapes of the two input arrays.    \n",
        "- Functions that support broadcasting are known as **universal functions**. You can find an exhaustive list of universal functions in the [NumPy documentation](http://docs.scipy.org/doc/numpy/reference/ufuncs.html#available-ufuncs).\n",
        "\n",
        "### Examples\n",
        "\n",
        "- Examples from [NumPy's documentation on Broadcasting](https://numpy.org/doc/stable/user/basics.broadcasting.html):"
      ]
    },
    {
      "cell_type": "code",
      "metadata": {
        "id": "r29Qhh8zgZ3k",
        "colab_type": "code",
        "colab": {}
      },
      "source": [
        "1. **Either array has axes with length 1**: In the following example, array \\\\(B\\\\) has an axis with length \\\\(1\\\\).\n",
        "    - To tackle an axis with length \\\\(1\\\\) during broadcasting, we simply expand that dimension to match the other array's.\n",
        "\n",
        "    ```\n",
        "    A      (3d array):  15 x 3 x 5\n",
        "    B      (3d array):  15 x 1 x 5\n",
        "    Result (3d array):  15 x 3 x 5\n",
        "    ```\n",
        "\n",
        "1. **Both arrays have axes with length 1**: In the following example, arrays \\\\(A\\\\) and \\\\(B\\\\) both have axes with length \\\\(1\\\\).\n",
        "    - Extrapolating the case above, to tackle an axis with length \\\\(1\\\\) in either array during broadcasting, we simply expand that dimension to match the other array's.\n",
        "\n",
        "    ```\n",
        "    A      (4d array):  8 x 1 x 6 x 1\n",
        "    B      (3d array):      7 x 1 x 5\n",
        "    Result (4d array):  8 x 7 x 6 x 5\n",
        "    ```\n",
        "\n",
        "1. **Rank mismatch**: In the following example, arrays \\\\(A\\\\) and \\\\(B\\\\) do not have the same rank.\n",
        "    - Recall that to tackle rank mismatch during broadcasting, we prepend the shape of the lower rank array with ones until both shapes have the same length.    \n",
        "\n",
        "    ```\n",
        "    A      (2d array):  5 x 4\n",
        "    B      (1d array):      4\n",
        "    Result (2d array):  5 x 4\n",
        "    ```\n",
        "\n",
        "    ```\n",
        "    A      (3d array):  15 x 3 x 5\n",
        "    B      (2d array):       3 x 5\n",
        "    Result (3d array):  15 x 3 x 5\n",
        "    ```\n",
        "\n",
        "    ```\n",
        "    A      (3d array): 256 x 256 x 3\n",
        "    B      (1d array):             3\n",
        "    Result (3d array): 256 x 256 x 3\n",
        "    ```        \n",
        "\n",
        "1. **Rank mismatch and axes with length 1**: In the following example, arrays \\\\(A\\\\) and \\\\(B\\\\) do not have the same rank and \\\\(B\\\\) has an axis of length \\\\(1\\\\).\n",
        "    - Tackling rank mismatch was discussed in example \\\\(3\\\\). Also, handling an axis with length \\\\(1\\\\) was discussed in example \\\\(1\\\\).\n",
        "\n",
        "    ```\n",
        "    A      (2d array):  5 x 4\n",
        "    B      (1d array):      1\n",
        "    Result (2d array):  5 x 4\n",
        "    ```\n",
        "\n",
        "    ```\n",
        "    A      (3d array):  15 x 3 x 5\n",
        "    B      (2d array):       3 x 1\n",
        "    Result (3d array):  15 x 3 x 5\n",
        "    ```"
      ],
      "execution_count": null,
      "outputs": []
    },
    {
      "cell_type": "markdown",
      "metadata": {
        "id": "gnnnmJQlgZ3n",
        "colab_type": "text"
      },
      "source": [
        "- Some examples that **do not broadcast**:"
      ]
    },
    {
      "cell_type": "code",
      "metadata": {
        "id": "UuEOPL8mgZ3o",
        "colab_type": "code",
        "colab": {}
      },
      "source": [
        "1. **Dimension mismatch**: In the following example, arrays \\\\(A\\\\) and \\\\(B\\\\) are not compatible in each dimension and thus, cannot be broadcasted.\n",
        "    - Recall that the two arrays need to be **compatible** in each dimension (starting from the trailing dimension) for broadcasting to be defined. \n",
        "\n",
        "    ```\n",
        "    A      (1d array):  3\n",
        "    B      (1d array):  4         # Trailing dimensions do not match\n",
        "    ```\n",
        "\n",
        "    ```\n",
        "    A      (2d array):      2 x 1\n",
        "    B      (3d array):  8 x 4 x 3 # Second from last dimensions mismatched\n",
        "    ```    "
      ],
      "execution_count": null,
      "outputs": []
    },
    {
      "cell_type": "markdown",
      "metadata": {
        "id": "EmKBateWgZ3t",
        "colab_type": "text"
      },
      "source": [
        "- Broadcasting examples in code:"
      ]
    },
    {
      "cell_type": "code",
      "metadata": {
        "id": "Cqt7uPTmgZ3t",
        "colab_type": "code",
        "colab": {}
      },
      "source": [
        "import numpy as np\n",
        "\n",
        "# Compute outer product of vectors\n",
        "v = np.array([1, 2, 3]) # v has shape (3,)\n",
        "w = np.array([4, 5])    # w has shape (2,)\n",
        "# To compute an outer product, we first reshape v to be a column\n",
        "# vector of shape (3, 1); we can then broadcast it against w to yield\n",
        "# an output of shape (3, 2), which is the outer product of v and w:\n",
        "# [[ 4  5]\n",
        "#  [ 8 10]\n",
        "#  [12 15]]\n",
        "print(np.reshape(v, (3, 1)) * w)\n",
        "# Note that np.reshape() is described in detail in the section on \"reshape\" below.\n",
        "\n",
        "# Add a vector to each row of a matrix\n",
        "x = np.array([[1, 2, 3], [4, 5, 6]])\n",
        "# x has shape (2, 3) and v has shape (3,) so they broadcast to (2, 3),\n",
        "# giving the following matrix:\n",
        "# [[2 4 6]\n",
        "#  [5 7 9]]\n",
        "print(x + v)\n",
        "\n",
        "# Add a vector to each column of a matrix\n",
        "# x has shape (2, 3) and w has shape (2,)\n",
        "# If we transpose x then it has shape (3, 2) and can be broadcast\n",
        "# against w to yield a result of shape (3, 2); transposing this result\n",
        "# yields the final result of shape (2, 3) which is the matrix x with\n",
        "# the vector w added to each column. Gives the following matrix:\n",
        "# [[ 5  6  7]\n",
        "#  [ 9 10 11]]\n",
        "print((x.T + w).T)\n",
        "# Another solution is to reshape w to be a column vector of shape (2, 1);\n",
        "# we can then broadcast it directly against x to produce the same\n",
        "# output.\n",
        "print(x + np.reshape(w, (2, 1)))\n",
        "\n",
        "# Multiply a matrix by a constant:\n",
        "# x has shape (2, 3). NumPy treats scalars as arrays of shape ();\n",
        "# these can be broadcast together to shape (2, 3), producing the\n",
        "# following array:\n",
        "# [[ 2  4  6]\n",
        "#  [ 8 10 12]]\n",
        "print(x * 2)"
      ],
      "execution_count": null,
      "outputs": []
    },
    {
      "cell_type": "markdown",
      "metadata": {
        "id": "Tt4Myh0UgZ3w",
        "colab_type": "text"
      },
      "source": [
        "## Data centering\n",
        "\n",
        "- In some scenarios, centering the elements of a dataset is an important preprocessing step. Centering a dataset involves **subtracting the mean from the data**. The resultant data is called zero-centered, since the mean of the resultant dataset is \\\\(0\\\\).\n",
        "\n",
        "### Column-centering\n",
        "\n",
        "- Column-centering a matrix involves subtracting the column mean from each element within a particular column. Note that the sum by columns of a centered matrix is always \\\\(0\\\\)."
      ]
    },
    {
      "cell_type": "code",
      "metadata": {
        "id": "5bCgFOpCgZ3w",
        "colab_type": "code",
        "colab": {}
      },
      "source": [
        "import numpy as np\n",
        "\n",
        "a = np.array([[1, 1], [2, 2], [3, 3]]) # Define a 3x2 matrix. \n",
        "\n",
        "centered = a - np.mean(a, axis=0)      # Remove the mean for each column\n",
        "\n",
        "# Column-centered matrix\n",
        "print(centered)                        # Prints [[-1. -1.]\n",
        "                                       #         [ 0.  0.]\n",
        "                                       #         [ 1.  1.]]\n",
        "\n",
        "# New mean-by-column should be 0\n",
        "print(centered.mean(axis=0))           # Prints [0. 0.]"
      ],
      "execution_count": null,
      "outputs": []
    },
    {
      "cell_type": "markdown",
      "metadata": {
        "id": "Fql0jz2ngZ3y",
        "colab_type": "text"
      },
      "source": [
        "### Row-centering\n",
        "\n",
        "- For row centering, transpose the matrix, center by columns, and then transpose back the result."
      ]
    },
    {
      "cell_type": "code",
      "metadata": {
        "id": "Ib0uBLlDgZ3z",
        "colab_type": "code",
        "colab": {}
      },
      "source": [
        "import numpy as np\n",
        "\n",
        "a = np.array([[1, 3], [2, 4], [3, 5]]) # Define a 3x2 matrix. \n",
        "\n",
        "centered = a.T - np.mean(a, axis=1)    # Remove the mean for each row\n",
        "centered = centered.T                  # Transpose back the result\n",
        "\n",
        "# Row-centered matrix\n",
        "print(centered)                        # Prints [[-1.  1.]\n",
        "                                       #         [-1.  1.]\n",
        "                                       #         [-1.  1.]]\n",
        "\n",
        "# New mean-by-rows should be 0\n",
        "print(centered.mean(axis=1))           # Prints [0. 0. 0.]"
      ],
      "execution_count": null,
      "outputs": []
    },
    {
      "cell_type": "markdown",
      "metadata": {
        "id": "QrEm80-mgZ31",
        "colab_type": "text"
      },
      "source": [
        "## Selected functions\n",
        "\n",
        "- NumPy provides a host of useful functions for performing computations on arrays. Below, we've touched upon some of the most useful ones that you'll encounter regularly in projects.\n",
        "- You can find an exhaustive list of mathematical functions in the [NumPy documentation](http://docs.scipy.org/doc/numpy/reference/routines.math.html).\n",
        "- As discussed in the section on [norm](#norm), most of these functions accept an `axis` parameter which when specified, performs the operation on a per-column (`axis=0`) or per-row basis (`axis=1`) rather than on the entire array.\n",
        "\n",
        "### Initialization\n",
        "\n",
        "#### Standard normal \n",
        "\n",
        "- Return samples from the standard normal (a.k.a. standard Gaussian) distribution.\n",
        "- Note that `np.random.randn()` is a convenience function for users porting code from Matlab, and wraps `np.random.standard_normal()`. As such, `np.random.randn()` takes **individual dimensions as ints**.\n",
        "    - On the other hand, `np.random.standard_normal()` takes a `shape` argument as a **tuple** to specify the size of the output, which is consistent with other NumPy functions like `np.zeros()` and `np.ones()`."
      ]
    },
    {
      "cell_type": "code",
      "metadata": {
        "id": "8IsqnRMKgZ32",
        "colab_type": "code",
        "colab": {}
      },
      "source": [
        "import numpy as np\n",
        "\n",
        "a = np.random.randn(2, 2)           # Sample a 2x2 matrix from the standard normal distribution\n",
        "print(a)                            # Prints a 2x2 matrix of random values "
      ],
      "execution_count": null,
      "outputs": []
    },
    {
      "cell_type": "markdown",
      "metadata": {
        "id": "Vf7e-oLagZ3-",
        "colab_type": "text"
      },
      "source": [
        "- To sample the normal distribution \\\\(a \\sim N(\\mu, \\sigma^2)\\\\), multiply the output of `np.random.randn()` by \\\\(\\sigma\\\\) and add \\\\(\\mu\\\\), i.e., `stddev * np.random.randn(...) + mean}`"
      ]
    },
    {
      "cell_type": "code",
      "metadata": {
        "id": "wrxHMw1vgZ3_",
        "colab_type": "code",
        "colab": {}
      },
      "source": [
        "import numpy as np\n",
        "\n",
        "a = 2.5 * np.random.randn(2, 2) + 3 # Sample 2x2 matrix from N(mean=3, var=6.25)\n",
        "                                    # General form: stddev * np.random.randn(...) + mean\n",
        "print(a)                            # Prints a 2x2 matrix of random values "
      ],
      "execution_count": null,
      "outputs": []
    },
    {
      "cell_type": "markdown",
      "metadata": {
        "id": "oEVnie1egZ4A",
        "colab_type": "text"
      },
      "source": [
        "#### Uniform\n",
        "\n",
        "- Samples random floats from a continuous uniform distribution, i.e., from the half-open interval \\\\([0.0, 1.0)\\\\)."
      ]
    },
    {
      "cell_type": "code",
      "metadata": {
        "id": "0y7zOLrHgZ4B",
        "colab_type": "code",
        "colab": {}
      },
      "source": [
        "import numpy as np\n",
        "\n",
        "a = np.random.random((2, 2)) # Define a 2x2 matrix from the uniform distribution [0, 1)\n",
        "print(a)                     # Prints a 2x2 matrix of random values "
      ],
      "execution_count": null,
      "outputs": []
    },
    {
      "cell_type": "markdown",
      "metadata": {
        "id": "ztEVK8hbgZ4E",
        "colab_type": "text"
      },
      "source": [
        "- To sample the uniform distribution \\\\(a \\sim Unif[x, y)\\\\), given \\\\(y > x\\\\), multiply the output of `np.random.random_sample()` by \\\\((y-x)\\\\) and add \\\\(x\\\\), i.e., `(y - x) * np.random.random_sample(...) + x`"
      ]
    },
    {
      "cell_type": "code",
      "metadata": {
        "id": "FsKHta_YgZ4F",
        "colab_type": "code",
        "colab": {}
      },
      "source": [
        "import numpy as np\n",
        "\n",
        "a = 5 * np.random.random_sample((2, 2)) - 5 # Sample 2x2 matrix from Unif[-5, 0)\n",
        "                                            # Sample from Unif[x, y), y > x: (y - x) * np.random.random_sample() + x\n",
        "print(a)                                    # Prints a 2x2 matrix of random values "
      ],
      "execution_count": null,
      "outputs": []
    },
    {
      "cell_type": "markdown",
      "metadata": {
        "id": "6pddY-9YgZ4I",
        "colab_type": "text"
      },
      "source": [
        "### Random choice\n",
        "\n",
        "- Generates a random sample from a given 1D array. The main arguments to `np.random.choice()` are `a` and `size`.\n",
        "    - `a` can be an ndarray, in which case a random sample is returned from its elements. If it's an int, the random sample is generated as if `a` were `np.arange(a)`.\n",
        "    - `size` is an optional argument that can hold an int or a tuple of ints. If it is not overriden, a single value is returned by default."
      ]
    },
    {
      "cell_type": "code",
      "metadata": {
        "id": "WXjJVjYDgZ4I",
        "colab_type": "code",
        "colab": {}
      },
      "source": [
        "import numpy as np\n",
        "\n",
        "# Generate a uniform random sample from np.arange(5) of size 3\n",
        "# This is equivalent to np.random.randint(0,5,3)\n",
        "print(np.random.choice(5, 3))                          # Prints [0 3 4]\n",
        "\n",
        "# Generate a non-uniform random sample from np.arange(5) of size 3\n",
        "print(np.random.choice(5, 3, p=[0.1, 0, 0.3, 0.6, 0])) # Prints [3 3 0]\n",
        "\n",
        "# Generate a uniform random sample from np.arange(5) of size 3 without replacement\n",
        "print(np.random.choice(5, 3, replace=False))           # Prints [4 1 3]"
      ],
      "execution_count": null,
      "outputs": []
    },
    {
      "cell_type": "markdown",
      "metadata": {
        "id": "19UVNUS7gZ4K",
        "colab_type": "text"
      },
      "source": [
        "### Arange\n",
        "\n",
        "- Return evenly spaced values within the half-open interval \\\\([start, stop)\\\\) (in other words, the interval including start but excluding stop). \n",
        "- For integer arguments the function is equivalent to the Python built-in range function, but returns an ndarray rather than a list."
      ]
    },
    {
      "cell_type": "code",
      "metadata": {
        "id": "qm9qGm-JgZ4K",
        "colab_type": "code",
        "colab": {}
      },
      "source": [
        "import numpy as np\n",
        "\n",
        "print(np.arange(8))       # Prints [0 1 2 3 4 5 6 7]\n",
        "print(np.arange(3, 8))    # Prints [3 4 5 6 7]\n",
        "print(np.arange(3, 8, 2)) # Prints [3 5 7]"
      ],
      "execution_count": null,
      "outputs": []
    },
    {
      "cell_type": "markdown",
      "metadata": {
        "id": "IYoGF5_GgZ4M",
        "colab_type": "text"
      },
      "source": [
        "- When using a non-integer step, such as \\\\(0.1\\\\), the results will often not be consistent. It is better to use `np.linspace()` for those cases as below.\n",
        "\n",
        "### Linspace\n",
        "\n",
        "- Return evenly spaced numbers over a specified interval.\n",
        "- Returns \\\\(50\\\\) evenly spaced samples (which can be overriden by `num`), calculated over the interval \\\\([start, stop]\\\\)."
      ]
    },
    {
      "cell_type": "code",
      "metadata": {
        "id": "P8OoASIPgZ4N",
        "colab_type": "code",
        "colab": {}
      },
      "source": [
        "import numpy as np\n",
        "\n",
        "print(np.linspace(2.0, 3.0, num=5))                 # Prints [2.   2.25 2.5  2.75 3.  ]\n",
        "print(np.linspace(2.0, 3.0, num=5, endpoint=False)) # Prints [2.   2.2  2.4  2.6  2.8]"
      ],
      "execution_count": null,
      "outputs": []
    },
    {
      "cell_type": "markdown",
      "metadata": {
        "id": "m8idaR-AgZ4P",
        "colab_type": "text"
      },
      "source": [
        "### Reshape\n",
        "\n",
        "- Gives a new shape to an array without changing its data.\n",
        "- Note that `np.reshape()` returns a **view** of the array when the elements are contiguous in memory (just like [`np.ravel()`](#ravel)). So modifying the result of `np.reshape()` would also modify the original array. However, `np.reshape()` returns a copy if, for e.g., the input array were made from slicing another array using a **non-unit** step size (e.g. `a = x[::2]`)."
      ]
    },
    {
      "cell_type": "code",
      "metadata": {
        "id": "eDI9jCq_gZ4P",
        "colab_type": "code",
        "colab": {}
      },
      "source": [
        "import numpy as np\n",
        "\n",
        "a = np.array([[1, 2, 3], [4, 5, 6]])\n",
        "\n",
        "print(np.reshape(a, (3, 2)) # Prints [[1 2]\n",
        "                            #         [3 4]\n",
        "                            #         [5 6]]\n",
        "\n",
        "print(np.reshape(a, 6))     # Prints [1  2  3  4  5  6]"
      ],
      "execution_count": null,
      "outputs": []
    },
    {
      "cell_type": "markdown",
      "metadata": {
        "id": "jsd_Wv6dgZ4X",
        "colab_type": "text"
      },
      "source": [
        "#### -1 in Reshape\n",
        "\n",
        "- NumPy allows us to assign **one** (and only one) value of the shape argument to a function as \\\\(-1\\\\). NumPy figures out the unknown dimension by looking at the length of the array and the remaining dimensions, while making sure it satisfies the criterion that **the new shape should be compatible with the original shape**."
      ]
    },
    {
      "cell_type": "code",
      "metadata": {
        "id": "KBrmmbWOgZ4Y",
        "colab_type": "code",
        "colab": {}
      },
      "source": [
        "import numpy as np\n",
        "\n",
        "a = np.array([[1, 2, 3, 4], [5, 6, 7, 8], [9, 10, 11, 12]])\n",
        "print(a.shape)   # Prints (3, 4)\n",
        "\n",
        "# Reshaping with *just* (-1) leads to array flattening. \n",
        "# Yields new shape as (12,), a rank 1 array which is compatible with original shape (3, 4)\n",
        "print(a.reshape(-1))    # Prints [ 1  2  3  4  5  6  7  8  9 10 11 12]\n",
        "# Note that np.reshape(-1) returns the same result as np.flatten()\n",
        "# with the exception that np.flatten() returns a copy while reshape() returns a view of the original array.\n",
        "# For more on np.flatten(), refer the section on \"flatten\" below.\n",
        "\n",
        "# Transform a matrix to a row vector by reshaping with (1, -1), i.e., 1 row and 3*4 number of columns.\n",
        "# Yields new shape as (1, 12), a rank 2 array which is compatible with original shape (3, 4)\n",
        "print(a.reshape(1, -1)) # Prints [[ 1  2  3  4  5  6  7  8  9 10 11 12]]\n",
        "\n",
        "# Transform a matrix to a column vector by reshaping with (-1, 1), i.e., 3*4 number of rows and 1 column.\n",
        "# Yields new shape as (12, 1), a rank 2 array which is compatible with original shape (3, 4)\n",
        "print(a.reshape(-1, 1)) # Prints [[ 1],\n",
        "                        #         [ 2],\n",
        "                        #         [ 3],\n",
        "                        #         [ 4],\n",
        "                        #         [ 5],\n",
        "                        #         [ 6],\n",
        "                        #         [ 7],\n",
        "                        #         [ 8],\n",
        "                        #         [ 9],\n",
        "                        #         [10],\n",
        "                        #         [11],\n",
        "                        #         [12]]"
      ],
      "execution_count": null,
      "outputs": []
    },
    {
      "cell_type": "markdown",
      "metadata": {
        "id": "NDDwokuEgZ4a",
        "colab_type": "text"
      },
      "source": [
        "### Flatten\n",
        "\n",
        "- Return a **copy** of the array collapsed into one dimension."
      ]
    },
    {
      "cell_type": "code",
      "metadata": {
        "id": "wn5lvjXngZ4b",
        "colab_type": "code",
        "colab": {}
      },
      "source": [
        "import numpy as np\n",
        "\n",
        "a = np.array([[1, 2, 3], [4, 5, 6]])\n",
        "print(a.flatten()) # Prints [1, 2, 3, 4, 5, 6]"
      ],
      "execution_count": null,
      "outputs": []
    },
    {
      "cell_type": "markdown",
      "metadata": {
        "id": "_BhrkcmBgZ4c",
        "colab_type": "text"
      },
      "source": [
        "### Squeeze\n",
        "\n",
        "- Remove single-dimensional entries from the shape of an array."
      ]
    },
    {
      "cell_type": "code",
      "metadata": {
        "id": "9kSxDfiBgZ4c",
        "colab_type": "code",
        "colab": {}
      },
      "source": [
        "import numpy as np\n",
        "\n",
        "a = np.array([[[0], [1], [2]]])\n",
        "\n",
        "print(a.shape)             # Prints (1, 3, 1)\n",
        "print(np.squeeze(a))       # Prints [0 1 2]\n",
        "print(np.squeeze(a).shape) # Prints (3,)"
      ],
      "execution_count": null,
      "outputs": []
    },
    {
      "cell_type": "markdown",
      "metadata": {
        "id": "5YW2eyefgZ4f",
        "colab_type": "text"
      },
      "source": [
        "### Copy\n",
        "\n",
        "- Return an array copy of the given object."
      ]
    },
    {
      "cell_type": "code",
      "metadata": {
        "id": "wLfr2yuSgZ4f",
        "colab_type": "code",
        "colab": {}
      },
      "source": [
        "import numpy as np\n",
        "\n",
        "a = np.array([[1, 2], [3, 4]])\n",
        "b = a\n",
        "c = np.copy(a)\n",
        "\n",
        "a[0] = 10\n",
        "\n",
        "print(a)     # Prints [[10 10]\n",
        "             #         [ 3  4]]\n",
        "\n",
        "a[0] == b[0] # Prints True\n",
        "a[0] == c[0] # Prints False"
      ],
      "execution_count": null,
      "outputs": []
    },
    {
      "cell_type": "markdown",
      "metadata": {
        "id": "cXy0HndZgZ4m",
        "colab_type": "text"
      },
      "source": [
        "- Note that `np.copy()` performs a shallow copy and will **not** copy object elements within arrays. This is mainly important for arrays containing Python objects.\n",
        "\n",
        "### Transpose\n",
        "\n",
        "- To transpose a 2D array (matrix), i.e., **swap rows and columns**, simply use the `T` attribute of an array object. Note that `np.transpose()` and `<ndarray>.transpose()` also yields the same result."
      ]
    },
    {
      "cell_type": "code",
      "metadata": {
        "id": "DfT2A0MsgZ4n",
        "colab_type": "code",
        "colab": {}
      },
      "source": [
        "import numpy as np\n",
        "\n",
        "x = np.array([[1, 2], [3, 4]])\n",
        "print(x)               # Prints [[1 2]\n",
        "                       #         [3 4]]\n",
        "print(x.T)             # Prints [[1 3]\n",
        "                       #         [2 4]]\n",
        "print(np.transpose(v)) # Prints [[1 3]\n",
        "                       #         [2 4]]            \n",
        "\n",
        "# Note that taking the transpose of a rank 1 array does nothing:\n",
        "v = np.array([1, 2, 3])\n",
        "print(v)   # Prints [1 2 3]\n",
        "print(v.T) # Prints [1 2 3]"
      ],
      "execution_count": null,
      "outputs": []
    },
    {
      "cell_type": "markdown",
      "metadata": {
        "id": "YH_kCpW1gZ4o",
        "colab_type": "text"
      },
      "source": [
        "- With `np.transpose()`, you can not only transpose a matrix but also **rearrange the axes** of a multidimensional array in any order."
      ]
    },
    {
      "cell_type": "code",
      "metadata": {
        "id": "nqNUnZkegZ4o",
        "colab_type": "code",
        "colab": {}
      },
      "source": [
        "import numpy as np\n",
        "\n",
        "a = np.ones((1, 2, 3))\n",
        "print(a.shape)                          # Prints (1, 2, 3)\n",
        "print(np.transpose(a, (1, 0, 2)).shape) # Prints (2, 1, 3)"
      ],
      "execution_count": null,
      "outputs": []
    },
    {
      "cell_type": "markdown",
      "metadata": {
        "id": "PhmrUk3wgZ4x",
        "colab_type": "text"
      },
      "source": [
        "### Element-wise sign\n",
        "\n",
        "- Returns an element-wise sign of an array's elements."
      ]
    },
    {
      "cell_type": "code",
      "metadata": {
        "id": "HIA93yuwgZ4y",
        "colab_type": "code",
        "colab": {}
      },
      "source": [
        "import numpy as np\n",
        "\n",
        "a = np.array([[1, 2], [-3, -4]])\n",
        "\n",
        "print(np.sign(a)) # Prints [[ 1  1]\n",
        "                  #         [-1 -1]]"
      ],
      "execution_count": null,
      "outputs": []
    },
    {
      "cell_type": "markdown",
      "metadata": {
        "id": "1oMtxMctgZ40",
        "colab_type": "text"
      },
      "source": [
        "### Sum\n",
        "\n",
        "- Sum of an array's elements."
      ]
    },
    {
      "cell_type": "code",
      "metadata": {
        "id": "ovUfDTStgZ40",
        "colab_type": "code",
        "colab": {}
      },
      "source": [
        "import numpy as np\n",
        "\n",
        "a = np.array([[1, 2], [3, 4]])\n",
        "\n",
        "# Compute sum of all elements\n",
        "print(np.sum(a))         # Prints 10\n",
        "\n",
        "# Compute sum of each column\n",
        "print(np.sum(a, axis=0)) # Prints [4 6]\n",
        "\n",
        "# Compute sum of each row\n",
        "print(np.sum(a, axis=1)) # Prints [3 7]"
      ],
      "execution_count": null,
      "outputs": []
    },
    {
      "cell_type": "markdown",
      "metadata": {
        "id": "9smKOfaqgZ41",
        "colab_type": "text"
      },
      "source": [
        "### Average/Mean\n",
        "\n",
        "- Recall that the mean is the sum of the elements divided by the length of the vector."
      ]
    },
    {
      "cell_type": "code",
      "metadata": {
        "id": "FxIiV8g9gZ42",
        "colab_type": "code",
        "colab": {}
      },
      "source": [
        "import numpy as np\n",
        "\n",
        "a = np.array([[1, -1], [2, -2], [3, -3]]) # Define a 3x2 matrix. Chosen to be a matrix with 0 mean.\n",
        "\n",
        "# Get the mean for the whole matrix\n",
        "print(np.mean(a)) # Prints 0.0\n",
        "\n",
        "# Get the mean for each column. Returns 2 elements.\n",
        "print(a, axis=0)  # Prints [ 2. -2.]\n",
        "\n",
        "# Get the mean for each row. Returns 3 elements.\n",
        "print(a, axis=1)  # Prints [0. 0. 0.]"
      ],
      "execution_count": null,
      "outputs": []
    },
    {
      "cell_type": "markdown",
      "metadata": {
        "id": "G04_Hp53gZ43",
        "colab_type": "text"
      },
      "source": [
        "### Product\n",
        "\n",
        "- Return the product of array elements over a given axis."
      ]
    },
    {
      "cell_type": "code",
      "metadata": {
        "id": "2ERxpZi7gZ44",
        "colab_type": "code",
        "colab": {}
      },
      "source": [
        "import numpy as np\n",
        "\n",
        "a = np.array([[1, 2], [3, 4]])\n",
        "\n",
        "print(np.prod(a)) # Prints 24"
      ],
      "execution_count": null,
      "outputs": []
    },
    {
      "cell_type": "markdown",
      "metadata": {
        "id": "rvQwSh6hgZ45",
        "colab_type": "text"
      },
      "source": [
        "### Max\n",
        "\n",
        "- Return the maximum element of an array or maximum along an axis."
      ]
    },
    {
      "cell_type": "code",
      "metadata": {
        "id": "vbQhTJChgZ45",
        "colab_type": "code",
        "colab": {}
      },
      "source": [
        "import numpy as np\n",
        "\n",
        "a = np.array([[1, 2, 3], [4, 5, 6]])\n",
        "\n",
        "print(np.max(a)) # Prints 6"
      ],
      "execution_count": null,
      "outputs": []
    },
    {
      "cell_type": "markdown",
      "metadata": {
        "id": "bPpk7HfogZ46",
        "colab_type": "text"
      },
      "source": [
        "### Element-wise max\n",
        "\n",
        "- Compare two compatible arrays and return their element-wise maximum. Here, 'compatible' means that one array can be broadcast to the other."
      ]
    },
    {
      "cell_type": "code",
      "metadata": {
        "id": "lAGhvqZmgZ46",
        "colab_type": "code",
        "colab": {}
      },
      "source": [
        "import numpy as np\n",
        "\n",
        "a = np.array([[1, 2, 3], [4, 5, 6]])\n",
        "b = np.array([[7, 8, 9], [-2, -1, 0]])\n",
        "\n",
        "print(np.maximum(a, b)) # Prints [[7 8 9]\n",
        "                        #         [4 5 6]]"
      ],
      "execution_count": null,
      "outputs": []
    },
    {
      "cell_type": "markdown",
      "metadata": {
        "id": "VSshuwXMgZ48",
        "colab_type": "text"
      },
      "source": [
        "### Argmax\n",
        "\n",
        "- Return the indices of the maximum values along an axis."
      ]
    },
    {
      "cell_type": "code",
      "metadata": {
        "id": "49-9Wb5JgZ48",
        "colab_type": "code",
        "colab": {}
      },
      "source": [
        "import numpy as np\n",
        "\n",
        "a = np.array([[1, 2, 3], [4, 5, 6]])\n",
        "\n",
        "print(np.argmax(a))         # Prints 5\n",
        "print(np.argmax(a, axis=0)) # Prints [1 1 1]\n",
        "print(np.argmax(a, axis=1)) # Prints [2 2]"
      ],
      "execution_count": null,
      "outputs": []
    },
    {
      "cell_type": "markdown",
      "metadata": {
        "id": "36LUVKRggZ4-",
        "colab_type": "text"
      },
      "source": [
        "- Note that in case of multiple occurrences of the maximum values, only the index corresponding to the **first occurrence** is returned.\n",
        "\n",
        "### Argmin\n",
        "\n",
        "- Return the indices of the minimum values along an axis."
      ]
    },
    {
      "cell_type": "code",
      "metadata": {
        "id": "AqfGrx0-gZ4-",
        "colab_type": "code",
        "colab": {}
      },
      "source": [
        "import numpy as np\n",
        "\n",
        "a = np.array([[1, 2, 3], [4, 5, 6]])\n",
        "\n",
        "print(np.argmin(a))         # Prints 0\n",
        "print(np.argmin(a, axis=0)) # Prints [0 0 0]\n",
        "print(np.argmin(a, axis=1)) # Prints [0 0]"
      ],
      "execution_count": null,
      "outputs": []
    },
    {
      "cell_type": "markdown",
      "metadata": {
        "id": "IXuFVIQpgZ5A",
        "colab_type": "text"
      },
      "source": [
        "- Note that in case of multiple occurrences of the minimum values, only the index corresponding to the **first occurrence** is returned.\n",
        "\n",
        "### Where\n",
        "\n",
        "- Return elements chosen from `x` or `y` depending on condition.\n",
        "- `np.where()` accepts three arguments: `(condition, x, y)`. It first evaluates the `condition` argument -- if it returns `True`, it yields `x`, otherwise yields `y`."
      ]
    },
    {
      "cell_type": "code",
      "metadata": {
        "id": "qWdLccxxgZ5A",
        "colab_type": "code",
        "colab": {}
      },
      "source": [
        "import numpy as np\n",
        "\n",
        "a = np.array([0, 1, 2, 3, 4, 5])\n",
        "\n",
        "print(np.where(a < 3, a, 10*a)) # Prints [ 0  1  2 30 40 50]"
      ],
      "execution_count": null,
      "outputs": []
    },
    {
      "cell_type": "markdown",
      "metadata": {
        "id": "Y_qPAp7LgZ5B",
        "colab_type": "text"
      },
      "source": [
        "### Pad\n",
        "\n",
        "- Pad an array.\n",
        "- `np.pad()` accepts three arguments: `array, pad_width, mode='constant'`. \n",
        "    - `pad_width` specifies the number of values padded to the edges of each axis. It accepts both an int and a tuple. \n",
        "        - `(pad,)` or simply a `pad` (as an int) is a shortcut for before = after = pad width for all axes.\n",
        "        - `((before_1, after_1), ... (before_N, after_N))` specifies the padding widths for each axis. \n",
        "        - `((before, after),)` yields same before and after padding width for each axis. \n",
        "    - When `mode` is set to `constant` (which is default), an optional parameter `constant_values` let's you specify the padding values for each axis, which has a default of `0` (a.k.a. zero padding). Rather than just an int, `constant_values` accepts a tuple as well:\n",
        "        - `(constant,)` or simply a `constant` (as an int) is a shortcut for `before = after = constant` for all axes. Default is `0`.\n",
        "        - `((before_1, after_1), ... (before_N, after_N))` specifies the unique pad constants for each axis. \n",
        "        - `((before, after),)` yields same before and after constants for each axis."
      ]
    },
    {
      "cell_type": "code",
      "metadata": {
        "id": "AAvNtBbagZ5B",
        "colab_type": "code",
        "colab": {}
      },
      "source": [
        "import numpy as np\n",
        "\n",
        "a = np.array([1, 2, 3, 4, 5])\n",
        "print(np.pad(a, 1, 'constant'))                              # Prints [0 1 2 3 4 5 0]\n",
        "print(np.pad(a, (2, 3), 'constant', constant_values=(4, 6))) # Prints [4 4 0 1 2 3 4 5 6 6 6]\n",
        "\n",
        "a = np.array([[1, 2], [3, 4]])\n",
        "print(np.pad(a, 1, 'constant', constant_values=(4, 6)))      # Prints [[4 4 4 6]\n",
        "                                                             #         [4 1 2 6]\n",
        "                                                             #         [4 3 4 6]\n",
        "                                                             #         [4 6 6 6]]"
      ],
      "execution_count": null,
      "outputs": []
    },
    {
      "cell_type": "markdown",
      "metadata": {
        "id": "NFdWrWELgZ5D",
        "colab_type": "text"
      },
      "source": [
        "### Ravel\n",
        "\n",
        "- Return a **contiguous** flattened array. \n",
        "- Note that `np.ravel()` returns a **view** of the array when the elements are contiguous in memory (just like [`np.reshape()`](#reshape)). So modifying the result of `np.ravel()` would also modify the original array. However, `np.ravel()` returns a copy if, for e.g., the input array were made from slicing another array using a **non-unit** step size (e.g. `a = x[::2]`)."
      ]
    },
    {
      "cell_type": "code",
      "metadata": {
        "id": "i-uhYHZwgZ5D",
        "colab_type": "code",
        "colab": {}
      },
      "source": [
        "import numpy as np\n",
        "\n",
        "a = np.array([[1, 2, 3], [4, 5, 6]])\n",
        "print(np.ravel(a)) # Prints [1, 2, 3, 4, 5, 6]"
      ],
      "execution_count": null,
      "outputs": []
    },
    {
      "cell_type": "markdown",
      "metadata": {
        "id": "wAarxLxMgZ5F",
        "colab_type": "text"
      },
      "source": [
        "- Note that `np.ravel()` is equivalent to `np.reshape(-1)`."
      ]
    },
    {
      "cell_type": "code",
      "metadata": {
        "id": "1CCASDu6gZ5F",
        "colab_type": "code",
        "colab": {}
      },
      "source": [
        "import numpy as np\n",
        "\n",
        "a = np.array([[1, 2, 3], [4, 5, 6]])\n",
        "print(np.reshape(a, -1)) # Prints [1, 2, 3, 4, 5, 6])"
      ],
      "execution_count": null,
      "outputs": []
    },
    {
      "cell_type": "markdown",
      "metadata": {
        "id": "dprTKTeBgZ5G",
        "colab_type": "text"
      },
      "source": [
        "### Unravel Index\n",
        "\n",
        "- Converts a **\"flat\" index** (i.e., an index into the flattened version of an array) into a **tuple of coordinate arrays**.\n",
        "- Background:\n",
        "    - Computer memory is addressed linearly. Each memory cell corresponds to a number. A block of memory can be addressed in terms of a base, which is the memory address of its first element, and the item index. For example, assuming the base address is \\\\(10,000\\\\):"
      ]
    },
    {
      "cell_type": "code",
      "metadata": {
        "id": "ThFVf5xXgZ5G",
        "colab_type": "code",
        "colab": {}
      },
      "source": [
        "```\n",
        "item index      0       1       2       3\n",
        "memory address  10,000  10,001  10,002  10,003\n",
        "```\n",
        "\n",
        "- To store multi-dimensional blocks, their geometry must somehow be made to fit into linear memory. In C and NumPy, this is done row-by-row (which is known as the [row-major order](https://en.wikipedia.org/wiki/Row-_and_column-major_order)). A 2D example would be:\n",
        "\n",
        "```\n",
        "     | 0      1      2      3\n",
        "   --+------------------------\n",
        "   0 | 0      1      2      3\n",
        "   1 | 4      5      6      7\n",
        "   2 | 8      9     10     11\n",
        "```\n",
        "\n",
        "- So, for example, in this 3-by-4 block the 2D index \\\\((1, 2)\\\\) would correspond to the linear index \\\\(6\\\\) which is \\\\(1 \\times 4 + 2\\\\). In general, the linear index is given by: \\\\(\\text{row index }\\times\\text{row length }+\\text{ column index}\\\\).\n",
        "- `np.unravel_index()` does the inverse. Given a linear index, it computes the corresponding coordinates. Since this depends on the block dimensions, these also have to be passed. So, in our example, we can get the original 2D index \\\\((1, 2)\\\\) back from the linear index \\\\(6\\\\): `np.unravel_index(6, (3, 4))) # Prints (1, 2)`"
      ],
      "execution_count": null,
      "outputs": []
    },
    {
      "cell_type": "code",
      "metadata": {
        "id": "OYOIuMCBgZ5J",
        "colab_type": "code",
        "colab": {}
      },
      "source": [
        "import numpy as np\n",
        "\n",
        "# Passing an integer array whose elements are indices into the flattened version of an array\n",
        "print(np.unravel_index([1, 2, 3], (4, 5)) # Prints (array([0, 0, 0]), array([1, 2, 3]))\n",
        "\n",
        "# You're not limited to the 2-dimensional XY co-ordinate space\n",
        "print(np.unravel_index(7, (1, 1, 7)))     # Prints (0, 0, 6)"
      ],
      "execution_count": null,
      "outputs": []
    },
    {
      "cell_type": "markdown",
      "metadata": {
        "id": "53PBinP0gZ5K",
        "colab_type": "text"
      },
      "source": [
        "### Exponential\n",
        "\n",
        "- Calculate the exponential of all elements in the input array."
      ]
    },
    {
      "cell_type": "code",
      "metadata": {
        "id": "aRIFGioCgZ5L",
        "colab_type": "code",
        "colab": {}
      },
      "source": [
        "import numpy as np\n",
        "\n",
        "a = np.array([[1, 2, 3], [4, 5, 6]])\n",
        "\n",
        "print(np.exp(a)) # Prints [[   2.71828183    7.3890561    20.08553692]\n",
        "                 #         [  54.59815003  148.4131591   403.42879349]]"
      ],
      "execution_count": null,
      "outputs": []
    },
    {
      "cell_type": "markdown",
      "metadata": {
        "id": "5cw4XI9GgZ5M",
        "colab_type": "text"
      },
      "source": [
        "### Unique\n",
        "\n",
        "- Find the unique elements of an array."
      ]
    },
    {
      "cell_type": "code",
      "metadata": {
        "id": "NJ3kIMbbgZ5M",
        "colab_type": "code",
        "colab": {}
      },
      "source": [
        "import numpy as np\n",
        "\n",
        "a = np.array([[1, 1, 1], [2, 2, 2]])\n",
        "\n",
        "print(np.unique(a)) # Prints [1 2]"
      ],
      "execution_count": null,
      "outputs": []
    },
    {
      "cell_type": "markdown",
      "metadata": {
        "id": "w7uMDXAigZ5N",
        "colab_type": "text"
      },
      "source": [
        "### Bincount\n",
        "\n",
        "- Count number of occurrences of each value in a one-dimensional array of **non-negative integers**."
      ]
    },
    {
      "cell_type": "code",
      "metadata": {
        "id": "iOQbqMf1gZ5N",
        "colab_type": "code",
        "colab": {}
      },
      "source": [
        "import numpy as np\n",
        "\n",
        "a = np.array([1, 1, 1, 2, 2, 2])\n",
        "\n",
        "print(np.bincount(a)) # Prints [0 3 3]"
      ],
      "execution_count": null,
      "outputs": []
    },
    {
      "cell_type": "markdown",
      "metadata": {
        "id": "feFCYyc_gZ5P",
        "colab_type": "text"
      },
      "source": [
        "### Element-wise square\n",
        "\n",
        "- Return the element-wise square of the input."
      ]
    },
    {
      "cell_type": "code",
      "metadata": {
        "id": "F4PGYEETgZ5P",
        "colab_type": "code",
        "colab": {}
      },
      "source": [
        "import numpy as np\n",
        "\n",
        "a = np.array([[1, 2, 3], [4, 5, 6]])\n",
        "\n",
        "print(np.square(a)) # Prints [[ 1   4  9]\n",
        "                    #         [[16 25 36]]"
      ],
      "execution_count": null,
      "outputs": []
    },
    {
      "cell_type": "markdown",
      "metadata": {
        "id": "4XFkJQqDgZ5R",
        "colab_type": "text"
      },
      "source": [
        "### Element-wise square root\n",
        "\n",
        "- Return the element-wise non-negative square root of an array."
      ]
    },
    {
      "cell_type": "code",
      "metadata": {
        "id": "4ROFFnbHgZ5R",
        "colab_type": "code",
        "colab": {}
      },
      "source": [
        "import numpy as np\n",
        "\n",
        "a = np.array([[1, 4, 9], [16, 25, 36]])\n",
        "\n",
        "print(np.sqrt(a)) # Prints [[1. 2. 3.]\n",
        "                  #         [4. 5. 6.]]"
      ],
      "execution_count": null,
      "outputs": []
    },
    {
      "cell_type": "markdown",
      "metadata": {
        "id": "jaOG4krngZ5V",
        "colab_type": "text"
      },
      "source": [
        "### Split\n",
        "\n",
        "- Split an array into multiple sub-arrays."
      ]
    },
    {
      "cell_type": "code",
      "metadata": {
        "id": "ANJPPyCggZ5V",
        "colab_type": "code",
        "colab": {}
      },
      "source": [
        "import numpy as np\n",
        "\n",
        "a = np.arange(8)\n",
        "\n",
        "print(np.split(a, 2)) # Prints [array([0, 1, 2, 3]), array([4, 5, 6, 7])]"
      ],
      "execution_count": null,
      "outputs": []
    },
    {
      "cell_type": "markdown",
      "metadata": {
        "id": "I-HvHHgFgZ5W",
        "colab_type": "text"
      },
      "source": [
        "### Horizontal split\n",
        "\n",
        "- Split an array into multiple sub-arrays horizontally (column-wise)."
      ]
    },
    {
      "cell_type": "code",
      "metadata": {
        "id": "WcF2BzFAgZ5W",
        "colab_type": "code",
        "colab": {}
      },
      "source": [
        "import numpy as np\n",
        "\n",
        "a = np.arange(4).reshape(2, 2)\n",
        "\n",
        "print(a)               # Prints [[0 1]\n",
        "                       #         [2 3]]\n",
        "\n",
        "print(np.hsplit(a, 2)) # Prints [[0],\n",
        "                       #         [2]],\n",
        "                       #        [[1],\n",
        "                       #         [3]]"
      ],
      "execution_count": null,
      "outputs": []
    },
    {
      "cell_type": "markdown",
      "metadata": {
        "id": "9of7uml_gZ5X",
        "colab_type": "text"
      },
      "source": [
        "### Vertical split\n",
        "\n",
        "- Split an array into multiple sub-arrays vertically (row-wise)."
      ]
    },
    {
      "cell_type": "code",
      "metadata": {
        "id": "n3WDdESFgZ5Y",
        "colab_type": "code",
        "colab": {}
      },
      "source": [
        "import numpy as np\n",
        "\n",
        "a = np.arange(4).reshape(2, 2)\n",
        "\n",
        "print(a)               # Prints [[0 1]\n",
        "                       #         [2 3]]\n",
        "\n",
        "print(np.vsplit(a, 2)) # Prints [array([[0, 1]]), array([[2, 3]])]"
      ],
      "execution_count": null,
      "outputs": []
    },
    {
      "cell_type": "markdown",
      "metadata": {
        "id": "PFKiNpeigZ5b",
        "colab_type": "text"
      },
      "source": [
        "### Stack\n",
        "\n",
        "- Join a sequence of arrays along a new axis. Note that by default, `axis` is set to \\\\(0\\\\) implying it joins arrays row-wise."
      ]
    },
    {
      "cell_type": "code",
      "metadata": {
        "id": "FEJQZK0OgZ5c",
        "colab_type": "code",
        "colab": {}
      },
      "source": [
        "import numpy as np\n",
        "\n",
        "a = np.array([1, 2, 3])\n",
        "b = np.array([4, 5, 6])\n",
        "\n",
        "print ((a,b))                   # Prints (array([1, 2, 3]), array([4, 5, 6]))\n",
        "\n",
        "print(np.stack((a, b)))         # Prints [[1 2 3],\n",
        "                                #         [4 5 6]]\n",
        "\n",
        "# This is the same as above since axis is set to 0 by default\n",
        "print(np.stack((a, b), axis=0)) # Prints [[1 2 3],\n",
        "                                #         [4 5 6]]\n",
        "\n",
        "# np.vstack() matches the output of np.stack().\n",
        "# Note that np.vstack() is discussed in more detail below.\n",
        "print(np.vstack(a, b))          # Prints [[1 2 3],\n",
        "                                #         [4 5 6]]\n",
        "\n",
        "# Joining arrays column-wise.\n",
        "print(np.stack((a, b), axis=1)) # Prints [[1 4],\n",
        "                                #         [2 5],\n",
        "                                #         [3 6]]\n",
        "\n",
        "# np.hstack() does *not* match the output of np.stack().\n",
        "print(np.hstack((a, b)))        # Prints [1 2 3 4 5 6]    "
      ],
      "execution_count": null,
      "outputs": []
    },
    {
      "cell_type": "markdown",
      "metadata": {
        "id": "d_7y9mZUgZ5d",
        "colab_type": "text"
      },
      "source": [
        "### Horizontal stack\n",
        "\n",
        "- Stack arrays in sequence horizontally (column wise).\n",
        "- Note that `np.hstack()` does not accept an `axis` argument."
      ]
    },
    {
      "cell_type": "code",
      "metadata": {
        "id": "ryIm6J8ugZ5d",
        "colab_type": "code",
        "colab": {}
      },
      "source": [
        "import numpy as np\n",
        "\n",
        "a = np.array([1, 2, 3])\n",
        "b = np.array([4, 5, 6])\n",
        "\n",
        "print(np.hstack((a, b))) # Prints [1 2 3 4 5 6]"
      ],
      "execution_count": null,
      "outputs": []
    },
    {
      "cell_type": "markdown",
      "metadata": {
        "id": "y-OeDyDYgZ5e",
        "colab_type": "text"
      },
      "source": [
        "### Vertical stack\n",
        "\n",
        "- Stack arrays in sequence vertically (row wise).\n",
        "- Note that `np.vstack()` does not accept an `axis` argument."
      ]
    },
    {
      "cell_type": "code",
      "metadata": {
        "id": "zeYTgS67gZ5f",
        "colab_type": "code",
        "colab": {}
      },
      "source": [
        "import numpy as np\n",
        "\n",
        "a = np.array([1, 2, 3])\n",
        "b = np.array([4, 5, 6])\n",
        "\n",
        "print(np.vstack((a, b))) # Prints [[1 2 3],\n",
        "                         #         [4 5 6]]"
      ],
      "execution_count": null,
      "outputs": []
    },
    {
      "cell_type": "markdown",
      "metadata": {
        "id": "rWLephXkgZ5h",
        "colab_type": "text"
      },
      "source": [
        "### Concatenate\n",
        "\n",
        "- Join a sequence of arrays along an existing axis."
      ]
    },
    {
      "cell_type": "code",
      "metadata": {
        "id": "x9_ygm2CgZ5h",
        "colab_type": "code",
        "colab": {}
      },
      "source": [
        "import numpy as np\n",
        "\n",
        "a = np.array([[1, 2], [3, 4]])\n",
        "b = np.array([[5, 6]])\n",
        "\n",
        "print(np.concatenate((a, b), axis=0)) # Prints [[[1 2],\n",
        "                                      #          [3 4],\n",
        "                                      #          [5 6]])"
      ],
      "execution_count": null,
      "outputs": []
    },
    {
      "cell_type": "markdown",
      "metadata": {
        "id": "PfCdsUQBgZ5j",
        "colab_type": "text"
      },
      "source": [
        "## References and credits\n",
        "\n",
        "- Parts of this tutorial were originally contributed by [Justin Johnson](http://cs.stanford.edu/people/jcjohns/).\n",
        "- [Stanford CS231n Python/NumPy Tutorial](https://cs231n.github.io/python-numpy-tutorial/) served as a major inspiration for this tutorial.\n",
        "- [NumPy documentation: Broadcasting](https://numpy.org/doc/stable/user/basics.broadcasting.html)\n",
        "- [What is an intuitive explanation of np.unravel_index?](https://stackoverflow.com/questions/48135736/what-is-an-intuitive-explanation-of-np-unravel-index)\n",
        "- [When should I use hstack/vstack vs. append vs. concatenate vs. column_stack?](https://stackoverflow.com/questions/33356442/when-should-i-use-hstack-vstack-vs-append-vs-concatenate-vs-column-stack)\n",
        "- [What is the difference between NumPy's array() and asarray() functions?](https://stackoverflow.com/questions/14415741/what-is-the-difference-between-numpys-array-and-asarray-functions)\n",
        "- [What does -1 mean in NumPy reshape?](https://stackoverflow.com/questions/18691084/what-does-1-mean-in-numpy-reshape)\n",
        "- [Find the most frequent number in a NumPy vector](https://stackoverflow.com/questions/6252280/find-the-most-frequent-number-in-a-numpy-vector)\n",
        "- [NumPy: From ND to 1D arrays](https://stackoverflow.com/questions/13730468/from-nd-to-1d-arrays)"
      ]
    }
  ]
}